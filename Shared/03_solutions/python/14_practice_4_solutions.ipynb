{
 "cells": [
  {
   "cell_type": "markdown",
   "metadata": {},
   "source": [
    "# Bài 14: Practice 4"
   ]
  },
  {
   "cell_type": "markdown",
   "metadata": {},
   "source": [
    "Tất cả các bài tập dưới đây được yêu cầu viết dưới dạng hàm"
   ]
  },
  {
   "cell_type": "markdown",
   "metadata": {},
   "source": [
    "## 1. \n",
    "- Yêu cầu người dùng nhập vào first name\n",
    "- Yêu cầu người dùng nhập tiếp last name\n",
    "- In ra string dạng `\"Hello {first_name}{last_name}\"`"
   ]
  },
  {
   "cell_type": "code",
   "execution_count": 1,
   "metadata": {},
   "outputs": [],
   "source": [
    "def get_full_name():\n",
    "    first_name = input(\"Nhap vao first name: \")\n",
    "    last_name = input(\"Nhap vao last name: \")\n",
    "    \n",
    "    print(\"Hello {} {}\".format(first_name, last_name))"
   ]
  },
  {
   "cell_type": "code",
   "execution_count": 2,
   "metadata": {},
   "outputs": [],
   "source": [
    "# Test here"
   ]
  },
  {
   "cell_type": "markdown",
   "metadata": {},
   "source": [
    "## 2.\n",
    "- Yêu cầu người dùng nhập vào 2 số (int hoặc float) cách nhau bởi dấu phẩy \n",
    "- Trả về tổng của hai số"
   ]
  },
  {
   "cell_type": "code",
   "execution_count": 3,
   "metadata": {},
   "outputs": [],
   "source": [
    "def get_sum():\n",
    "    a = float(input(\"Nhap vao so thu nhat:\"))\n",
    "    b = float(input(\"Nhap vao so thu hai:\"))\n",
    "\n",
    "    return a + b"
   ]
  },
  {
   "cell_type": "code",
   "execution_count": 4,
   "metadata": {},
   "outputs": [],
   "source": [
    "# Test here"
   ]
  },
  {
   "cell_type": "markdown",
   "metadata": {},
   "source": [
    "## 3. \n",
    "- Viết hàm tính tích 1 list các số"
   ]
  },
  {
   "cell_type": "code",
   "execution_count": 5,
   "metadata": {},
   "outputs": [],
   "source": [
    "def get_prod(l):\n",
    "    prod = 1\n",
    "\n",
    "    for x in l:\n",
    "        prod *= x\n",
    "\n",
    "    return prod"
   ]
  },
  {
   "cell_type": "code",
   "execution_count": 6,
   "metadata": {},
   "outputs": [
    {
     "data": {
      "text/plain": [
       "64"
      ]
     },
     "execution_count": 6,
     "metadata": {},
     "output_type": "execute_result"
    }
   ],
   "source": [
    "# Test here\n",
    "get_prod([4, 4, 4])"
   ]
  },
  {
   "cell_type": "markdown",
   "metadata": {},
   "source": [
    "## 4.\n",
    "- Viết hàm nhận vào 1 list/tuple, đếm các số dương, âm, và 0"
   ]
  },
  {
   "cell_type": "code",
   "execution_count": 7,
   "metadata": {},
   "outputs": [],
   "source": [
    "def count_pnz(a):\n",
    "    \"\"\"\n",
    "    Counts number of positive, negative, zeros\n",
    "    Return: (p, n, z)\n",
    "    \"\"\"\n",
    "    positive = 0\n",
    "    negative = 0\n",
    "    zero = 0\n",
    "\n",
    "    for x in a:\n",
    "        if x > 0:\n",
    "            positive += 1\n",
    "        elif x < 0:\n",
    "            negative += 1\n",
    "        else:\n",
    "            zero += 1\n",
    "\n",
    "    return (positive, negative, zero)"
   ]
  },
  {
   "cell_type": "code",
   "execution_count": 8,
   "metadata": {},
   "outputs": [
    {
     "data": {
      "text/plain": [
       "(3, 2, 3)"
      ]
     },
     "execution_count": 8,
     "metadata": {},
     "output_type": "execute_result"
    }
   ],
   "source": [
    "# Test here\n",
    "count_pnz([1, 2, -1, 0, 7, 0, -5, 0])"
   ]
  },
  {
   "cell_type": "markdown",
   "metadata": {},
   "source": [
    "## 5.\n",
    "- Viết hàm tính diện tích hình tròn khi biết bán kính"
   ]
  },
  {
   "cell_type": "code",
   "execution_count": 9,
   "metadata": {},
   "outputs": [],
   "source": [
    "def get_area(r):\n",
    "    import math\n",
    "    return math.pi * (r ** 2)"
   ]
  },
  {
   "cell_type": "code",
   "execution_count": 10,
   "metadata": {},
   "outputs": [
    {
     "data": {
      "text/plain": [
       "314.1592653589793"
      ]
     },
     "execution_count": 10,
     "metadata": {},
     "output_type": "execute_result"
    }
   ],
   "source": [
    "# Test here\n",
    "get_area(10)"
   ]
  },
  {
   "cell_type": "markdown",
   "metadata": {},
   "source": [
    "## 6.\n",
    "- Viết hàm nhận vào 1 list, trả về tổng số lẻ và số chẵn dưới dạng tuple"
   ]
  },
  {
   "cell_type": "code",
   "execution_count": 11,
   "metadata": {},
   "outputs": [],
   "source": [
    "def sum_odd_even(a):\n",
    "    \"\"\"\n",
    "    Computes sum of odds and sum of evens\n",
    "    \n",
    "    Args:\n",
    "        - a: a list of integers\n",
    "        \n",
    "    Returns: (sum of odds, sum of evens)\n",
    "    \"\"\"\n",
    "    # Initialize\n",
    "    odd_total = 0\n",
    "    even_total = 0\n",
    "    \n",
    "    # Compute sum\n",
    "    for x in a:\n",
    "        if x % 2 == 0:\n",
    "            even_total += x\n",
    "        else:\n",
    "            odd_total += x\n",
    "    \n",
    "    # Return\n",
    "    return (odd_total, even_total)"
   ]
  },
  {
   "cell_type": "code",
   "execution_count": 12,
   "metadata": {},
   "outputs": [
    {
     "data": {
      "text/plain": [
       "(-9, 6)"
      ]
     },
     "execution_count": 12,
     "metadata": {},
     "output_type": "execute_result"
    }
   ],
   "source": [
    "# Test here\n",
    "sum_odd_even([1, 2, 4, -3, -7])"
   ]
  },
  {
   "cell_type": "markdown",
   "metadata": {},
   "source": [
    "## 7. \n",
    "- Viết hàm nhận vào 1 list các số. Trả về median \n",
    "- Median là giá trị chính giữa của dataset được sắp xếp\n",
    "- Nếu dataset có số lẻ phần tử: median là giá trị chính giữa\n",
    "- Nếu dataset có số chẵn phần tử: median là trung bình cộng của 2 giá trị chính giữa\n",
    "- Có thể check lại kết quả dùng module `numpy` "
   ]
  },
  {
   "cell_type": "code",
   "execution_count": 13,
   "metadata": {},
   "outputs": [],
   "source": [
    "def get_median(a):\n",
    "    # Sort data\n",
    "    a_sorted = sorted(a)\n",
    "    a_len = len(a)\n",
    "\n",
    "    # Nếu số phần tử của a là chẵn\n",
    "    # Median là trung bình cộng của 2 giá trị giữa của a_sorted\n",
    "    if a_len % 2 == 0:\n",
    "        index = a_len // 2\n",
    "        return (a_sorted[index] + a_sorted[index - 1]) / 2\n",
    "    \n",
    "    # Nếu số phần tử của a là lẻ\n",
    "    # Median là phần tử chính giữa của a_sorted\n",
    "    else: # Co so le phan tu\n",
    "        index = a_len // 2\n",
    "        return a_sorted[index]"
   ]
  },
  {
   "cell_type": "code",
   "execution_count": 14,
   "metadata": {},
   "outputs": [
    {
     "data": {
      "text/plain": [
       "1"
      ]
     },
     "execution_count": 14,
     "metadata": {},
     "output_type": "execute_result"
    }
   ],
   "source": [
    "# Test here (1)\n",
    "get_median([1, 7, -2])"
   ]
  },
  {
   "cell_type": "code",
   "execution_count": 15,
   "metadata": {},
   "outputs": [
    {
     "data": {
      "text/plain": [
       "0.5"
      ]
     },
     "execution_count": 15,
     "metadata": {},
     "output_type": "execute_result"
    }
   ],
   "source": [
    "# Test here (2)\n",
    "get_median([1, 7, -2, 0])"
   ]
  },
  {
   "cell_type": "markdown",
   "metadata": {},
   "source": [
    "## 8.\n",
    "- Viết hàm yêu cầu người dùng nhập tên\n",
    "- Sau đó yêu cầu người dùng gõ vào 'U' hoặc 'L' để chọn cách in ra tên ở dạng upper hoặc lower\n",
    "- Ngoài ra in đúng format như người dùng nhập"
   ]
  },
  {
   "cell_type": "code",
   "execution_count": 16,
   "metadata": {},
   "outputs": [],
   "source": [
    "def get_names():\n",
    "    # Get name\n",
    "    names = input(\"Nhap vao ten:\")\n",
    "    \n",
    "    # Get format\n",
    "    name_format = input(\"Nhap U: in ra upper, nhap L: in ra lower\")\n",
    "    \n",
    "    # Print name\n",
    "    if name_format.upper() == \"U\":\n",
    "        print(\"Ten ban: {}\".format(names.upper()))\n",
    "    elif name_format.upper() == \"L\":\n",
    "        print(\"Ten ban: {}\".format(names.lower()))\n",
    "    else:\n",
    "        print(\"Ten ban: {}\".format(names))"
   ]
  },
  {
   "cell_type": "code",
   "execution_count": 17,
   "metadata": {},
   "outputs": [],
   "source": [
    "# Test here"
   ]
  },
  {
   "cell_type": "markdown",
   "metadata": {},
   "source": [
    "## 9. \n",
    "- Viết hàm kiểm tra xem một string có phải là palindrome hay ko? \n",
    "- Palindrome: \n",
    "    - Đọc từ trái qua phải giống như từ phải qua trái\n",
    "    - Chỉ quan tâm đến chữ cái và thứ tự của chúng, ko quan tâm đến hoa thường, dấu trắng, và các ký tự đặc biệt\n",
    "- VD: \n",
    "    - madam\n",
    "    - racecar\n",
    "    - Do geese see God"
   ]
  },
  {
   "cell_type": "code",
   "execution_count": 18,
   "metadata": {},
   "outputs": [],
   "source": [
    "def check_palindrome(s):\n",
    "    # Create reversed version\n",
    "    s1 = s.lower().replace(\" \", \"\")\n",
    "    s2 = \"\".join(reversed(s1))\n",
    "    \n",
    "    # Check and return\n",
    "    if s1 == s2:\n",
    "        return True\n",
    "    else:\n",
    "        return False"
   ]
  },
  {
   "cell_type": "markdown",
   "metadata": {},
   "source": [
    "#### Test here"
   ]
  },
  {
   "cell_type": "code",
   "execution_count": 19,
   "metadata": {},
   "outputs": [
    {
     "data": {
      "text/plain": [
       "True"
      ]
     },
     "execution_count": 19,
     "metadata": {},
     "output_type": "execute_result"
    }
   ],
   "source": [
    "check_palindrome(\"Do geese see God\")"
   ]
  },
  {
   "cell_type": "code",
   "execution_count": 20,
   "metadata": {},
   "outputs": [
    {
     "data": {
      "text/plain": [
       "True"
      ]
     },
     "execution_count": 20,
     "metadata": {},
     "output_type": "execute_result"
    }
   ],
   "source": [
    "check_palindrome(\"madaM\")"
   ]
  },
  {
   "cell_type": "code",
   "execution_count": 21,
   "metadata": {},
   "outputs": [
    {
     "data": {
      "text/plain": [
       "False"
      ]
     },
     "execution_count": 21,
     "metadata": {},
     "output_type": "execute_result"
    }
   ],
   "source": [
    "check_palindrome(\"hello\")"
   ]
  },
  {
   "cell_type": "markdown",
   "metadata": {},
   "source": [
    "## 10. \n",
    "- Viết hàm nhận vào 1 string. Trả về dictionary đếm số chữ cái và chữ số"
   ]
  },
  {
   "cell_type": "code",
   "execution_count": 22,
   "metadata": {},
   "outputs": [],
   "source": [
    "def count_letters_digits(s):\n",
    "    # Initialize\n",
    "    letters = 0\n",
    "    digits = 0\n",
    "\n",
    "    # Count\n",
    "    for x in s:\n",
    "        if x.isalpha():\n",
    "            letters += 1\n",
    "        elif x.isdecimal():\n",
    "            digits += 1\n",
    "\n",
    "    # Return\n",
    "    return {\"letters\": letters, \"digits\": digits}"
   ]
  },
  {
   "cell_type": "code",
   "execution_count": 23,
   "metadata": {},
   "outputs": [],
   "source": [
    "# Test here\n"
   ]
  },
  {
   "cell_type": "code",
   "execution_count": 24,
   "metadata": {},
   "outputs": [
    {
     "data": {
      "text/plain": [
       "{'letters': 6, 'digits': 7}"
      ]
     },
     "execution_count": 24,
     "metadata": {},
     "output_type": "execute_result"
    }
   ],
   "source": [
    "count_letters_digits(\"10,379 VND and $20\")"
   ]
  },
  {
   "cell_type": "markdown",
   "metadata": {},
   "source": [
    "## 11.\n",
    "\n",
    "- Viết hàm đếm số lượng từ trong một đoạn text. Trả về kết quả dưới dạng dictionary, key là từ, value là số lượng xuất hiện của từ\n",
    "- Giả sử đoạn text chỉ chứa chữ cái, chữ số, và khoảng trắng"
   ]
  },
  {
   "cell_type": "code",
   "execution_count": 25,
   "metadata": {},
   "outputs": [],
   "source": [
    "def count_occurences(s):\n",
    "    # Biến dùng để chứa các từ đã được cleaned\n",
    "    words = []\n",
    "\n",
    "    # Duyệt qua từng từ\n",
    "    for word in s.split():\n",
    "        word_new = \"\"\n",
    "\n",
    "        # Duyệt qua từng ký tự trong từ\n",
    "        for c in word:\n",
    "\n",
    "            # Nếu ký tự là chữ cái hoặc số thì giữ lại\n",
    "            if c.isalnum():\n",
    "                word_new += c\n",
    "\n",
    "        # Sau khi được cleaned, word được nhặt bỏ vào words   \n",
    "        words.append(word_new.lower())\n",
    "\n",
    "    # Đếm số lần xuất hiện của từng từ\n",
    "    d = {}\n",
    "\n",
    "    for word in words:\n",
    "        # Nếu chưa có key, tạo key mới và đếm 1\n",
    "        # (vì đây là lần đầu tiên word được bắt gặp)\n",
    "        if word not in d.keys():\n",
    "            d[word] = 1\n",
    "            \n",
    "        # Nếu đã xuất hiện, tăng số đếm lên 1\n",
    "        else:\n",
    "            d[word] = 1\n",
    "\n",
    "    # Return\n",
    "    return d"
   ]
  },
  {
   "cell_type": "code",
   "execution_count": 26,
   "metadata": {},
   "outputs": [
    {
     "name": "stdout",
     "output_type": "stream",
     "text": [
      "{'giả': 1, 'sử': 1, 'đoạn': 1, 'text': 1, 'chỉ': 1, 'chứa': 1, 'chữ': 1, 'cái': 1, 'số': 1, 'và': 1, 'khoảng': 1, 'trắng': 1}\n"
     ]
    }
   ],
   "source": [
    "# Test here\n",
    "s = \"Giả, sử đoạn text chỉ chứa CHỮ cái, chữ số, và khoảng trắng\"\n",
    "print(count_occurences(s))"
   ]
  },
  {
   "cell_type": "markdown",
   "metadata": {},
   "source": [
    "## 12. \n",
    "- Viết hàm nhận vào 1 list các strings. \n",
    "- Trả về 1 list các string có độ dài dài nhất \n",
    "- Có thể nhiều hơn 1 string nếu các string dài nhất này có độ dài như nhau"
   ]
  },
  {
   "cell_type": "code",
   "execution_count": 27,
   "metadata": {},
   "outputs": [],
   "source": [
    "def get_longest_string(a):\n",
    "    # List rỗng để chứa string dài nhất\n",
    "    r = []\n",
    "    \n",
    "    # Ban đầu coi như độ dài string dài nhất là 0\n",
    "    max_len = 0\n",
    "\n",
    "    # Duyệt qua từng string\n",
    "    for line in a:\n",
    "        \n",
    "        # Ở mỗi lần duyệt, nếu chiều dài string đang xét = max_len\n",
    "        # thì append string này vào r (vì cùng độ dài với string dài nhất ghi nhận được)\n",
    "        if len(line) == max_len:\n",
    "            r.append(line)\n",
    "            \n",
    "        # Nếu chiều dài string đang xét > max_len\n",
    "        # thì bỏ hết kết quả đã lư trong r, vì bây giờ có string khác dài hơn\n",
    "        # đồng thời reset lại max_len bằng với độ dài của string mới ghi nhận được\n",
    "        elif len(line) > max_len:\n",
    "            r = [line]\n",
    "            max_len = len(line)\n",
    "            \n",
    "    # Return\n",
    "    return r"
   ]
  },
  {
   "cell_type": "code",
   "execution_count": 28,
   "metadata": {},
   "outputs": [
    {
     "data": {
      "text/plain": [
       "['Sentence 1', 'Sentence 2']"
      ]
     },
     "execution_count": 28,
     "metadata": {},
     "output_type": "execute_result"
    }
   ],
   "source": [
    "# Test here (1)\n",
    "a = [\n",
    "    \"Short\",\n",
    "    \"Sentence 1\",\n",
    "    \"Sentence 2\"\n",
    "]\n",
    "\n",
    "get_longest_string(a)"
   ]
  },
  {
   "cell_type": "code",
   "execution_count": 29,
   "metadata": {},
   "outputs": [
    {
     "data": {
      "text/plain": [
       "['Sentence 3 (a little longer)']"
      ]
     },
     "execution_count": 29,
     "metadata": {},
     "output_type": "execute_result"
    }
   ],
   "source": [
    "# Test here (2)\n",
    "a = [\n",
    "    \"Short\",\n",
    "    \"Sentence 1\",\n",
    "    \"Sentence 2\",\n",
    "    \"Sentence 3 (a little longer)\"\n",
    "]\n",
    "\n",
    "get_longest_string(a)"
   ]
  },
  {
   "cell_type": "markdown",
   "metadata": {},
   "source": [
    "## 13.\n",
    "- Viết hàm nhận vào 1 list các số. Trả về vị trí của số âm đầu tiên trong list (đếm từ 1). \n",
    "- Nếu không có số âm nào, trả về None"
   ]
  },
  {
   "cell_type": "code",
   "execution_count": 30,
   "metadata": {},
   "outputs": [],
   "source": [
    "def get_first_negative_position(a):\n",
    "    # Duyệt qua từng phần tử\n",
    "    for i, x in enumerate(a):\n",
    "        # Nếu bắt gặp số âm, return vị trí số âm\n",
    "        if x < 0:\n",
    "            return i + 1\n",
    "        \n",
    "    # Nếu sau khi duyệt hết list mà vẫn ko thấy số âm nào\n",
    "    # thì return None\n",
    "    return None"
   ]
  },
  {
   "cell_type": "code",
   "execution_count": 31,
   "metadata": {},
   "outputs": [
    {
     "data": {
      "text/plain": [
       "3"
      ]
     },
     "execution_count": 31,
     "metadata": {},
     "output_type": "execute_result"
    }
   ],
   "source": [
    "# Test here (1)\n",
    "get_first_negative_position([1, 2, -4, 7, 6])"
   ]
  },
  {
   "cell_type": "code",
   "execution_count": 32,
   "metadata": {},
   "outputs": [],
   "source": [
    "# Test here (1)\n",
    "get_first_negative_position([1, 2, 4, 7, 6])"
   ]
  },
  {
   "cell_type": "markdown",
   "metadata": {},
   "source": [
    "## 14. \n",
    "- Viết hàm nhận vào địa chỉ email và trả về domain của email. \n",
    "- VD: username@example.com sẽ trả về example.com"
   ]
  },
  {
   "cell_type": "code",
   "execution_count": 33,
   "metadata": {},
   "outputs": [],
   "source": [
    "def get_email_domain(email):\n",
    "    return email.split(\"@\")[-1]"
   ]
  },
  {
   "cell_type": "code",
   "execution_count": 34,
   "metadata": {},
   "outputs": [
    {
     "data": {
      "text/plain": [
       "'gmail.com'"
      ]
     },
     "execution_count": 34,
     "metadata": {},
     "output_type": "execute_result"
    }
   ],
   "source": [
    "# Test here\n",
    "get_email_domain(\"somebody@gmail.com\")"
   ]
  },
  {
   "cell_type": "markdown",
   "metadata": {},
   "source": [
    "## 15.\n",
    "\n",
    "- Viết hàm yêu cầu người dùng nhập vào 1 số. \n",
    "- Sau đó hiện ra dòng \"Again?\" để hỏi người dùng muốn nhập tiếp không.\n",
    "- Nếu người dùng gõ \"Y\" thì cho người dùng nhập tiếp. \n",
    "- Nếu gõ bất kỳ ký tự gì khác thì dừng và in ra tổng các số người dùng đã nhập. (ko phân biệt hoa thường)"
   ]
  },
  {
   "cell_type": "code",
   "execution_count": 35,
   "metadata": {},
   "outputs": [],
   "source": [
    "def input_and_sum():\n",
    "    # List rỗng để chứa số người dùng nhập\n",
    "    numbers = []\n",
    "    \n",
    "    # Lặp đến khi nào người dùng không muốn nhập nữa\n",
    "    while True:\n",
    "        # Thêm số\n",
    "        num = float(input(\"Nhập vào 1 số (chú ý phải là số):\"))\n",
    "        numbers.append(num)\n",
    "        \n",
    "        # Nhập nữa hoặc dừng\n",
    "        option = input(\"Again? nhập Y để tiếp tục thêm số\")\n",
    "        \n",
    "        if option.upper() == \"Y\":\n",
    "            break\n",
    "    \n",
    "    # Sau khi dừng, tính tổng\n",
    "    total = 0\n",
    "    \n",
    "    for x in numbers:\n",
    "        total += x\n",
    "        \n",
    "    # Return\n",
    "    return total"
   ]
  },
  {
   "cell_type": "code",
   "execution_count": 36,
   "metadata": {},
   "outputs": [],
   "source": [
    "# Test here"
   ]
  },
  {
   "cell_type": "markdown",
   "metadata": {},
   "source": [
    "## 16.\n",
    "- Viết hàm nhận vào 1 list các string và tên filename với extension .txt. \n",
    "- Ghi mỗi phần tử của string vào 1 dòng trong file và lưu xuống đĩa. \n",
    "- Lưu ý dòng cuối không có ký tự xuống dòng"
   ]
  },
  {
   "cell_type": "code",
   "execution_count": 37,
   "metadata": {},
   "outputs": [],
   "source": [
    "def save_list_to_file(a, file_name):\n",
    "    # Thêm ký tự EOL cho mỗi dòng của a\n",
    "    # Trừ dòng cuối\n",
    "    a_new = []\n",
    "    \n",
    "    for line in a[:-1]:\n",
    "        a_new.append(line + \"\\n\")\n",
    "        \n",
    "    a_new.append(a[-1])\n",
    "    \n",
    "    # Ghi file\n",
    "    with open(file_name, \"w\") as f:\n",
    "        f.writelines(a_new)"
   ]
  },
  {
   "cell_type": "code",
   "execution_count": 38,
   "metadata": {},
   "outputs": [],
   "source": [
    "# Test here\n",
    "a = [\n",
    "    \"Line 1\",\n",
    "    \"Line 2\",\n",
    "    \"Line 3\"\n",
    "]\n",
    "\n",
    "save_list_to_file(a, \"list_to_file.txt\")"
   ]
  },
  {
   "cell_type": "markdown",
   "metadata": {},
   "source": [
    "## 17.\n",
    "- Viết hàm tính ước số chung lớn nhất của 2 số nguyên\n",
    "- Ước số chung lớn nhất (GCD): Greatest Common Divisor\n",
    "- GCD là số nguyên dương nhỏ nhất mà cả 2 số đều chia hết"
   ]
  },
  {
   "cell_type": "code",
   "execution_count": 39,
   "metadata": {},
   "outputs": [],
   "source": [
    "def get_gcd(a, b):\n",
    "    \"\"\"\n",
    "    1) GCD nhỏ nhất sẽ bằng 1\n",
    "    2) GCD lớn nhất sẽ bằng số nhỏ hơn trong 2 số a hoặc b\n",
    "    Vì vậy khởi tạo gcd = min(a, b)\n",
    "    Sau đó chạy vòng for lùi từ min(a, b) về 1\n",
    "    Nếu bắt gặp số nào chia hết bởi cả a và b thì dừng\n",
    "    Đó chính là gcd\n",
    "    \"\"\"\n",
    "    max_gcd = min(abs(a), abs(b))\n",
    "    for x in range(max_gcd, 0, -1):\n",
    "        if (a % x == 0) and (b % x == 0):\n",
    "            return x"
   ]
  },
  {
   "cell_type": "code",
   "execution_count": 40,
   "metadata": {},
   "outputs": [
    {
     "data": {
      "text/plain": [
       "1"
      ]
     },
     "execution_count": 40,
     "metadata": {},
     "output_type": "execute_result"
    }
   ],
   "source": [
    "# Test here (1)\n",
    "get_gcd(7, 8)"
   ]
  },
  {
   "cell_type": "code",
   "execution_count": 41,
   "metadata": {},
   "outputs": [
    {
     "data": {
      "text/plain": [
       "4"
      ]
     },
     "execution_count": 41,
     "metadata": {},
     "output_type": "execute_result"
    }
   ],
   "source": [
    "# Test here (2)\n",
    "get_gcd(4, 8)"
   ]
  },
  {
   "cell_type": "code",
   "execution_count": 42,
   "metadata": {},
   "outputs": [
    {
     "data": {
      "text/plain": [
       "3"
      ]
     },
     "execution_count": 42,
     "metadata": {},
     "output_type": "execute_result"
    }
   ],
   "source": [
    "# Test here (3)\n",
    "get_gcd(6, 9)"
   ]
  },
  {
   "cell_type": "markdown",
   "metadata": {},
   "source": [
    "## 18.\n",
    "- Viết hàm tính tiền giá grab\n",
    "- Base price: 12000 VND\n",
    "- Cộng thêm 5000VND cho mỗi km kể từ km thứ 2"
   ]
  },
  {
   "cell_type": "code",
   "execution_count": 43,
   "metadata": {},
   "outputs": [],
   "source": [
    "def compute_grab_fee(km):\n",
    "    total_fee = 12000\n",
    "    \n",
    "    if km > 1:\n",
    "        total_fee += 5000 * (km - 1)\n",
    "        \n",
    "    return total_fee"
   ]
  },
  {
   "cell_type": "code",
   "execution_count": 44,
   "metadata": {},
   "outputs": [
    {
     "data": {
      "text/plain": [
       "12000"
      ]
     },
     "execution_count": 44,
     "metadata": {},
     "output_type": "execute_result"
    }
   ],
   "source": [
    "# Test here (1)\n",
    "compute_grab_fee(0.5)"
   ]
  },
  {
   "cell_type": "code",
   "execution_count": 45,
   "metadata": {},
   "outputs": [
    {
     "data": {
      "text/plain": [
       "12000"
      ]
     },
     "execution_count": 45,
     "metadata": {},
     "output_type": "execute_result"
    }
   ],
   "source": [
    "# Test here (2)\n",
    "compute_grab_fee(1)"
   ]
  },
  {
   "cell_type": "code",
   "execution_count": 46,
   "metadata": {},
   "outputs": [
    {
     "data": {
      "text/plain": [
       "22000"
      ]
     },
     "execution_count": 46,
     "metadata": {},
     "output_type": "execute_result"
    }
   ],
   "source": [
    "# Test here (3)\n",
    "compute_grab_fee(3)"
   ]
  },
  {
   "cell_type": "code",
   "execution_count": 47,
   "metadata": {},
   "outputs": [
    {
     "data": {
      "text/plain": [
       "14500.0"
      ]
     },
     "execution_count": 47,
     "metadata": {},
     "output_type": "execute_result"
    }
   ],
   "source": [
    "# Test here (4)\n",
    "compute_grab_fee(1.5)"
   ]
  },
  {
   "cell_type": "markdown",
   "metadata": {},
   "source": [
    "## 19. \n",
    "- Viết hàm nhận vào 1 list, trả về list không có phần tử trùng"
   ]
  },
  {
   "cell_type": "code",
   "execution_count": 48,
   "metadata": {},
   "outputs": [],
   "source": [
    "def remove_duplicates(a):\n",
    "    return list(set(a))"
   ]
  },
  {
   "cell_type": "code",
   "execution_count": 49,
   "metadata": {},
   "outputs": [
    {
     "data": {
      "text/plain": [
       "[1, 2, 3, 5, 7]"
      ]
     },
     "execution_count": 49,
     "metadata": {},
     "output_type": "execute_result"
    }
   ],
   "source": [
    "# Test here\n",
    "remove_duplicates([1, 2, 1, 3, 7, 1, 7, 2, 5])"
   ]
  },
  {
   "cell_type": "markdown",
   "metadata": {},
   "source": [
    "## 20.\n",
    "\n",
    "- Viết hàm nhận vào 1 list các số. \n",
    "- In ra trung bình, các số nhỏ hơn trung bình, và các số lớn hơn (hoặc bằng) trung bình theo format sau:\n",
    "\n",
    "```\n",
    "1. Average: 4.153846153846154\n",
    "--------------------\n",
    "2. < Average: [1, 3, 4, -2, 0, 1, 2, 3, 4]\n",
    "--------------------\n",
    "3. >= Average: [7, 15, 9, 7]\n",
    "```\n"
   ]
  },
  {
   "cell_type": "code",
   "execution_count": 50,
   "metadata": {},
   "outputs": [],
   "source": [
    "def print_statistics(a):\n",
    "    # Tính average\n",
    "    avg = sum(a) / len(a)\n",
    "    \n",
    "    # Lọc ra ác số >= avg\n",
    "    above = [x for x in a if x >= avg]\n",
    "    \n",
    "    # Lọc ra các số < avg\n",
    "    below = [x for x in a if x < avg]\n",
    "    \n",
    "    # In stats\n",
    "    print(\"1. Average: {}\".format(avg))\n",
    "    print(\"--------------------\")\n",
    "    \n",
    "    print(\"2. < Average: {}\".format(below))\n",
    "    print(\"--------------------\")\n",
    "    \n",
    "    print(\"3. >= Average: {}\".format(above))"
   ]
  },
  {
   "cell_type": "code",
   "execution_count": 51,
   "metadata": {},
   "outputs": [
    {
     "name": "stdout",
     "output_type": "stream",
     "text": [
      "1. Average: 4.153846153846154\n",
      "--------------------\n",
      "2. < Average: [1, 3, 4, -2, 0, 1, 2, 3, 4]\n",
      "--------------------\n",
      "3. >= Average: [7, 15, 9, 7]\n"
     ]
    }
   ],
   "source": [
    "# Test here\n",
    "a = [1, 3, 4, -2, 0, 1, 2, 3, 4, 7, 15, 9, 7]\n",
    "print_statistics(a)"
   ]
  },
  {
   "cell_type": "markdown",
   "metadata": {},
   "source": [
    "## 21.\n",
    "- Viết hàm nhận vào 1 số float, trả về phần nguyên và phần thập phân\n",
    "- Ví dụ: 123.315 --> return (123, 0.315)"
   ]
  },
  {
   "cell_type": "code",
   "execution_count": 52,
   "metadata": {},
   "outputs": [],
   "source": [
    "def get_integer_decimal_parts(num):\n",
    "    parts = str(num).split(\".\")\n",
    "    integer_part = int(parts[0])\n",
    "    decimal_part = float(\".\" + parts[1])\n",
    "    \n",
    "    return (integer_part, decimal_part)"
   ]
  },
  {
   "cell_type": "code",
   "execution_count": 53,
   "metadata": {},
   "outputs": [
    {
     "data": {
      "text/plain": [
       "(123, 0.315)"
      ]
     },
     "execution_count": 53,
     "metadata": {},
     "output_type": "execute_result"
    }
   ],
   "source": [
    "# Test here\n",
    "get_integer_decimal_parts(123.315)"
   ]
  }
 ],
 "metadata": {
  "kernelspec": {
   "display_name": "Python 3",
   "language": "python",
   "name": "python3"
  },
  "language_info": {
   "codemirror_mode": {
    "name": "ipython",
    "version": 3
   },
   "file_extension": ".py",
   "mimetype": "text/x-python",
   "name": "python",
   "nbconvert_exporter": "python",
   "pygments_lexer": "ipython3",
   "version": "3.8.3"
  }
 },
 "nbformat": 4,
 "nbformat_minor": 4
}
