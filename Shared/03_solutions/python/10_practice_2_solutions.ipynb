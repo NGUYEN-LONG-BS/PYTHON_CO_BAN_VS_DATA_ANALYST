{
 "cells": [
  {
   "cell_type": "markdown",
   "metadata": {},
   "source": [
    "# Bài 10: Practice 2"
   ]
  },
  {
   "cell_type": "markdown",
   "metadata": {},
   "source": [
    "## 1. Lists"
   ]
  },
  {
   "cell_type": "markdown",
   "metadata": {},
   "source": [
    "### Bài 1: \n",
    "\n",
    "1. Tạo list `l` gồm các phần tử `[2, 10.5, \"apple\", [1, 2], True]`\n",
    "1. In ra các `l`\n",
    "1. In ra phần tử đầu tiên\n",
    "1. In ra phần thứ 3\n",
    "1. In ra phần thứ 6\n",
    "1. In ra phần tử cuối cùng\n",
    "1. Slice từ phần tử thứ 2 đến thứ 4 (tức lấy ra phần tử thứ 2, 3, 4)\n",
    "1. Kiểm tra 2 có nằm trong `l`\n",
    "1. Kiểm tra `'banana'` có trong `l`"
   ]
  },
  {
   "cell_type": "code",
   "execution_count": 1,
   "metadata": {},
   "outputs": [],
   "source": [
    "# 1. Initialize\n",
    "l = [2, 10.5, \"apple\", [1, 2], True]"
   ]
  },
  {
   "cell_type": "code",
   "execution_count": 2,
   "metadata": {},
   "outputs": [
    {
     "data": {
      "text/plain": [
       "[2, 10.5, 'apple', [1, 2], True]"
      ]
     },
     "execution_count": 2,
     "metadata": {},
     "output_type": "execute_result"
    }
   ],
   "source": [
    "# 2. Print\n",
    "l"
   ]
  },
  {
   "cell_type": "code",
   "execution_count": 3,
   "metadata": {},
   "outputs": [
    {
     "data": {
      "text/plain": [
       "[2, 10.5, 'apple']"
      ]
     },
     "execution_count": 3,
     "metadata": {},
     "output_type": "execute_result"
    }
   ],
   "source": [
    "# 3. First 3 elements\n",
    "l[:3]"
   ]
  },
  {
   "cell_type": "code",
   "execution_count": 4,
   "metadata": {},
   "outputs": [
    {
     "data": {
      "text/plain": [
       "'apple'"
      ]
     },
     "execution_count": 4,
     "metadata": {},
     "output_type": "execute_result"
    }
   ],
   "source": [
    "# 4. Third element\n",
    "l[2]"
   ]
  },
  {
   "cell_type": "code",
   "execution_count": 5,
   "metadata": {},
   "outputs": [],
   "source": [
    "# 5. Sixth element\n",
    "# Error: index out of range"
   ]
  },
  {
   "cell_type": "code",
   "execution_count": 6,
   "metadata": {},
   "outputs": [
    {
     "data": {
      "text/plain": [
       "True"
      ]
     },
     "execution_count": 6,
     "metadata": {},
     "output_type": "execute_result"
    }
   ],
   "source": [
    "# 6. Last element\n",
    "l[-1]"
   ]
  },
  {
   "cell_type": "code",
   "execution_count": 7,
   "metadata": {},
   "outputs": [
    {
     "data": {
      "text/plain": [
       "[10.5, 'apple', [1, 2]]"
      ]
     },
     "execution_count": 7,
     "metadata": {},
     "output_type": "execute_result"
    }
   ],
   "source": [
    "# 7. Slice 2nd-4th elements\n",
    "l[1:4]"
   ]
  },
  {
   "cell_type": "code",
   "execution_count": 8,
   "metadata": {},
   "outputs": [
    {
     "data": {
      "text/plain": [
       "True"
      ]
     },
     "execution_count": 8,
     "metadata": {},
     "output_type": "execute_result"
    }
   ],
   "source": [
    "# 8. Check if 2 is in l\n",
    "2 in l"
   ]
  },
  {
   "cell_type": "code",
   "execution_count": 9,
   "metadata": {},
   "outputs": [
    {
     "data": {
      "text/plain": [
       "False"
      ]
     },
     "execution_count": 9,
     "metadata": {},
     "output_type": "execute_result"
    }
   ],
   "source": [
    "# 9. Check if 'banana' is in l\n",
    "\"banana\" in l"
   ]
  },
  {
   "cell_type": "markdown",
   "metadata": {},
   "source": [
    "### Bài 2:\n",
    "\n",
    "1. Tạo list `l` gồm các phần tử `[2, 10.5, \"apple\", [1, 2], True]`\n",
    "1. Tạo list `l2` là shallow copy của `l` bằng 3 cách (gợi ý: dùng ép kiểu, slice, và copy)\n",
    "1. `l` và `l2` có cùng identity không? Tạo sao? Kiểm tra bằng cách nào?\n",
    "1. Thay đổi phần tử đầu tiên của `l` thành `99`\n",
    "1. In ra `l` và `l2`\n",
    "1. Nhận xét content 2 list này có giống nhau ko? Vì sao?"
   ]
  },
  {
   "cell_type": "code",
   "execution_count": 10,
   "metadata": {},
   "outputs": [],
   "source": [
    "# 1. Initialize\n",
    "l = [2, 10.5, \"apple\", [1, 2], True]"
   ]
  },
  {
   "cell_type": "code",
   "execution_count": 11,
   "metadata": {},
   "outputs": [],
   "source": [
    "# 2. Make a shallow copy\n",
    "# Method 1\n",
    "l2 = l.copy()\n",
    "\n",
    "# Method 2\n",
    "l2 = l[:]\n",
    "\n",
    "# Method 3\n",
    "l2 = list(l)"
   ]
  },
  {
   "cell_type": "code",
   "execution_count": 12,
   "metadata": {},
   "outputs": [
    {
     "name": "stdout",
     "output_type": "stream",
     "text": [
      "2191090481152\n",
      "2191091081408\n",
      "False\n"
     ]
    }
   ],
   "source": [
    "# 3. Check identity\n",
    "print(id(l))\n",
    "print(id(l2))\n",
    "print(l is l2)"
   ]
  },
  {
   "cell_type": "code",
   "execution_count": 13,
   "metadata": {},
   "outputs": [],
   "source": [
    "# 4. Change l[0] to 99\n",
    "l[0] = 99"
   ]
  },
  {
   "cell_type": "code",
   "execution_count": 14,
   "metadata": {},
   "outputs": [
    {
     "name": "stdout",
     "output_type": "stream",
     "text": [
      "[99, 10.5, 'apple', [1, 2], True]\n",
      "[2, 10.5, 'apple', [1, 2], True]\n"
     ]
    }
   ],
   "source": [
    "# 5. Print l and l2\n",
    "print(l)\n",
    "print(l2)"
   ]
  },
  {
   "cell_type": "markdown",
   "metadata": {},
   "source": [
    "6. Nhận xét\n",
    "\n",
    "- Trước phép gán `l[0] = 99`, thì `l[0]` và `l2[0]` cùng trỏ tới một object (tạm gọi là `O1`) chứa value `2`\n",
    "- Khi phép gán xảy ra, nhãn `l[0]` được gỡ ra khỏi `O1`, và dán vào object khác (tạm gọi là `O2`) chứa value `99`\n",
    "- Tuy nhiên, không có phép gán nào xảy ra với `l2[0]`, nên nhãn `l2[0]` vẫn trỏ tới `O1`"
   ]
  },
  {
   "cell_type": "code",
   "execution_count": 15,
   "metadata": {},
   "outputs": [
    {
     "data": {
      "text/plain": [
       "140724723991392"
      ]
     },
     "execution_count": 15,
     "metadata": {},
     "output_type": "execute_result"
    }
   ],
   "source": [
    "# Địa chỉ (ID) của O1\n",
    "id(l[0])"
   ]
  },
  {
   "cell_type": "code",
   "execution_count": 16,
   "metadata": {},
   "outputs": [
    {
     "data": {
      "text/plain": [
       "140724723988288"
      ]
     },
     "execution_count": 16,
     "metadata": {},
     "output_type": "execute_result"
    }
   ],
   "source": [
    "# Địa chỉ (ID) của O2\n",
    "id(l2[0])"
   ]
  },
  {
   "cell_type": "markdown",
   "metadata": {},
   "source": [
    "### Bài 3:\n",
    "\n",
    "1. Tạo list `l` gồm các phần tử `[2, 10.5, \"apple\", [1, 2], True]`\n",
    "1. Tạo list `l2` bằng phép gán `l2 = l`\n",
    "1. `l` và `l2` có cùng identity không? Tạo sao? Kiểm tra bằng cách nào?\n",
    "1. Thay đổi phần tử đầu tiên của `l` thành `99`\n",
    "1. In ra `l` và `l2`\n",
    "1. Nhận xét content 2 list này có giống nhau ko? Vì sao?"
   ]
  },
  {
   "cell_type": "code",
   "execution_count": 17,
   "metadata": {},
   "outputs": [],
   "source": [
    "# 1. Initialize\n",
    "l = [2, 10.5, \"apple\", [1, 2], True]"
   ]
  },
  {
   "cell_type": "code",
   "execution_count": 18,
   "metadata": {},
   "outputs": [],
   "source": [
    "# 2. Assign\n",
    "l2 = l"
   ]
  },
  {
   "cell_type": "code",
   "execution_count": 19,
   "metadata": {},
   "outputs": [
    {
     "name": "stdout",
     "output_type": "stream",
     "text": [
      "2191090497280\n",
      "2191090497280\n",
      "True\n"
     ]
    }
   ],
   "source": [
    "# 3. Check identity\n",
    "# Same ID, vì phép gán l2 = l không tạo copy\n",
    "# l và l2 là 2 nhãn dán cùng lên 1 object\n",
    "\n",
    "print(id(l))\n",
    "print(id(l2))\n",
    "print(l is l2)"
   ]
  },
  {
   "cell_type": "code",
   "execution_count": 20,
   "metadata": {},
   "outputs": [],
   "source": [
    "# 4. Change l[0] to 99\n",
    "l[0] = 99"
   ]
  },
  {
   "cell_type": "code",
   "execution_count": 21,
   "metadata": {},
   "outputs": [
    {
     "name": "stdout",
     "output_type": "stream",
     "text": [
      "[99, 10.5, 'apple', [1, 2], True]\n",
      "[99, 10.5, 'apple', [1, 2], True]\n"
     ]
    }
   ],
   "source": [
    "# 5. Check contents\n",
    "print(l)\n",
    "print(l2)"
   ]
  },
  {
   "cell_type": "code",
   "execution_count": 22,
   "metadata": {},
   "outputs": [],
   "source": [
    "# 6. Why same contents?\n",
    "# Vì l và l2 thực chất là 2 tên (nhãn) ứng với cùng 1 object\n",
    "# Nên những thay đổi thông qua một nhãn sẽ được phản ánh ở nhãn còn lại"
   ]
  },
  {
   "cell_type": "markdown",
   "metadata": {},
   "source": [
    "### Bài 4:\n",
    "\n",
    "1. Tạo list `l` gồm các phần tử `[2, 10.5, \"apple\", [1, 2], True]`\n",
    "1. Thêm `'A'` vào cuối `l`. In ra `l`\n",
    "1. Thêm `'B'` vào vị trí thứ 3. In ra `l`\n",
    "1. Xóa phần tử cuối cùng ra khỏi list. In ra `l`\n",
    "1. Trong 1 câu lệnh, lấy ra phần tử cuối cùng của `l`, lưu vào biến `last_element` và đồng thời xóa phần tử này khỏi `l`. In ra `l` và `last_element`\n",
    "1. Xóa phần tử `'apple'` ra khỏi `l`\n",
    "1. Thêm 3 phần tử sau vào `l`: `1000, 2000, 3000`"
   ]
  },
  {
   "cell_type": "code",
   "execution_count": 23,
   "metadata": {},
   "outputs": [],
   "source": [
    "# 1. Initialize\n",
    "l = [2, 10.5, \"apple\", [1, 2], True]"
   ]
  },
  {
   "cell_type": "code",
   "execution_count": 24,
   "metadata": {},
   "outputs": [
    {
     "data": {
      "text/plain": [
       "[2, 10.5, 'apple', [1, 2], True, 'A']"
      ]
     },
     "execution_count": 24,
     "metadata": {},
     "output_type": "execute_result"
    }
   ],
   "source": [
    "# 2. Append element\n",
    "l.append(\"A\")\n",
    "\n",
    "# Print\n",
    "l"
   ]
  },
  {
   "cell_type": "code",
   "execution_count": 25,
   "metadata": {},
   "outputs": [
    {
     "data": {
      "text/plain": [
       "[2, 10.5, 'B', 'apple', [1, 2], True, 'A']"
      ]
     },
     "execution_count": 25,
     "metadata": {},
     "output_type": "execute_result"
    }
   ],
   "source": [
    "# 3. Insert element\n",
    "l.insert(2, \"B\")\n",
    "\n",
    "# Print\n",
    "l"
   ]
  },
  {
   "cell_type": "code",
   "execution_count": 26,
   "metadata": {},
   "outputs": [
    {
     "data": {
      "text/plain": [
       "[2, 10.5, 'B', 'apple', [1, 2], True]"
      ]
     },
     "execution_count": 26,
     "metadata": {},
     "output_type": "execute_result"
    }
   ],
   "source": [
    "# 4. Delete element\n",
    "del l[-1]\n",
    "\n",
    "# Print\n",
    "l"
   ]
  },
  {
   "cell_type": "code",
   "execution_count": 27,
   "metadata": {},
   "outputs": [
    {
     "name": "stdout",
     "output_type": "stream",
     "text": [
      "True\n",
      "[2, 10.5, 'B', 'apple', [1, 2]]\n"
     ]
    }
   ],
   "source": [
    "# 5. Pop element\n",
    "last_element = l.pop()\n",
    "\n",
    "# Print\n",
    "print(last_element)\n",
    "print(l)"
   ]
  },
  {
   "cell_type": "code",
   "execution_count": 28,
   "metadata": {},
   "outputs": [
    {
     "data": {
      "text/plain": [
       "[2, 10.5, 'B', [1, 2]]"
      ]
     },
     "execution_count": 28,
     "metadata": {},
     "output_type": "execute_result"
    }
   ],
   "source": [
    "# 6. Remove element\n",
    "if \"apple\" in l:\n",
    "    l.remove(\"apple\")\n",
    "    \n",
    "# Print\n",
    "l"
   ]
  },
  {
   "cell_type": "code",
   "execution_count": 29,
   "metadata": {},
   "outputs": [
    {
     "data": {
      "text/plain": [
       "[2, 10.5, 'B', [1, 2], 1000, 2000, 3000]"
      ]
     },
     "execution_count": 29,
     "metadata": {},
     "output_type": "execute_result"
    }
   ],
   "source": [
    "# 7. Extend the list\n",
    "l.extend([1000, 2000, 3000])\n",
    "\n",
    "# Print\n",
    "l"
   ]
  },
  {
   "cell_type": "markdown",
   "metadata": {},
   "source": [
    "### Bài 5:\n",
    "\n",
    "1. Tạo list `l` gồm gồm các phần tử `[1, -2, 0, 15, 70, 3.5]`\n",
    "1. Tạo `l2` chứa các phần tử đã được sắp xếp của `l` theo thứ tự tăng dần (không thay đổi l). In ra `l`, `l2`\n",
    "1. Tạo `l2` chứa các phần tử đã được sắp xếp của `l` theo thứ tự giảm dần (không thay đổi l). In ra `l`, `l2`\n",
    "1. Sắp xếp `l` theo thứ tự tăng dần (lưu thay đổi). In ra `l`\n",
    "1. Sắp xếp `l` theo thứ tự giảm dần (lưu thay đổi). In ra `l`"
   ]
  },
  {
   "cell_type": "code",
   "execution_count": 30,
   "metadata": {},
   "outputs": [],
   "source": [
    "# 1. Initialize\n",
    "l = [1, -2, 0, 15, 70, 3.5]"
   ]
  },
  {
   "cell_type": "code",
   "execution_count": 31,
   "metadata": {},
   "outputs": [
    {
     "name": "stdout",
     "output_type": "stream",
     "text": [
      "[-2, 0, 1, 3.5, 15, 70]\n"
     ]
    }
   ],
   "source": [
    "# 2. Sort l (ascending), but do not change l\n",
    "l2 = sorted(l)\n",
    "\n",
    "# Print\n",
    "print(l2)"
   ]
  },
  {
   "cell_type": "code",
   "execution_count": 32,
   "metadata": {},
   "outputs": [
    {
     "name": "stdout",
     "output_type": "stream",
     "text": [
      "[70, 15, 3.5, 1, 0, -2]\n"
     ]
    }
   ],
   "source": [
    "# 3. Sort l (descending), but do not change l\n",
    "l2 = sorted(l, reverse=True)\n",
    "\n",
    "# Print\n",
    "print(l2)"
   ]
  },
  {
   "cell_type": "code",
   "execution_count": 33,
   "metadata": {},
   "outputs": [
    {
     "name": "stdout",
     "output_type": "stream",
     "text": [
      "[-2, 0, 1, 3.5, 15, 70]\n"
     ]
    }
   ],
   "source": [
    "# 4. Sort l (ascending), and change l\n",
    "l.sort()\n",
    "\n",
    "# Print\n",
    "print(l)"
   ]
  },
  {
   "cell_type": "code",
   "execution_count": 34,
   "metadata": {},
   "outputs": [
    {
     "name": "stdout",
     "output_type": "stream",
     "text": [
      "[70, 15, 3.5, 1, 0, -2]\n"
     ]
    }
   ],
   "source": [
    "# 5. Sort l (descending), and change l\n",
    "l.sort(reverse=True)\n",
    "\n",
    "# Print\n",
    "print(l)"
   ]
  },
  {
   "cell_type": "markdown",
   "metadata": {},
   "source": [
    "### Bài 6:\n",
    "\n",
    "1. Tạo list `l` gồm gồm các phần tử `[1, -2, 0, 15, 70, 'A']`\n",
    "1. Sắp xếp list `l`. Giải thích kết quả."
   ]
  },
  {
   "cell_type": "code",
   "execution_count": 35,
   "metadata": {},
   "outputs": [
    {
     "data": {
      "text/plain": [
       "[1, -2, 0, 15, 70, 'A']"
      ]
     },
     "execution_count": 35,
     "metadata": {},
     "output_type": "execute_result"
    }
   ],
   "source": [
    "# 1. Intialize\n",
    "l = [1, -2, 0, 15, 70, 'A']\n",
    "\n",
    "# Print\n",
    "l"
   ]
  },
  {
   "cell_type": "code",
   "execution_count": 36,
   "metadata": {},
   "outputs": [],
   "source": [
    "# 2. Sort\n",
    "# Error: \n",
    "# - List chỉ sort được khi các phần tử có kiểu tương thích với nhau và có thể so sánh được\n",
    "# - Ở đây, kiểu int và str không thể so sánh -> không sắp xếp được"
   ]
  },
  {
   "cell_type": "markdown",
   "metadata": {},
   "source": [
    "### Bài 7:\n",
    "    \n",
    "1. Tạo list `l` gồm gồm các phần tử `[1, -2, 0, 10, -3]`\n",
    "2. In ra giá trị tuyệt đối của các phần tử của `l`"
   ]
  },
  {
   "cell_type": "code",
   "execution_count": 37,
   "metadata": {},
   "outputs": [],
   "source": [
    "# 1. Intialize\n",
    "l = [1, -2, 0, 10, -3]"
   ]
  },
  {
   "cell_type": "code",
   "execution_count": 38,
   "metadata": {},
   "outputs": [
    {
     "name": "stdout",
     "output_type": "stream",
     "text": [
      "1\n",
      "2\n",
      "0\n",
      "10\n",
      "3\n"
     ]
    }
   ],
   "source": [
    "# 2. Print absolute values\n",
    "for x in l:\n",
    "    print(abs(x))"
   ]
  },
  {
   "cell_type": "markdown",
   "metadata": {},
   "source": [
    "## 2. Tuples"
   ]
  },
  {
   "cell_type": "markdown",
   "metadata": {},
   "source": [
    "### Bài 1:\n",
    "\n",
    "1. Tạo tuple `t` gồm các phần tử `[1, -2, 35, 40, 10.5]`\n",
    "1. In ra `t`\n",
    "1. Đổi phần tử đầu tiên của `t` thành `99`. Giải thích kết quả\n",
    "1. Tạo tuple `t2` có các phần tử là phần tử của `t` nhưng được sắp xếp theo thứ tự tăng dần. In `t` và `t2`\n",
    "1. Sắp xếp `t` theo thứ tự giảm dần (lưu thay đổi). Giải thích kết quả"
   ]
  },
  {
   "cell_type": "code",
   "execution_count": 39,
   "metadata": {},
   "outputs": [],
   "source": [
    "# 1. Initialize\n",
    "t = (1, -2, 35, 40, 10.5)"
   ]
  },
  {
   "cell_type": "code",
   "execution_count": 40,
   "metadata": {},
   "outputs": [
    {
     "data": {
      "text/plain": [
       "(1, -2, 35, 40, 10.5)"
      ]
     },
     "execution_count": 40,
     "metadata": {},
     "output_type": "execute_result"
    }
   ],
   "source": [
    "# 2. Print\n",
    "t"
   ]
  },
  {
   "cell_type": "code",
   "execution_count": 41,
   "metadata": {},
   "outputs": [],
   "source": [
    "# 3. Change element\n",
    "# Error: tupple is immutable"
   ]
  },
  {
   "cell_type": "code",
   "execution_count": 42,
   "metadata": {},
   "outputs": [
    {
     "name": "stdout",
     "output_type": "stream",
     "text": [
      "(1, -2, 35, 40, 10.5)\n",
      "(-2, 1, 10.5, 35, 40)\n"
     ]
    }
   ],
   "source": [
    "# 4. Sort t2 (ascending), result is a tuple\n",
    "t2 = tuple(sorted(t))\n",
    "\n",
    "# Print\n",
    "print(t)\n",
    "print(t2)"
   ]
  },
  {
   "cell_type": "code",
   "execution_count": 43,
   "metadata": {},
   "outputs": [
    {
     "data": {
      "text/plain": [
       "(-2, 1, 10.5, 35, 40)"
      ]
     },
     "execution_count": 43,
     "metadata": {},
     "output_type": "execute_result"
    }
   ],
   "source": [
    "# 5. Không có methods nào của tuple có thể sắp xếp inplace\n",
    "# Cách thay thế\n",
    "t = tuple(sorted(t))\n",
    "\n",
    "# Print\n",
    "t"
   ]
  },
  {
   "cell_type": "markdown",
   "metadata": {},
   "source": [
    "## 3. Ranges"
   ]
  },
  {
   "cell_type": "markdown",
   "metadata": {},
   "source": [
    "### Bài 1:\n",
    "\n",
    "1. Tạo một range `r` chứa 20 số nguyên đầu tiên\n",
    "1. Tạo một list `l` từ `r`\n",
    "1. In ra phần tử thứ 5 của cả `r` và `l`\n",
    "1. In ra phần tử cuối cùng của cả `r` và `l`\n",
    "1. Slice phần tử từ thứ 3 đến cuối cùng của cả `r` và `l`"
   ]
  },
  {
   "cell_type": "code",
   "execution_count": 44,
   "metadata": {},
   "outputs": [],
   "source": [
    "# 1. Initialize\n",
    "r = range(20)"
   ]
  },
  {
   "cell_type": "code",
   "execution_count": 45,
   "metadata": {},
   "outputs": [
    {
     "data": {
      "text/plain": [
       "[0, 1, 2, 3, 4, 5, 6, 7, 8, 9, 10, 11, 12, 13, 14, 15, 16, 17, 18, 19]"
      ]
     },
     "execution_count": 45,
     "metadata": {},
     "output_type": "execute_result"
    }
   ],
   "source": [
    "# 2. Make a list\n",
    "l = list(r)\n",
    "\n",
    "# Print\n",
    "l"
   ]
  },
  {
   "cell_type": "code",
   "execution_count": 46,
   "metadata": {},
   "outputs": [
    {
     "name": "stdout",
     "output_type": "stream",
     "text": [
      "4\n",
      "4\n"
     ]
    }
   ],
   "source": [
    "# 3. Print 5th element\n",
    "print(r[4])\n",
    "print(l[4])"
   ]
  },
  {
   "cell_type": "code",
   "execution_count": 47,
   "metadata": {},
   "outputs": [
    {
     "name": "stdout",
     "output_type": "stream",
     "text": [
      "19\n",
      "19\n"
     ]
    }
   ],
   "source": [
    "# 4. Print last element\n",
    "print(r[-1])\n",
    "print(l[-1])"
   ]
  },
  {
   "cell_type": "code",
   "execution_count": 48,
   "metadata": {},
   "outputs": [
    {
     "name": "stdout",
     "output_type": "stream",
     "text": [
      "range(2, 20)\n",
      "[2, 3, 4, 5, 6, 7, 8, 9, 10, 11, 12, 13, 14, 15, 16, 17, 18, 19]\n"
     ]
    }
   ],
   "source": [
    "# 5. Slice from 3rd to last\n",
    "print(r[2:])\n",
    "print(l[2:])"
   ]
  },
  {
   "cell_type": "markdown",
   "metadata": {},
   "source": [
    "### Bài 2:\n",
    "\n",
    "1. Tạo range `r` ứng với 20 số lẻ đầu tiên.\n",
    "1. Tạo list `l` từ `r`\n",
    "1. In ra `l` và `r`"
   ]
  },
  {
   "cell_type": "code",
   "execution_count": 49,
   "metadata": {},
   "outputs": [
    {
     "data": {
      "text/plain": [
       "20"
      ]
     },
     "execution_count": 49,
     "metadata": {},
     "output_type": "execute_result"
    }
   ],
   "source": [
    "# 1. Initialize\n",
    "r = range(1, 40, 2)\n",
    "\n",
    "# Check length\n",
    "len(r)"
   ]
  },
  {
   "cell_type": "code",
   "execution_count": 50,
   "metadata": {},
   "outputs": [],
   "source": [
    "# 2. Make a list\n",
    "l = list(r)"
   ]
  },
  {
   "cell_type": "code",
   "execution_count": 51,
   "metadata": {},
   "outputs": [
    {
     "name": "stdout",
     "output_type": "stream",
     "text": [
      "range(1, 40, 2)\n",
      "[1, 3, 5, 7, 9, 11, 13, 15, 17, 19, 21, 23, 25, 27, 29, 31, 33, 35, 37, 39]\n"
     ]
    }
   ],
   "source": [
    "# 3. Print\n",
    "print(r)\n",
    "print(l)"
   ]
  },
  {
   "cell_type": "markdown",
   "metadata": {},
   "source": [
    "### Bài 3:\n",
    "\n",
    "1. Tạo range `r` ứng với 100 số nguyên đầu tiên\n",
    "1. Lấy ra những số chẵn từ `r` lưu vào list `even_numbers`\n",
    "1. In ra `even_numbers`"
   ]
  },
  {
   "cell_type": "code",
   "execution_count": 52,
   "metadata": {},
   "outputs": [],
   "source": [
    "# 1. Initialize\n",
    "r = range(100)"
   ]
  },
  {
   "cell_type": "code",
   "execution_count": 53,
   "metadata": {},
   "outputs": [],
   "source": [
    "# 2. Filter even numbers\n",
    "even_numbers = []\n",
    "\n",
    "for x in r:\n",
    "    if x % 2 == 0:\n",
    "        even_numbers.append(x)"
   ]
  },
  {
   "cell_type": "code",
   "execution_count": 54,
   "metadata": {},
   "outputs": [
    {
     "name": "stdout",
     "output_type": "stream",
     "text": [
      "[0, 2, 4, 6, 8, 10, 12, 14, 16, 18, 20, 22, 24, 26, 28, 30, 32, 34, 36, 38, 40, 42, 44, 46, 48, 50, 52, 54, 56, 58, 60, 62, 64, 66, 68, 70, 72, 74, 76, 78, 80, 82, 84, 86, 88, 90, 92, 94, 96, 98]\n"
     ]
    }
   ],
   "source": [
    "# 3. Print results\n",
    "print(even_numbers)"
   ]
  },
  {
   "cell_type": "markdown",
   "metadata": {},
   "source": [
    "## 4. Strings"
   ]
  },
  {
   "cell_type": "markdown",
   "metadata": {},
   "source": [
    "### Bài 1:\n",
    "\n",
    "1. Tạo string `s` với giá trị `'This is a text string.'`\n",
    "1. In ra ký tự đầu\n",
    "1. In ra ký tự thứ 3\n",
    "1. In ra ký tự cuối\n",
    "1. In ra substring từ ký tự thứ 5 đến hết string\n",
    "1. Replicate `s` thành 3 lần, tức `'This is a text string.This is a text string.This is a text string.'`\n",
    "1. `s` có bao nhiêu ký tự?\n",
    "1. Ký tự `i` (lowercase) xuất hiện bao nhiêu lần trong `s`?\n",
    "1. Kiểm tra xem `'his'` có trong `s`\n",
    "1. Kiểm tra xem `'her'` có trong `s`\n",
    "1. Kiểm tra xem `'this'` có trong `s`"
   ]
  },
  {
   "cell_type": "code",
   "execution_count": 55,
   "metadata": {},
   "outputs": [],
   "source": [
    "# 1. Intialize\n",
    "s = \"This is a text string.\""
   ]
  },
  {
   "cell_type": "code",
   "execution_count": 56,
   "metadata": {},
   "outputs": [
    {
     "data": {
      "text/plain": [
       "'T'"
      ]
     },
     "execution_count": 56,
     "metadata": {},
     "output_type": "execute_result"
    }
   ],
   "source": [
    "# 2. First element\n",
    "s[0]"
   ]
  },
  {
   "cell_type": "code",
   "execution_count": 57,
   "metadata": {},
   "outputs": [
    {
     "data": {
      "text/plain": [
       "'i'"
      ]
     },
     "execution_count": 57,
     "metadata": {},
     "output_type": "execute_result"
    }
   ],
   "source": [
    "# 3. Third element\n",
    "s[2]"
   ]
  },
  {
   "cell_type": "code",
   "execution_count": 58,
   "metadata": {},
   "outputs": [
    {
     "data": {
      "text/plain": [
       "'.'"
      ]
     },
     "execution_count": 58,
     "metadata": {},
     "output_type": "execute_result"
    }
   ],
   "source": [
    "# 4. Last element\n",
    "s[-1]"
   ]
  },
  {
   "cell_type": "code",
   "execution_count": 59,
   "metadata": {},
   "outputs": [
    {
     "data": {
      "text/plain": [
       "' is a text string.'"
      ]
     },
     "execution_count": 59,
     "metadata": {},
     "output_type": "execute_result"
    }
   ],
   "source": [
    "# 5. Fifth to last\n",
    "s[4:]"
   ]
  },
  {
   "cell_type": "code",
   "execution_count": 60,
   "metadata": {},
   "outputs": [
    {
     "data": {
      "text/plain": [
       "'This is a text string.This is a text string.This is a text string.'"
      ]
     },
     "execution_count": 60,
     "metadata": {},
     "output_type": "execute_result"
    }
   ],
   "source": [
    "# 6. Replicate 3 times\n",
    "s * 3"
   ]
  },
  {
   "cell_type": "code",
   "execution_count": 61,
   "metadata": {},
   "outputs": [
    {
     "data": {
      "text/plain": [
       "22"
      ]
     },
     "execution_count": 61,
     "metadata": {},
     "output_type": "execute_result"
    }
   ],
   "source": [
    "# 7. Check length\n",
    "len(s)"
   ]
  },
  {
   "cell_type": "code",
   "execution_count": 62,
   "metadata": {},
   "outputs": [
    {
     "data": {
      "text/plain": [
       "3"
      ]
     },
     "execution_count": 62,
     "metadata": {},
     "output_type": "execute_result"
    }
   ],
   "source": [
    "# 8. Check occurences\n",
    "s.count(\"i\")"
   ]
  },
  {
   "cell_type": "code",
   "execution_count": 63,
   "metadata": {},
   "outputs": [
    {
     "data": {
      "text/plain": [
       "True"
      ]
     },
     "execution_count": 63,
     "metadata": {},
     "output_type": "execute_result"
    }
   ],
   "source": [
    "# 9. Check if 'his' is in s\n",
    "\"his\" in s"
   ]
  },
  {
   "cell_type": "code",
   "execution_count": 64,
   "metadata": {},
   "outputs": [
    {
     "data": {
      "text/plain": [
       "False"
      ]
     },
     "execution_count": 64,
     "metadata": {},
     "output_type": "execute_result"
    }
   ],
   "source": [
    "# 10. Check if 'her' is in s\n",
    "\"her\" in s"
   ]
  },
  {
   "cell_type": "code",
   "execution_count": 65,
   "metadata": {},
   "outputs": [
    {
     "data": {
      "text/plain": [
       "False"
      ]
     },
     "execution_count": 65,
     "metadata": {},
     "output_type": "execute_result"
    }
   ],
   "source": [
    "# 11. Check if 'this' is in s\n",
    "\"this\" in s"
   ]
  },
  {
   "cell_type": "markdown",
   "metadata": {},
   "source": [
    "### Bài 2:\n",
    "\n",
    "1. Tạo string `s1` với giá trị `'Dummy text 1'`\n",
    "1. Tạo string `s2` với giá trị `'Dummy text 2'`\n",
    "1. Nối `s1` với `s2` thành câu `'Dummy text 1. Dummy text 1'` bằng 2 cách (hint: dùng `+` hoặc `.format()`)"
   ]
  },
  {
   "cell_type": "code",
   "execution_count": 66,
   "metadata": {},
   "outputs": [],
   "source": [
    "# 1. Initialize s1\n",
    "s1 = \"Dummy text 1\""
   ]
  },
  {
   "cell_type": "code",
   "execution_count": 67,
   "metadata": {},
   "outputs": [],
   "source": [
    "# 2. Initialize s2\n",
    "s2 = \"Dummy text 2\""
   ]
  },
  {
   "cell_type": "code",
   "execution_count": 68,
   "metadata": {},
   "outputs": [
    {
     "name": "stdout",
     "output_type": "stream",
     "text": [
      "Dummy text 1. Dummy text 2\n",
      "Dummy text 1. Dummy text 2\n"
     ]
    }
   ],
   "source": [
    "# Concatenate strings\n",
    "# Method 1\n",
    "print(s1 + \". \" + s2)\n",
    "\n",
    "# Method 2\n",
    "print(\"{}. {}\".format(s1, s2))"
   ]
  },
  {
   "cell_type": "markdown",
   "metadata": {},
   "source": [
    "### Bài 3\n",
    "\n",
    "1. Tạo string `s` với giá trị `'Dummy text 1'`\n",
    "1. Dùng hàm `sorted` để sắp xếp các ký tự của `s` theo thứ tự tăng dần. Nhận xét gì về kết quả?\n",
    "1. Làm thế nào để in chuỗi theo thứ tự đảo ngược (i.e. `'1 txet ymmuD'`) bằng 2 cách (hint: dùng slice hoặc `reversed` + `.join()`)"
   ]
  },
  {
   "cell_type": "code",
   "execution_count": 69,
   "metadata": {},
   "outputs": [
    {
     "data": {
      "text/plain": [
       "'Dummy text 1'"
      ]
     },
     "execution_count": 69,
     "metadata": {},
     "output_type": "execute_result"
    }
   ],
   "source": [
    "# 1. Initialize\n",
    "s = \"Dummy text 1\"\n",
    "\n",
    "# Print\n",
    "s"
   ]
  },
  {
   "cell_type": "code",
   "execution_count": 70,
   "metadata": {},
   "outputs": [
    {
     "data": {
      "text/plain": [
       "[' ', ' ', '1', 'D', 'e', 'm', 'm', 't', 't', 'u', 'x', 'y']"
      ]
     },
     "execution_count": 70,
     "metadata": {},
     "output_type": "execute_result"
    }
   ],
   "source": [
    "# 2. Sort\n",
    "# Comment: returned result is a list of characters\n",
    "sorted(s)"
   ]
  },
  {
   "cell_type": "code",
   "execution_count": 71,
   "metadata": {},
   "outputs": [
    {
     "data": {
      "text/plain": [
       "'1 txet ymmuD'"
      ]
     },
     "execution_count": 71,
     "metadata": {},
     "output_type": "execute_result"
    }
   ],
   "source": [
    "# 3. Print reversed string\n",
    "\"\".join(reversed(s))"
   ]
  },
  {
   "cell_type": "markdown",
   "metadata": {},
   "source": [
    "### Bài 4:\n",
    "\n",
    "1. Tạo string `s` với giá trị `'barack ObamA'`\n",
    "1. Tạo string toàn ký tự hoa từ `s`\n",
    "1. Tạo string toàn ký tự thường từ `s`\n",
    "1. Đảo ngược ký tự hoa thường từ `s`\n",
    "1. Tạo string `'Barack Obama'` từ `s`\n",
    "1. Tạo string `'Barack obama'` từ `s`"
   ]
  },
  {
   "cell_type": "code",
   "execution_count": 72,
   "metadata": {},
   "outputs": [],
   "source": [
    "# 1. Initialize\n",
    "s = \"barack ObamA\""
   ]
  },
  {
   "cell_type": "code",
   "execution_count": 73,
   "metadata": {},
   "outputs": [
    {
     "data": {
      "text/plain": [
       "'BARACK OBAMA'"
      ]
     },
     "execution_count": 73,
     "metadata": {},
     "output_type": "execute_result"
    }
   ],
   "source": [
    "# 2. Upper\n",
    "s.upper()"
   ]
  },
  {
   "cell_type": "code",
   "execution_count": 74,
   "metadata": {},
   "outputs": [
    {
     "data": {
      "text/plain": [
       "'barack obama'"
      ]
     },
     "execution_count": 74,
     "metadata": {},
     "output_type": "execute_result"
    }
   ],
   "source": [
    "# 3. Lower\n",
    "s.lower()"
   ]
  },
  {
   "cell_type": "code",
   "execution_count": 75,
   "metadata": {},
   "outputs": [
    {
     "data": {
      "text/plain": [
       "'BARACK oBAMa'"
      ]
     },
     "execution_count": 75,
     "metadata": {},
     "output_type": "execute_result"
    }
   ],
   "source": [
    "# 4. Swap case\n",
    "s.swapcase()"
   ]
  },
  {
   "cell_type": "code",
   "execution_count": 76,
   "metadata": {},
   "outputs": [
    {
     "data": {
      "text/plain": [
       "'Barack Obama'"
      ]
     },
     "execution_count": 76,
     "metadata": {},
     "output_type": "execute_result"
    }
   ],
   "source": [
    "# 5. Title\n",
    "s.title()"
   ]
  },
  {
   "cell_type": "code",
   "execution_count": 77,
   "metadata": {},
   "outputs": [
    {
     "data": {
      "text/plain": [
       "'Barack obama'"
      ]
     },
     "execution_count": 77,
     "metadata": {},
     "output_type": "execute_result"
    }
   ],
   "source": [
    "# 6. Capitalize\n",
    "s.capitalize()"
   ]
  },
  {
   "cell_type": "markdown",
   "metadata": {},
   "source": [
    "### Bài 5:\n",
    "\n",
    "1. Tạo string `s` với giá trị `'barack ObamA'`\n",
    "1. Kiểm tra xem `s` có bắt đầu với `b`\n",
    "1. Kiểm tra xem `s` có bắt đầu với `B`\n",
    "1. Kiểm tra xem `s` có kết thúc với `a`\n",
    "1. Kiểm tra xem `s` có kết thúc với `A`\n",
    "1. Kiểm tra xem `s` có chứa `'oba'`\n",
    "1. Kiểm tra xem `s` có chứa `'Oba'`"
   ]
  },
  {
   "cell_type": "code",
   "execution_count": 78,
   "metadata": {},
   "outputs": [],
   "source": [
    "# 1. Intialize\n",
    "s = \"barack ObamA\""
   ]
  },
  {
   "cell_type": "code",
   "execution_count": 79,
   "metadata": {},
   "outputs": [
    {
     "data": {
      "text/plain": [
       "True"
      ]
     },
     "execution_count": 79,
     "metadata": {},
     "output_type": "execute_result"
    }
   ],
   "source": [
    "# 2. Starts with b\n",
    "s.startswith(\"b\")"
   ]
  },
  {
   "cell_type": "code",
   "execution_count": 80,
   "metadata": {},
   "outputs": [
    {
     "data": {
      "text/plain": [
       "False"
      ]
     },
     "execution_count": 80,
     "metadata": {},
     "output_type": "execute_result"
    }
   ],
   "source": [
    "# 3. Starts with B\n",
    "s.startswith(\"B\")"
   ]
  },
  {
   "cell_type": "code",
   "execution_count": 81,
   "metadata": {},
   "outputs": [
    {
     "data": {
      "text/plain": [
       "False"
      ]
     },
     "execution_count": 81,
     "metadata": {},
     "output_type": "execute_result"
    }
   ],
   "source": [
    "# 4. Ends with a\n",
    "s.endswith(\"a\")"
   ]
  },
  {
   "cell_type": "code",
   "execution_count": 82,
   "metadata": {},
   "outputs": [
    {
     "data": {
      "text/plain": [
       "True"
      ]
     },
     "execution_count": 82,
     "metadata": {},
     "output_type": "execute_result"
    }
   ],
   "source": [
    "# 5. Ends with A\n",
    "s.endswith(\"A\")"
   ]
  },
  {
   "cell_type": "code",
   "execution_count": 83,
   "metadata": {},
   "outputs": [
    {
     "data": {
      "text/plain": [
       "False"
      ]
     },
     "execution_count": 83,
     "metadata": {},
     "output_type": "execute_result"
    }
   ],
   "source": [
    "# 6. Contain 'oba'\n",
    "\"oba\" in s"
   ]
  },
  {
   "cell_type": "code",
   "execution_count": 84,
   "metadata": {},
   "outputs": [
    {
     "data": {
      "text/plain": [
       "True"
      ]
     },
     "execution_count": 84,
     "metadata": {},
     "output_type": "execute_result"
    }
   ],
   "source": [
    "# 7. Contain 'Oba'\n",
    "\"Oba\" in s"
   ]
  },
  {
   "cell_type": "markdown",
   "metadata": {},
   "source": [
    "### Bài 6:\n",
    "\n",
    "1. Tạo string `s` với giá trị `'I am handsome. LOL.'`\n",
    "1. Đếm số khoảng trắng trong `s`\n",
    "1. Đếm số ký tự hoa trong `s`"
   ]
  },
  {
   "cell_type": "code",
   "execution_count": 85,
   "metadata": {},
   "outputs": [],
   "source": [
    "# 1. Initialize\n",
    "s = \"I am handsome. LOL.\""
   ]
  },
  {
   "cell_type": "code",
   "execution_count": 86,
   "metadata": {},
   "outputs": [
    {
     "data": {
      "text/plain": [
       "3"
      ]
     },
     "execution_count": 86,
     "metadata": {},
     "output_type": "execute_result"
    }
   ],
   "source": [
    "# 2. Count number of spaces\n",
    "s.count(\" \")"
   ]
  },
  {
   "cell_type": "code",
   "execution_count": 87,
   "metadata": {},
   "outputs": [
    {
     "name": "stdout",
     "output_type": "stream",
     "text": [
      "4\n"
     ]
    }
   ],
   "source": [
    "# 3. Count number of uppercase characters\n",
    "n_upper = 0\n",
    "\n",
    "for x in s:\n",
    "    if x.isupper():\n",
    "        n_upper = n_upper + 1\n",
    "        \n",
    "# Print\n",
    "print(n_upper)"
   ]
  },
  {
   "cell_type": "markdown",
   "metadata": {},
   "source": [
    "### Bài 7:\n",
    "\n",
    "1. Tạo string `s` với giá trị `'Donald Trump'`\n",
    "1. Từ `s`, tạo biến `names` là một tuple gồm 2 phần tử với phần tử đầu là `'Donald'` và phần tử cuối là `'Trump'`\n",
    "1. Unpack `names` vào 2 biến mới là `first_name` và `last_name`"
   ]
  },
  {
   "cell_type": "code",
   "execution_count": 88,
   "metadata": {},
   "outputs": [],
   "source": [
    "# 1. Initialize\n",
    "s = \"Donald Trump\""
   ]
  },
  {
   "cell_type": "code",
   "execution_count": 89,
   "metadata": {},
   "outputs": [
    {
     "name": "stdout",
     "output_type": "stream",
     "text": [
      "('Donald', 'Trump')\n"
     ]
    }
   ],
   "source": [
    "# 2. Get first name and last name as a  tuple\n",
    "names = tuple(s.split())\n",
    "\n",
    "# Print\n",
    "print(names)"
   ]
  },
  {
   "cell_type": "code",
   "execution_count": 90,
   "metadata": {},
   "outputs": [
    {
     "name": "stdout",
     "output_type": "stream",
     "text": [
      "Donald\n",
      "Trump\n"
     ]
    }
   ],
   "source": [
    "# 3. Unpack tuple\n",
    "first_name, last_name = names\n",
    "\n",
    "print(first_name)\n",
    "print(last_name)"
   ]
  },
  {
   "cell_type": "markdown",
   "metadata": {},
   "source": [
    "### Bài 8:\n",
    "\n",
    "1. Tạo string `s` với giá trị `'I am in love with Python. Just kidding.'`\n",
    "1. Đếm số từ (words) trong `s` (assumption: các từ cách nhau bởi khoảng trắng)"
   ]
  },
  {
   "cell_type": "code",
   "execution_count": 91,
   "metadata": {},
   "outputs": [],
   "source": [
    "# 1. Initialize\n",
    "s = \"I am in love with Python. Just kidding.\""
   ]
  },
  {
   "cell_type": "code",
   "execution_count": 92,
   "metadata": {},
   "outputs": [
    {
     "data": {
      "text/plain": [
       "8"
      ]
     },
     "execution_count": 92,
     "metadata": {},
     "output_type": "execute_result"
    }
   ],
   "source": [
    "# 2. Count number of words\n",
    "len(s.split())"
   ]
  },
  {
   "cell_type": "markdown",
   "metadata": {},
   "source": [
    "### Bài 9:\n",
    "\n",
    "1. Tạo string `s` với giá trị `'   Hello. Have a good day.     '`\n",
    "1. Xóa khoảng trắng bên trái\n",
    "1. Xóa khoảng trắng bên phải\n",
    "1. Xóa khoảng trắng cả 2 bên trái phải\n",
    "1. Xóa hết các khoảng trắng (hint: dùng `.replace()`)"
   ]
  },
  {
   "cell_type": "code",
   "execution_count": 93,
   "metadata": {},
   "outputs": [],
   "source": [
    "# 1. Initialize\n",
    "s = \"   Hello. Have a good day.     \""
   ]
  },
  {
   "cell_type": "code",
   "execution_count": 94,
   "metadata": {},
   "outputs": [
    {
     "data": {
      "text/plain": [
       "'Hello. Have a good day.     '"
      ]
     },
     "execution_count": 94,
     "metadata": {},
     "output_type": "execute_result"
    }
   ],
   "source": [
    "# 2. Trim left\n",
    "s.lstrip()"
   ]
  },
  {
   "cell_type": "code",
   "execution_count": 95,
   "metadata": {},
   "outputs": [
    {
     "data": {
      "text/plain": [
       "'   Hello. Have a good day.'"
      ]
     },
     "execution_count": 95,
     "metadata": {},
     "output_type": "execute_result"
    }
   ],
   "source": [
    "# 3. Trim right\n",
    "s.rstrip()"
   ]
  },
  {
   "cell_type": "code",
   "execution_count": 96,
   "metadata": {},
   "outputs": [
    {
     "data": {
      "text/plain": [
       "'Hello. Have a good day.'"
      ]
     },
     "execution_count": 96,
     "metadata": {},
     "output_type": "execute_result"
    }
   ],
   "source": [
    "# 4. Trim both\n",
    "s.strip()"
   ]
  },
  {
   "cell_type": "code",
   "execution_count": 97,
   "metadata": {},
   "outputs": [
    {
     "data": {
      "text/plain": [
       "'Hello.Haveagoodday.'"
      ]
     },
     "execution_count": 97,
     "metadata": {},
     "output_type": "execute_result"
    }
   ],
   "source": [
    "# 5. Delete all spaces\n",
    "s.replace(\" \", \"\")"
   ]
  },
  {
   "cell_type": "markdown",
   "metadata": {},
   "source": [
    "### Bài 10:\n",
    "\n",
    "1. Tạo biến `country` có giá trị `'Vietnam'`\n",
    "1. Tạo biến `num_provinces` có giá trị `63`\n",
    "1. In ra dòng `'Vietnam has 63 provinces'` dùng `country` và `num_provinces` ở trên."
   ]
  },
  {
   "cell_type": "code",
   "execution_count": 98,
   "metadata": {},
   "outputs": [],
   "source": [
    "# 1. country\n",
    "country = \"Vietnam\""
   ]
  },
  {
   "cell_type": "code",
   "execution_count": 99,
   "metadata": {},
   "outputs": [],
   "source": [
    "# 2. num_provinces\n",
    "num_provinces = 63"
   ]
  },
  {
   "cell_type": "code",
   "execution_count": 100,
   "metadata": {},
   "outputs": [
    {
     "name": "stdout",
     "output_type": "stream",
     "text": [
      "Vietnam has 63 provinces\n"
     ]
    }
   ],
   "source": [
    "# 3. Formatted string\n",
    "print(\"{} has {} provinces\".format(country, num_provinces))"
   ]
  },
  {
   "cell_type": "markdown",
   "metadata": {},
   "source": [
    "### Bài 11:\n",
    "\n",
    "1. Tạo nhanh 1 list `months` các số nguyên từ `1` đến `12`\n",
    "1. Biến các phần tử list này thành kiểu `str`\n",
    "1. Biến `months` về dạng `['01', '02', '03', ...., '11', '12']`"
   ]
  },
  {
   "cell_type": "code",
   "execution_count": 101,
   "metadata": {},
   "outputs": [
    {
     "name": "stdout",
     "output_type": "stream",
     "text": [
      "[1, 2, 3, 4, 5, 6, 7, 8, 9, 10, 11, 12]\n"
     ]
    }
   ],
   "source": [
    "# 1. Initialize\n",
    "months = list(range(1, 13))\n",
    "\n",
    "# Print\n",
    "print(months)"
   ]
  },
  {
   "cell_type": "code",
   "execution_count": 102,
   "metadata": {},
   "outputs": [
    {
     "name": "stdout",
     "output_type": "stream",
     "text": [
      "['1', '2', '3', '4', '5', '6', '7', '8', '9', '10', '11', '12']\n"
     ]
    }
   ],
   "source": [
    "# 2. Convert elements to string\n",
    "months_str = []\n",
    "\n",
    "for m in months:\n",
    "    months_str.append(str(m))\n",
    "    \n",
    "# Print\n",
    "print(months_str)"
   ]
  },
  {
   "cell_type": "code",
   "execution_count": 103,
   "metadata": {},
   "outputs": [
    {
     "name": "stdout",
     "output_type": "stream",
     "text": [
      "['01', '02', '03', '04', '05', '06', '07', '08', '09', '10', '11', '12']\n"
     ]
    }
   ],
   "source": [
    "# 3. Pad leading zeros\n",
    "months_str = []\n",
    "\n",
    "for m in months:\n",
    "    months_str.append(str(m).zfill(2))\n",
    "    \n",
    "# Print\n",
    "print(months_str)"
   ]
  },
  {
   "cell_type": "markdown",
   "metadata": {},
   "source": [
    "## 5. Dictionaries"
   ]
  },
  {
   "cell_type": "markdown",
   "metadata": {},
   "source": [
    "### Bài 1:\n",
    "    \n",
    "1. Tạo một `dict` tên `scores` có 3 elements với keys là `'math', 'science', 'spanish'` và values tương ứng là `9., 8.5, 10.`\n",
    "1. In ra `scores`\n",
    "1. In ra điểm môn Toán\n",
    "1. Sửa lại điểm môn Science thành `7.5` và in lại `scores`\n",
    "1. Thêm môn `'english'` với điểm `3.` và in lại `scores`\n",
    "1. Kiểm tra xem `math` có trong `scores` không\n",
    "1. Kiểm tra xem `philosophy` có trong `scores` không\n",
    "1. Kiểm tra xem có môn nào dưới `4` không. Nếu có in ra tên môn học và điểm tương ứng"
   ]
  },
  {
   "cell_type": "code",
   "execution_count": 104,
   "metadata": {},
   "outputs": [],
   "source": [
    "# 1. Initialize\n",
    "scores = {\n",
    "    \"math\": 9.,\n",
    "    \"science\": 8.5,\n",
    "    \"spanish\": 10.\n",
    "}"
   ]
  },
  {
   "cell_type": "code",
   "execution_count": 105,
   "metadata": {},
   "outputs": [
    {
     "data": {
      "text/plain": [
       "{'math': 9.0, 'science': 8.5, 'spanish': 10.0}"
      ]
     },
     "execution_count": 105,
     "metadata": {},
     "output_type": "execute_result"
    }
   ],
   "source": [
    "# 2. Print\n",
    "scores"
   ]
  },
  {
   "cell_type": "code",
   "execution_count": 106,
   "metadata": {},
   "outputs": [
    {
     "data": {
      "text/plain": [
       "9.0"
      ]
     },
     "execution_count": 106,
     "metadata": {},
     "output_type": "execute_result"
    }
   ],
   "source": [
    "# 3. Print math score\n",
    "scores[\"math\"]"
   ]
  },
  {
   "cell_type": "code",
   "execution_count": 107,
   "metadata": {},
   "outputs": [
    {
     "data": {
      "text/plain": [
       "{'math': 9.0, 'science': 7.5, 'spanish': 10.0}"
      ]
     },
     "execution_count": 107,
     "metadata": {},
     "output_type": "execute_result"
    }
   ],
   "source": [
    "# 4. Update science score\n",
    "scores[\"science\"] = 7.5\n",
    "\n",
    "# Print\n",
    "scores"
   ]
  },
  {
   "cell_type": "code",
   "execution_count": 108,
   "metadata": {},
   "outputs": [
    {
     "data": {
      "text/plain": [
       "{'math': 9.0, 'science': 7.5, 'spanish': 10.0, 'english': 3.0}"
      ]
     },
     "execution_count": 108,
     "metadata": {},
     "output_type": "execute_result"
    }
   ],
   "source": [
    "# 5. Add new key value\n",
    "scores[\"english\"] = 3.\n",
    "\n",
    "# Print\n",
    "scores"
   ]
  },
  {
   "cell_type": "code",
   "execution_count": 109,
   "metadata": {},
   "outputs": [
    {
     "data": {
      "text/plain": [
       "True"
      ]
     },
     "execution_count": 109,
     "metadata": {},
     "output_type": "execute_result"
    }
   ],
   "source": [
    "# 6. Check if math is in scores\n",
    "\"math\" in scores"
   ]
  },
  {
   "cell_type": "code",
   "execution_count": 110,
   "metadata": {},
   "outputs": [
    {
     "data": {
      "text/plain": [
       "False"
      ]
     },
     "execution_count": 110,
     "metadata": {},
     "output_type": "execute_result"
    }
   ],
   "source": [
    "# 7. Check if philosophy in scores\n",
    "\"philosophy\" in scores"
   ]
  },
  {
   "cell_type": "code",
   "execution_count": 111,
   "metadata": {},
   "outputs": [
    {
     "name": "stdout",
     "output_type": "stream",
     "text": [
      "english: 3.0\n"
     ]
    }
   ],
   "source": [
    "# 8. Print subjects with score < 4\n",
    "for k, v in scores.items():\n",
    "    if v < 4:\n",
    "        print(\"{}: {}\".format(k, v))"
   ]
  },
  {
   "cell_type": "markdown",
   "metadata": {},
   "source": [
    "### Bài 2:\n",
    "1. Tạo 3 dict như sau: `d1 = {1:10, 2:20}, d2 = {3:30, 4:40}, d3 = {5:50,6:60}`\n",
    "1. Tạo dict `d` là kết của của việc combine information từ `d1, d2, d3` (theo thứ tự) bằng 2 cách (hint: manually update hoặc dùng vòng `for`)"
   ]
  },
  {
   "cell_type": "code",
   "execution_count": 112,
   "metadata": {},
   "outputs": [],
   "source": [
    "# 1. Initialize\n",
    "d1 = {1:10, 2:20}\n",
    "d2 = {3:30, 4:40}\n",
    "d3 = {5:50,6:60}"
   ]
  },
  {
   "cell_type": "code",
   "execution_count": 113,
   "metadata": {},
   "outputs": [
    {
     "data": {
      "text/plain": [
       "{1: 10, 2: 20, 3: 30, 4: 40, 5: 50, 6: 60}"
      ]
     },
     "execution_count": 113,
     "metadata": {},
     "output_type": "execute_result"
    }
   ],
   "source": [
    "# 2a. Combine d1, d2, d3 into d (manual)\n",
    "d = {}\n",
    "d.update(d1)\n",
    "d.update(d2)\n",
    "d.update(d3)\n",
    "\n",
    "# Print\n",
    "d"
   ]
  },
  {
   "cell_type": "code",
   "execution_count": 114,
   "metadata": {},
   "outputs": [
    {
     "data": {
      "text/plain": [
       "{1: 10, 2: 20, 3: 30, 4: 40, 5: 50, 6: 60}"
      ]
     },
     "execution_count": 114,
     "metadata": {},
     "output_type": "execute_result"
    }
   ],
   "source": [
    "# 2b. Combine d1, d2, d3 into d (using for)\n",
    "d = {}\n",
    "\n",
    "for x in [d1, d2, d3]:\n",
    "    d.update(x)\n",
    "\n",
    "# Print\n",
    "d"
   ]
  },
  {
   "cell_type": "markdown",
   "metadata": {},
   "source": [
    "## 6. Sets"
   ]
  },
  {
   "cell_type": "markdown",
   "metadata": {},
   "source": [
    "### Bài 1:\n",
    "\n",
    "1. Tạo set `s` gồm 3 phần tử `1, 2, 3`\n",
    "1. Thêm `99` vào `s` (hint: dùng `.add()`)\n",
    "1. Loại `2` ra khỏi `s` (hint: dùng `.discard()`)\n",
    "1. Thêm 1 lần 3 phần tử sau vào s1: `20, 45, 30` (hint: dùng `.update()`)"
   ]
  },
  {
   "cell_type": "code",
   "execution_count": 115,
   "metadata": {},
   "outputs": [],
   "source": [
    "# 1. Initialize\n",
    "s = {1, 2, 3}"
   ]
  },
  {
   "cell_type": "code",
   "execution_count": 116,
   "metadata": {},
   "outputs": [
    {
     "data": {
      "text/plain": [
       "{1, 2, 3, 99}"
      ]
     },
     "execution_count": 116,
     "metadata": {},
     "output_type": "execute_result"
    }
   ],
   "source": [
    "# 2. Add element\n",
    "s.add(99)\n",
    "\n",
    "# Print\n",
    "s"
   ]
  },
  {
   "cell_type": "code",
   "execution_count": 117,
   "metadata": {},
   "outputs": [
    {
     "data": {
      "text/plain": [
       "{1, 3, 99}"
      ]
     },
     "execution_count": 117,
     "metadata": {},
     "output_type": "execute_result"
    }
   ],
   "source": [
    "# 3. Remove element\n",
    "s.discard(2)\n",
    "\n",
    "# Print\n",
    "s"
   ]
  },
  {
   "cell_type": "code",
   "execution_count": 118,
   "metadata": {},
   "outputs": [
    {
     "data": {
      "text/plain": [
       "{1, 3, 20, 30, 45, 99}"
      ]
     },
     "execution_count": 118,
     "metadata": {},
     "output_type": "execute_result"
    }
   ],
   "source": [
    "# 4. Add more than 1 element\n",
    "s.update({20, 45, 30})\n",
    "\n",
    "# Print\n",
    "s"
   ]
  },
  {
   "cell_type": "markdown",
   "metadata": {},
   "source": [
    "### Bài 2:\n",
    "\n",
    "1. Tạo set s1 gồm các phần tử 1, 2, 3, 5\n",
    "2. Tạo set s2 gồm các phần tử 1, 3, 10, 99\n",
    "3. Tạo set s3 gồm các phần tử 1, 3\n",
    "4. In hợp s1, s2\n",
    "5. In giao s1, s2\n",
    "6. In hiệu s1 trừ s2\n",
    "7. Kiểm tra s2 có là tập con của s1 (in True/False)\n",
    "8. Kiểm tra s3 có là tập con của s1 (in True/False)"
   ]
  },
  {
   "cell_type": "code",
   "execution_count": 119,
   "metadata": {},
   "outputs": [],
   "source": [
    "# 1. s1\n",
    "s1 = {1, 2, 3, 5}"
   ]
  },
  {
   "cell_type": "code",
   "execution_count": 120,
   "metadata": {},
   "outputs": [],
   "source": [
    "# 2. s2\n",
    "s2 = {1, 3, 10, 99}"
   ]
  },
  {
   "cell_type": "code",
   "execution_count": 121,
   "metadata": {},
   "outputs": [],
   "source": [
    "# 3. s3\n",
    "s3 = {1, 3}"
   ]
  },
  {
   "cell_type": "code",
   "execution_count": 122,
   "metadata": {},
   "outputs": [
    {
     "data": {
      "text/plain": [
       "{1, 2, 3, 5, 10, 99}"
      ]
     },
     "execution_count": 122,
     "metadata": {},
     "output_type": "execute_result"
    }
   ],
   "source": [
    "# 4. s1 | s2\n",
    "s1 | s2"
   ]
  },
  {
   "cell_type": "code",
   "execution_count": 123,
   "metadata": {},
   "outputs": [
    {
     "data": {
      "text/plain": [
       "{1, 3}"
      ]
     },
     "execution_count": 123,
     "metadata": {},
     "output_type": "execute_result"
    }
   ],
   "source": [
    "# 5. s1 & s2\n",
    "s1 & s2"
   ]
  },
  {
   "cell_type": "code",
   "execution_count": 124,
   "metadata": {},
   "outputs": [
    {
     "data": {
      "text/plain": [
       "{2, 5}"
      ]
     },
     "execution_count": 124,
     "metadata": {},
     "output_type": "execute_result"
    }
   ],
   "source": [
    "# 6. s1 - s2\n",
    "s1 - s2"
   ]
  },
  {
   "cell_type": "code",
   "execution_count": 125,
   "metadata": {},
   "outputs": [
    {
     "data": {
      "text/plain": [
       "False"
      ]
     },
     "execution_count": 125,
     "metadata": {},
     "output_type": "execute_result"
    }
   ],
   "source": [
    "# 7. s2 < s1\n",
    "s2 < s1"
   ]
  },
  {
   "cell_type": "code",
   "execution_count": 126,
   "metadata": {},
   "outputs": [
    {
     "data": {
      "text/plain": [
       "True"
      ]
     },
     "execution_count": 126,
     "metadata": {},
     "output_type": "execute_result"
    }
   ],
   "source": [
    "# 8. s3 < s1\n",
    "s3 < s1"
   ]
  }
 ],
 "metadata": {
  "kernelspec": {
   "display_name": "Python 3",
   "language": "python",
   "name": "python3"
  },
  "language_info": {
   "codemirror_mode": {
    "name": "ipython",
    "version": 3
   },
   "file_extension": ".py",
   "mimetype": "text/x-python",
   "name": "python",
   "nbconvert_exporter": "python",
   "pygments_lexer": "ipython3",
   "version": "3.8.3"
  }
 },
 "nbformat": 4,
 "nbformat_minor": 4
}
