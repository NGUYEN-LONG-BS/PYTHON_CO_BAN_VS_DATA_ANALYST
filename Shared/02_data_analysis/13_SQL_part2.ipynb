{
 "cells": [
  {
   "cell_type": "markdown",
   "metadata": {},
   "source": [
    "# Bài 12: SQL (part 2)\n",
    "\n",
    "ERD: https://sp.postgresqltutorial.com/wp-content/uploads/2018/03/printable-postgresql-sample-database-diagram.pdf"
   ]
  },
  {
   "cell_type": "markdown",
   "metadata": {},
   "source": [
    "## 0. Set up"
   ]
  },
  {
   "cell_type": "code",
   "execution_count": null,
   "metadata": {},
   "outputs": [],
   "source": [
    "import psycopg2\n",
    "import pandas as pd"
   ]
  },
  {
   "cell_type": "code",
   "execution_count": null,
   "metadata": {},
   "outputs": [],
   "source": [
    "# Create a connection\n",
    "conn = psycopg2.connect(\n",
    "    host=\"localhost\",\n",
    "    port=5432,\n",
    "    database=\"dvdrental\",\n",
    "    user=\"postgres\",\n",
    "    password=\"admin123\",\n",
    "    #gssencmode=\"disable\" # Important to fix a bug\n",
    ")"
   ]
  },
  {
   "cell_type": "markdown",
   "metadata": {},
   "source": [
    "## 1. GROUP BY\n",
    "Làm các bài tập dưới, nếu thông tin cột cần dùng chưa có thì dùng ID (chưa cần join)"
   ]
  },
  {
   "cell_type": "markdown",
   "metadata": {},
   "source": [
    "### Ex1:\n",
    "- Group phim theo rating, đếm số lượng cho mỗi loại rating, sắp xếp từ cao xuống thấp\n",
    "- Plot\n",
    "- Làm tương tự cho từng tháng (gồm cả plot) "
   ]
  },
  {
   "cell_type": "markdown",
   "metadata": {},
   "source": [
    "### Ex2: \n",
    "- Như Ex1, nhưng lọc ra những dòng có count >= 1000 "
   ]
  },
  {
   "cell_type": "code",
   "execution_count": null,
   "metadata": {},
   "outputs": [],
   "source": []
  },
  {
   "cell_type": "markdown",
   "metadata": {},
   "source": [
    "### Ex3:\n",
    "- Tìm ra top 5 khách hàng có tổng payment nhiều nhất\n",
    "- Plot"
   ]
  },
  {
   "cell_type": "code",
   "execution_count": null,
   "metadata": {},
   "outputs": [],
   "source": []
  },
  {
   "cell_type": "markdown",
   "metadata": {},
   "source": [
    "### Ex4: \n",
    "- Tìm ra staff có tổng doanh số nhiều nhất trong tháng 3\n",
    "- Tương tự cho cả năm"
   ]
  },
  {
   "cell_type": "code",
   "execution_count": null,
   "metadata": {},
   "outputs": [],
   "source": []
  },
  {
   "cell_type": "markdown",
   "metadata": {},
   "source": [
    "### Ex5:\n",
    "- Tính tổng số phim cho mỗi category\n",
    "- Plot"
   ]
  },
  {
   "cell_type": "code",
   "execution_count": null,
   "metadata": {},
   "outputs": [],
   "source": []
  },
  {
   "cell_type": "markdown",
   "metadata": {},
   "source": [
    "## 2. Join"
   ]
  },
  {
   "cell_type": "markdown",
   "metadata": {},
   "source": [
    "#### Ex1:\n",
    "- Lấy ra title, language ID, language name, rating cho các bộ phim trong có rating là `R`\n",
    "-  Có phim nào không có thông tin language name"
   ]
  },
  {
   "cell_type": "code",
   "execution_count": null,
   "metadata": {},
   "outputs": [],
   "source": []
  },
  {
   "cell_type": "markdown",
   "metadata": {},
   "source": [
    "### Ex2: \n",
    "- Lấy ra title, film ID, category ID, category name, rating cho các bộ phim trong có rating là `R`\n",
    "- Có phim nào ko có category name?"
   ]
  },
  {
   "cell_type": "markdown",
   "metadata": {},
   "source": [
    "### Ex3:\n",
    "- Lấy ra title, film ID, actor ID, actor full name, rating cho các bộ phim trong có rating là `R`"
   ]
  },
  {
   "cell_type": "code",
   "execution_count": null,
   "metadata": {},
   "outputs": [],
   "source": []
  },
  {
   "cell_type": "markdown",
   "metadata": {},
   "source": [
    "### Ex4:\n",
    "- Lấy thông tin khách hàng gồm: id, names, email, phone, address (full)\n"
   ]
  },
  {
   "cell_type": "code",
   "execution_count": null,
   "metadata": {},
   "outputs": [],
   "source": []
  },
  {
   "cell_type": "markdown",
   "metadata": {},
   "source": [
    "## Ex6: \n",
    "- Làm lại các bài tập trong phần group by (lấy thêm thông tin nhờ join)"
   ]
  },
  {
   "cell_type": "code",
   "execution_count": null,
   "metadata": {},
   "outputs": [],
   "source": []
  },
  {
   "cell_type": "markdown",
   "metadata": {},
   "source": [
    "## 3. Các VD khác (kiến thức tổng hợp)"
   ]
  },
  {
   "cell_type": "markdown",
   "metadata": {},
   "source": [
    "### Ex1:\n",
    "- Tìm các bộ phim đã thuê chưa trả"
   ]
  },
  {
   "cell_type": "code",
   "execution_count": null,
   "metadata": {},
   "outputs": [],
   "source": []
  },
  {
   "cell_type": "markdown",
   "metadata": {},
   "source": [
    "## Ex2: \n",
    "- Tìm ra các bộ phim đã trễ hạn\n",
    "- Các bộ phim này nằm ở inventory nào\n",
    "- Các bộ phim này do ai thuê\n",
    "- Các bộ phim này thuộc category nào"
   ]
  },
  {
   "cell_type": "code",
   "execution_count": null,
   "metadata": {},
   "outputs": [],
   "source": []
  },
  {
   "cell_type": "markdown",
   "metadata": {},
   "source": [
    "### Ex3\n",
    "- Các bộ phim được thuê trong khoảng thời gian nào\n",
    "- Tìm ra top 5 film có doanh thu nhiều nhất vào tháng 1 (có plot)\n",
    "- Tương tự làm cho tất cả các tháng trong năm"
   ]
  },
  {
   "cell_type": "code",
   "execution_count": null,
   "metadata": {},
   "outputs": [],
   "source": []
  },
  {
   "cell_type": "markdown",
   "metadata": {},
   "source": [
    "### Ex4\n",
    "- Tìm ra top 5 nhân viên có doanh thu nhiều nhất vào tháng 1  (có plot)\n",
    "- Tương tự làm cho tất cả các tháng trong năm"
   ]
  },
  {
   "cell_type": "code",
   "execution_count": null,
   "metadata": {},
   "outputs": [],
   "source": []
  },
  {
   "cell_type": "markdown",
   "metadata": {},
   "source": [
    "### Ex5: \n",
    "- Có bao nhiêu nhân viên\n",
    "- Tạo bảng doanh số từng tháng cho các nhân viên theo dạng sau\n",
    "\n",
    "```\n",
    "+---------------------------+\n",
    "| month | staff_1 | staff_2 |\n",
    "+---------------------------+\n",
    "|     1 |         |         |\n",
    "|     2 |         |         |\n",
    "|     3 |         |         |\n",
    ".............................\n",
    "|    12 |         |         |\n",
    "+---------------------------+\n",
    "```\n",
    "- Vẽ plot biểu thị doanh số cho 2 nhân viên"
   ]
  },
  {
   "cell_type": "markdown",
   "metadata": {},
   "source": [
    "### Ex6: \n",
    "- Top 5 diễn viên có phim được bán chạy nhất trong năm (plot)\n",
    "- Mỗi diễn viên trong top 5 trên đóng bao nhiêu bộ\n",
    "- Plot diễn viên và số bộ phim đã đóng"
   ]
  },
  {
   "cell_type": "code",
   "execution_count": null,
   "metadata": {},
   "outputs": [],
   "source": []
  },
  {
   "cell_type": "markdown",
   "metadata": {},
   "source": [
    "### Ex7: \n",
    "- Khách hàng đến từ những nước nào\n",
    "- Doanh số theo từng nước (cao -> thấp) (có plot)"
   ]
  },
  {
   "cell_type": "code",
   "execution_count": null,
   "metadata": {},
   "outputs": [],
   "source": []
  },
  {
   "cell_type": "code",
   "execution_count": null,
   "metadata": {},
   "outputs": [],
   "source": []
  }
 ],
 "metadata": {
  "kernelspec": {
   "display_name": "Python 3",
   "language": "python",
   "name": "python3"
  },
  "language_info": {
   "codemirror_mode": {
    "name": "ipython",
    "version": 3
   },
   "file_extension": ".py",
   "mimetype": "text/x-python",
   "name": "python",
   "nbconvert_exporter": "python",
   "pygments_lexer": "ipython3",
   "version": "3.8.3"
  }
 },
 "nbformat": 4,
 "nbformat_minor": 4
}
