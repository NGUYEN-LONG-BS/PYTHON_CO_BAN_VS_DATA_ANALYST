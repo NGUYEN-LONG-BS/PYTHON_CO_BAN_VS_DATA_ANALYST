{
 "cells": [
  {
   "cell_type": "markdown",
   "metadata": {},
   "source": [
    "# A/B testing"
   ]
  },
  {
   "cell_type": "markdown",
   "metadata": {},
   "source": [
    "## Overview\n",
    "- Dùng để so sánh hiệu quả của thay đổi mang lại\n",
    "- VD: hiệu quả của CTR (click through rate) sau khi đổi thiết kế cho banner\n",
    "- Phù hợp khi test incremental changes (not major changes) vì mục đích là test hiệu quả của thay đổi nhỏ đem lại. Nếu major change thì có quá nhiều thay đổi lớn nên sự thay đổi có thể đến từ nhiều nguồn khác nhau\n",
    "    - Không thích hợp cho new products, new branding, completely new UX\n"
   ]
  },
  {
   "cell_type": "markdown",
   "metadata": {},
   "source": [
    "## Example"
   ]
  },
  {
   "cell_type": "markdown",
   "metadata": {},
   "source": [
    "<img src=\"https://cosmiccoding.com.au/static/img/tutorials/abtests/2020-01-12-ABTests_1_0.jpg\" style=\"height:300px\">"
   ]
  },
  {
   "cell_type": "markdown",
   "metadata": {},
   "source": [
    "1. Situation:\n",
    "    - Không hài lòng với website cũ vì nút `Add to cart` ko được hightlighted\n",
    "    - Intuition: nếu highlight lên có thể tăng conversion rates?\n",
    "    \n",
    "2. Design:\n",
    "    - A: old version of website\n",
    "    - B: new version of website\n",
    "    - Part of the customers is directed to the A version\n",
    "    - Part of the customers is directed tho the B version\n",
    "    \n",
    "3. Note:\n",
    "    - Only change is the button (small incremental changes)"
   ]
  },
  {
   "cell_type": "markdown",
   "metadata": {},
   "source": [
    "## Sample data"
   ]
  },
  {
   "cell_type": "code",
   "execution_count": 1,
   "metadata": {},
   "outputs": [],
   "source": [
    "import numpy as np"
   ]
  },
  {
   "cell_type": "code",
   "execution_count": 2,
   "metadata": {},
   "outputs": [],
   "source": [
    "# Giả lập data\n",
    "np.random.seed(1)\n",
    "a = np.random.binomial(1, 0.08, size=100000) # 100K khách hàng visit version cũ\n",
    "\n",
    "np.random.seed(1)\n",
    "b = np.random.binomial(1, 0.12, size=150000) # 150K khách hàng visit version mới"
   ]
  },
  {
   "cell_type": "code",
   "execution_count": 3,
   "metadata": {},
   "outputs": [
    {
     "name": "stdout",
     "output_type": "stream",
     "text": [
      "[0 0 0 0 0 0 0 0 0 0 0 0 0 0 0 0 0 0 0 0 0 1 0 0 0 0 0 0 0 0 0 0 1 0 0 0 0\n",
      " 0 0 0 1 0 0 0 0 0 0 0 0 0 0 0 0 0 0 0 0 0 0 0 0 0 0 0 0 0 0 0 1 0 0 0 0 0\n",
      " 0 0 1 0 0 0 0 0 0 0 0 0 0 1 0 0 0 1 0 0 0 0 0 0 0 0]\n",
      "[0 0 0 0 0 0 0 0 0 0 0 0 0 0 0 0 0 0 0 0 0 1 0 0 0 1 0 0 0 0 0 0 1 0 0 0 0\n",
      " 0 0 0 1 0 0 0 0 0 1 0 0 0 0 0 0 0 0 0 0 0 0 0 0 0 0 0 0 0 0 0 1 0 1 0 0 0\n",
      " 0 0 1 0 0 0 1 0 0 0 0 1 0 1 0 0 0 1 0 0 0 0 1 0 0 0]\n"
     ]
    }
   ],
   "source": [
    "# View data\n",
    "print(a[:100])\n",
    "print(b[:100])"
   ]
  },
  {
   "cell_type": "code",
   "execution_count": 4,
   "metadata": {},
   "outputs": [
    {
     "name": "stdout",
     "output_type": "stream",
     "text": [
      "0.08029\n",
      "0.12012\n"
     ]
    }
   ],
   "source": [
    "# Tính CTR\n",
    "rate_a = np.mean(a)\n",
    "rate_b = np.mean(b)\n",
    "\n",
    "print(rate_a)\n",
    "print(rate_b)"
   ]
  },
  {
   "cell_type": "markdown",
   "metadata": {},
   "source": [
    "- Nhận xét: version mới có vẻ cải thiện hơn version cũ (rate tăng từ 8% lên 12%)\n",
    "- Câu hỏi: is this improvement STATISTICALLY SIGNIFICANT (or just happen by chance)?"
   ]
  },
  {
   "cell_type": "markdown",
   "metadata": {},
   "source": [
    "## Test"
   ]
  },
  {
   "cell_type": "markdown",
   "metadata": {},
   "source": [
    "- Null hypothesis ($H_0$): no significant difference between your test group (B) and control group (A)\n",
    "- Alternative hypothesis ($H_a$): there is significant difference between your test group (B) and control group (A)"
   ]
  },
  {
   "cell_type": "code",
   "execution_count": 5,
   "metadata": {},
   "outputs": [
    {
     "data": {
      "text/plain": [
       "Ttest_indResult(statistic=32.00033685997921, pvalue=3.075864376906776e-224)"
      ]
     },
     "execution_count": 5,
     "metadata": {},
     "output_type": "execute_result"
    }
   ],
   "source": [
    "# Test in Python\n",
    "from scipy import stats\n",
    "stats.ttest_ind(b, a)"
   ]
  },
  {
   "cell_type": "markdown",
   "metadata": {},
   "source": [
    "#### Interpret the results\n",
    "- t-statistic: express the difference between 2 groups in units of standard error. Higher means more statistical significant -> support alternative hypothesis $H_a$\n",
    "- pvalue: probability of $H_0$\n",
    "\n",
    "- In this case: $H_0$ is very unlikely -> the difference is statistically significant"
   ]
  },
  {
   "cell_type": "markdown",
   "metadata": {},
   "source": [
    "Common pvalue thresholds:\n",
    "\n",
    "- 10%: pvalue < 0.1\n",
    "- 5%: pvalue < 0.05\n",
    "- 1%: pvalue < 0.01"
   ]
  },
  {
   "cell_type": "markdown",
   "metadata": {},
   "source": [
    "## Another example"
   ]
  },
  {
   "cell_type": "code",
   "execution_count": 6,
   "metadata": {},
   "outputs": [],
   "source": [
    "# Giả lập data\n",
    "np.random.seed(1)\n",
    "a = np.random.binomial(1, 0.08, size=100)\n",
    "\n",
    "np.random.seed(1)\n",
    "b = np.random.binomial(1, 0.12, size=100)"
   ]
  },
  {
   "cell_type": "code",
   "execution_count": 7,
   "metadata": {},
   "outputs": [
    {
     "name": "stdout",
     "output_type": "stream",
     "text": [
      "0.07\n",
      "0.13\n"
     ]
    }
   ],
   "source": [
    "# Tính CLR\n",
    "rate_a = np.mean(a)\n",
    "rate_b = np.mean(b)\n",
    "\n",
    "print(rate_a)\n",
    "print(rate_b)"
   ]
  },
  {
   "cell_type": "code",
   "execution_count": 8,
   "metadata": {},
   "outputs": [
    {
     "data": {
      "text/plain": [
       "Ttest_indResult(statistic=1.4142135623730951, pvalue=0.15886970489441132)"
      ]
     },
     "execution_count": 8,
     "metadata": {},
     "output_type": "execute_result"
    }
   ],
   "source": [
    "from scipy import stats\n",
    "stats.ttest_ind(b, a)"
   ]
  }
 ],
 "metadata": {
  "kernelspec": {
   "display_name": "Python 3",
   "language": "python",
   "name": "python3"
  },
  "language_info": {
   "codemirror_mode": {
    "name": "ipython",
    "version": 3
   },
   "file_extension": ".py",
   "mimetype": "text/x-python",
   "name": "python",
   "nbconvert_exporter": "python",
   "pygments_lexer": "ipython3",
   "version": "3.8.3"
  }
 },
 "nbformat": 4,
 "nbformat_minor": 4
}
