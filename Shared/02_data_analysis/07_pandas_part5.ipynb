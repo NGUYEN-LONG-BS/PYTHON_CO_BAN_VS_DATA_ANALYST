{
 "cells": [
  {
   "cell_type": "markdown",
   "metadata": {},
   "source": [
    "# Bài 7: Pandas (part 5)"
   ]
  },
  {
   "cell_type": "code",
   "execution_count": 1,
   "metadata": {},
   "outputs": [],
   "source": [
    "import pandas as pd\n",
    "import numpy as np"
   ]
  },
  {
   "cell_type": "markdown",
   "metadata": {},
   "source": [
    "## 1. Warnings"
   ]
  },
  {
   "cell_type": "code",
   "execution_count": 2,
   "metadata": {},
   "outputs": [],
   "source": [
    "# Tạo sample data\n",
    "df = pd.DataFrame({\n",
    "    \"id\": range(1, 6),\n",
    "    \"score\": [\"A\", \"B\", \"B\", \"A\", \"F\"],\n",
    "})"
   ]
  },
  {
   "cell_type": "code",
   "execution_count": 3,
   "metadata": {},
   "outputs": [
    {
     "data": {
      "text/html": [
       "<div>\n",
       "<style scoped>\n",
       "    .dataframe tbody tr th:only-of-type {\n",
       "        vertical-align: middle;\n",
       "    }\n",
       "\n",
       "    .dataframe tbody tr th {\n",
       "        vertical-align: top;\n",
       "    }\n",
       "\n",
       "    .dataframe thead th {\n",
       "        text-align: right;\n",
       "    }\n",
       "</style>\n",
       "<table border=\"1\" class=\"dataframe\">\n",
       "  <thead>\n",
       "    <tr style=\"text-align: right;\">\n",
       "      <th></th>\n",
       "      <th>id</th>\n",
       "      <th>score</th>\n",
       "    </tr>\n",
       "  </thead>\n",
       "  <tbody>\n",
       "    <tr>\n",
       "      <th>0</th>\n",
       "      <td>1</td>\n",
       "      <td>A</td>\n",
       "    </tr>\n",
       "    <tr>\n",
       "      <th>1</th>\n",
       "      <td>2</td>\n",
       "      <td>B</td>\n",
       "    </tr>\n",
       "    <tr>\n",
       "      <th>2</th>\n",
       "      <td>3</td>\n",
       "      <td>B</td>\n",
       "    </tr>\n",
       "    <tr>\n",
       "      <th>3</th>\n",
       "      <td>4</td>\n",
       "      <td>A</td>\n",
       "    </tr>\n",
       "    <tr>\n",
       "      <th>4</th>\n",
       "      <td>5</td>\n",
       "      <td>F</td>\n",
       "    </tr>\n",
       "  </tbody>\n",
       "</table>\n",
       "</div>"
      ],
      "text/plain": [
       "   id score\n",
       "0   1     A\n",
       "1   2     B\n",
       "2   3     B\n",
       "3   4     A\n",
       "4   5     F"
      ]
     },
     "execution_count": 3,
     "metadata": {},
     "output_type": "execute_result"
    }
   ],
   "source": [
    "# View\n",
    "df"
   ]
  },
  {
   "cell_type": "code",
   "execution_count": 4,
   "metadata": {},
   "outputs": [
    {
     "data": {
      "text/html": [
       "<div>\n",
       "<style scoped>\n",
       "    .dataframe tbody tr th:only-of-type {\n",
       "        vertical-align: middle;\n",
       "    }\n",
       "\n",
       "    .dataframe tbody tr th {\n",
       "        vertical-align: top;\n",
       "    }\n",
       "\n",
       "    .dataframe thead th {\n",
       "        text-align: right;\n",
       "    }\n",
       "</style>\n",
       "<table border=\"1\" class=\"dataframe\">\n",
       "  <thead>\n",
       "    <tr style=\"text-align: right;\">\n",
       "      <th></th>\n",
       "      <th>id</th>\n",
       "      <th>score</th>\n",
       "    </tr>\n",
       "  </thead>\n",
       "  <tbody>\n",
       "    <tr>\n",
       "      <th>0</th>\n",
       "      <td>1</td>\n",
       "      <td>A</td>\n",
       "    </tr>\n",
       "    <tr>\n",
       "      <th>1</th>\n",
       "      <td>2</td>\n",
       "      <td>B</td>\n",
       "    </tr>\n",
       "    <tr>\n",
       "      <th>2</th>\n",
       "      <td>3</td>\n",
       "      <td>B</td>\n",
       "    </tr>\n",
       "    <tr>\n",
       "      <th>3</th>\n",
       "      <td>4</td>\n",
       "      <td>A</td>\n",
       "    </tr>\n",
       "    <tr>\n",
       "      <th>4</th>\n",
       "      <td>5</td>\n",
       "      <td>F</td>\n",
       "    </tr>\n",
       "  </tbody>\n",
       "</table>\n",
       "</div>"
      ],
      "text/plain": [
       "   id score\n",
       "0   1     A\n",
       "1   2     B\n",
       "2   3     B\n",
       "3   4     A\n",
       "4   5     F"
      ]
     },
     "execution_count": 4,
     "metadata": {},
     "output_type": "execute_result"
    }
   ],
   "source": [
    "# Tạo copy\n",
    "df2 = df.copy()\n",
    "df2"
   ]
  },
  {
   "cell_type": "markdown",
   "metadata": {},
   "source": [
    "## 1.1. Warning caused by \"chained assigment\""
   ]
  },
  {
   "cell_type": "markdown",
   "metadata": {},
   "source": [
    "#### Wrong way"
   ]
  },
  {
   "cell_type": "code",
   "execution_count": 5,
   "metadata": {},
   "outputs": [
    {
     "data": {
      "text/html": [
       "<div>\n",
       "<style scoped>\n",
       "    .dataframe tbody tr th:only-of-type {\n",
       "        vertical-align: middle;\n",
       "    }\n",
       "\n",
       "    .dataframe tbody tr th {\n",
       "        vertical-align: top;\n",
       "    }\n",
       "\n",
       "    .dataframe thead th {\n",
       "        text-align: right;\n",
       "    }\n",
       "</style>\n",
       "<table border=\"1\" class=\"dataframe\">\n",
       "  <thead>\n",
       "    <tr style=\"text-align: right;\">\n",
       "      <th></th>\n",
       "      <th>id</th>\n",
       "      <th>score</th>\n",
       "    </tr>\n",
       "  </thead>\n",
       "  <tbody>\n",
       "    <tr>\n",
       "      <th>0</th>\n",
       "      <td>1</td>\n",
       "      <td>A</td>\n",
       "    </tr>\n",
       "    <tr>\n",
       "      <th>3</th>\n",
       "      <td>4</td>\n",
       "      <td>A</td>\n",
       "    </tr>\n",
       "  </tbody>\n",
       "</table>\n",
       "</div>"
      ],
      "text/plain": [
       "   id score\n",
       "0   1     A\n",
       "3   4     A"
      ]
     },
     "execution_count": 5,
     "metadata": {},
     "output_type": "execute_result"
    }
   ],
   "source": [
    "# 1. Lọc ra sinh viên điểm A\n",
    "df2.loc[df2[\"score\"] == \"A\", :]"
   ]
  },
  {
   "cell_type": "code",
   "execution_count": 6,
   "metadata": {},
   "outputs": [
    {
     "data": {
      "text/plain": [
       "0    A\n",
       "3    A\n",
       "Name: score, dtype: object"
      ]
     },
     "execution_count": 6,
     "metadata": {},
     "output_type": "execute_result"
    }
   ],
   "source": [
    "# 2. Lọc ra sinh viên điểm A, truy xuất vào cột điểm\n",
    "df2.loc[df2[\"score\"] == \"A\", :][\"score\"]"
   ]
  },
  {
   "cell_type": "code",
   "execution_count": 7,
   "metadata": {},
   "outputs": [
    {
     "name": "stderr",
     "output_type": "stream",
     "text": [
      "<ipython-input-7-7c80303fe73e>:3: SettingWithCopyWarning: \n",
      "A value is trying to be set on a copy of a slice from a DataFrame.\n",
      "Try using .loc[row_indexer,col_indexer] = value instead\n",
      "\n",
      "See the caveats in the documentation: https://pandas.pydata.org/pandas-docs/stable/user_guide/indexing.html#returning-a-view-versus-a-copy\n",
      "  df2.loc[df2[\"score\"] == \"A\", :][\"score\"] = \"C\"\n"
     ]
    }
   ],
   "source": [
    "# 3. Lọc ra sinh viên điểm A, truy xuất vào cột điểm, sửa lại thành điểm C\n",
    "# Chú ý sẽ phát sinh warning\n",
    "df2.loc[df2[\"score\"] == \"A\", :][\"score\"] = \"C\""
   ]
  },
  {
   "cell_type": "code",
   "execution_count": 8,
   "metadata": {},
   "outputs": [
    {
     "data": {
      "text/html": [
       "<div>\n",
       "<style scoped>\n",
       "    .dataframe tbody tr th:only-of-type {\n",
       "        vertical-align: middle;\n",
       "    }\n",
       "\n",
       "    .dataframe tbody tr th {\n",
       "        vertical-align: top;\n",
       "    }\n",
       "\n",
       "    .dataframe thead th {\n",
       "        text-align: right;\n",
       "    }\n",
       "</style>\n",
       "<table border=\"1\" class=\"dataframe\">\n",
       "  <thead>\n",
       "    <tr style=\"text-align: right;\">\n",
       "      <th></th>\n",
       "      <th>id</th>\n",
       "      <th>score</th>\n",
       "    </tr>\n",
       "  </thead>\n",
       "  <tbody>\n",
       "    <tr>\n",
       "      <th>0</th>\n",
       "      <td>1</td>\n",
       "      <td>A</td>\n",
       "    </tr>\n",
       "    <tr>\n",
       "      <th>1</th>\n",
       "      <td>2</td>\n",
       "      <td>B</td>\n",
       "    </tr>\n",
       "    <tr>\n",
       "      <th>2</th>\n",
       "      <td>3</td>\n",
       "      <td>B</td>\n",
       "    </tr>\n",
       "    <tr>\n",
       "      <th>3</th>\n",
       "      <td>4</td>\n",
       "      <td>A</td>\n",
       "    </tr>\n",
       "    <tr>\n",
       "      <th>4</th>\n",
       "      <td>5</td>\n",
       "      <td>F</td>\n",
       "    </tr>\n",
       "  </tbody>\n",
       "</table>\n",
       "</div>"
      ],
      "text/plain": [
       "   id score\n",
       "0   1     A\n",
       "1   2     B\n",
       "2   3     B\n",
       "3   4     A\n",
       "4   5     F"
      ]
     },
     "execution_count": 8,
     "metadata": {},
     "output_type": "execute_result"
    }
   ],
   "source": [
    "# 4. Kiểm tra lại xem df2 có thực sự thay đổi\n",
    "# Kết quả: không thay đổi. Why?\n",
    "df2"
   ]
  },
  {
   "cell_type": "markdown",
   "metadata": {},
   "source": [
    "#### Giải thích: \n",
    "\n",
    "- Warning: `A value is trying to be set on a copy of a slice from a DataFrame.`\n",
    "- Đây không phải là lỗi (Error) mà là cảnh báo (Warning) rằng code có thể có vấn đề (VD: behave theo cách ko dự tính)\n",
    "- Warning trên có tên là: `SettingWithCopy`, tức mình cố gán giá trị vào một bảng copy của data frame\n",
    "- Process diễn ra như sau:\n",
    "    1. `df2.loc[df2[\"score\"] == \"A\", :]` return 1 view đến những dòng có `score == \"A\"` của `df2`. Nếu muốn thay đổi `df2` qua view này thì OK không vấn đề gì.\n",
    "    1. Tuy nhiên hành động tiếp theo `df2.loc[df2[\"score\"] == \"A\", :][\"score\"]` truy xuất đến cột score của view nói ở trên, lúc này cột `score` được trả về dưới dạng series, nhưng không còn liên quan gì đến `df2` nữa. Cái này gọi là \"chained indexing\" - index lần 1 dùng `.loc` để trả về view, chain tiếp lần 2 dùng `[\"score\"]` để truy xuất vào cột `score`\n",
    "    1. Nếu chỉ để đọc data, ko modify thì sẽ không có vấn đề gì\n",
    "    1. Tuy nhiên nếu muốn thay đổi data thì sẽ không được, như ở VD trên, và 1 warning được Pandas in ra để báo cho LTV biết là LTV đang set value (gán) trên một bản copy từ `df2`, chứ ko phải trên `df2`. Vì vậy nếu ý định là thay đổi `df2` bằng cách này thì sẽ không thực hiện đc."
   ]
  },
  {
   "cell_type": "markdown",
   "metadata": {},
   "source": [
    "#### Correct way"
   ]
  },
  {
   "cell_type": "code",
   "execution_count": 9,
   "metadata": {},
   "outputs": [],
   "source": [
    "# Truy xuất toàn bộ trong .loc và thực hiện gán\n",
    "# Kết quả: No warning\n",
    "df2.loc[df2[\"score\"] == \"A\", \"score\"] = \"C\""
   ]
  },
  {
   "cell_type": "code",
   "execution_count": 10,
   "metadata": {},
   "outputs": [
    {
     "data": {
      "text/html": [
       "<div>\n",
       "<style scoped>\n",
       "    .dataframe tbody tr th:only-of-type {\n",
       "        vertical-align: middle;\n",
       "    }\n",
       "\n",
       "    .dataframe tbody tr th {\n",
       "        vertical-align: top;\n",
       "    }\n",
       "\n",
       "    .dataframe thead th {\n",
       "        text-align: right;\n",
       "    }\n",
       "</style>\n",
       "<table border=\"1\" class=\"dataframe\">\n",
       "  <thead>\n",
       "    <tr style=\"text-align: right;\">\n",
       "      <th></th>\n",
       "      <th>id</th>\n",
       "      <th>score</th>\n",
       "    </tr>\n",
       "  </thead>\n",
       "  <tbody>\n",
       "    <tr>\n",
       "      <th>0</th>\n",
       "      <td>1</td>\n",
       "      <td>C</td>\n",
       "    </tr>\n",
       "    <tr>\n",
       "      <th>1</th>\n",
       "      <td>2</td>\n",
       "      <td>B</td>\n",
       "    </tr>\n",
       "    <tr>\n",
       "      <th>2</th>\n",
       "      <td>3</td>\n",
       "      <td>B</td>\n",
       "    </tr>\n",
       "    <tr>\n",
       "      <th>3</th>\n",
       "      <td>4</td>\n",
       "      <td>C</td>\n",
       "    </tr>\n",
       "    <tr>\n",
       "      <th>4</th>\n",
       "      <td>5</td>\n",
       "      <td>F</td>\n",
       "    </tr>\n",
       "  </tbody>\n",
       "</table>\n",
       "</div>"
      ],
      "text/plain": [
       "   id score\n",
       "0   1     C\n",
       "1   2     B\n",
       "2   3     B\n",
       "3   4     C\n",
       "4   5     F"
      ]
     },
     "execution_count": 10,
     "metadata": {},
     "output_type": "execute_result"
    }
   ],
   "source": [
    "# Kiểm tra lại df2\n",
    "# Đã được update\n",
    "df2"
   ]
  },
  {
   "cell_type": "markdown",
   "metadata": {},
   "source": [
    "## 1.2. Warning caused by \"hidden chaining\""
   ]
  },
  {
   "cell_type": "code",
   "execution_count": 11,
   "metadata": {},
   "outputs": [
    {
     "data": {
      "text/html": [
       "<div>\n",
       "<style scoped>\n",
       "    .dataframe tbody tr th:only-of-type {\n",
       "        vertical-align: middle;\n",
       "    }\n",
       "\n",
       "    .dataframe tbody tr th {\n",
       "        vertical-align: top;\n",
       "    }\n",
       "\n",
       "    .dataframe thead th {\n",
       "        text-align: right;\n",
       "    }\n",
       "</style>\n",
       "<table border=\"1\" class=\"dataframe\">\n",
       "  <thead>\n",
       "    <tr style=\"text-align: right;\">\n",
       "      <th></th>\n",
       "      <th>id</th>\n",
       "      <th>score</th>\n",
       "    </tr>\n",
       "  </thead>\n",
       "  <tbody>\n",
       "    <tr>\n",
       "      <th>0</th>\n",
       "      <td>1</td>\n",
       "      <td>A</td>\n",
       "    </tr>\n",
       "    <tr>\n",
       "      <th>1</th>\n",
       "      <td>2</td>\n",
       "      <td>B</td>\n",
       "    </tr>\n",
       "    <tr>\n",
       "      <th>2</th>\n",
       "      <td>3</td>\n",
       "      <td>B</td>\n",
       "    </tr>\n",
       "    <tr>\n",
       "      <th>3</th>\n",
       "      <td>4</td>\n",
       "      <td>A</td>\n",
       "    </tr>\n",
       "    <tr>\n",
       "      <th>4</th>\n",
       "      <td>5</td>\n",
       "      <td>F</td>\n",
       "    </tr>\n",
       "  </tbody>\n",
       "</table>\n",
       "</div>"
      ],
      "text/plain": [
       "   id score\n",
       "0   1     A\n",
       "1   2     B\n",
       "2   3     B\n",
       "3   4     A\n",
       "4   5     F"
      ]
     },
     "execution_count": 11,
     "metadata": {},
     "output_type": "execute_result"
    }
   ],
   "source": [
    "# Tạo lại df2 từ df\n",
    "df2 = df.copy()\n",
    "df2"
   ]
  },
  {
   "cell_type": "code",
   "execution_count": 12,
   "metadata": {},
   "outputs": [],
   "source": [
    "# 1. Subset những dòng có điểm là A, gán vào df3\n",
    "df3 = df2.loc[df2[\"score\"] == \"A\", :]"
   ]
  },
  {
   "cell_type": "code",
   "execution_count": 13,
   "metadata": {},
   "outputs": [
    {
     "data": {
      "text/html": [
       "<div>\n",
       "<style scoped>\n",
       "    .dataframe tbody tr th:only-of-type {\n",
       "        vertical-align: middle;\n",
       "    }\n",
       "\n",
       "    .dataframe tbody tr th {\n",
       "        vertical-align: top;\n",
       "    }\n",
       "\n",
       "    .dataframe thead th {\n",
       "        text-align: right;\n",
       "    }\n",
       "</style>\n",
       "<table border=\"1\" class=\"dataframe\">\n",
       "  <thead>\n",
       "    <tr style=\"text-align: right;\">\n",
       "      <th></th>\n",
       "      <th>id</th>\n",
       "      <th>score</th>\n",
       "    </tr>\n",
       "  </thead>\n",
       "  <tbody>\n",
       "    <tr>\n",
       "      <th>0</th>\n",
       "      <td>1</td>\n",
       "      <td>A</td>\n",
       "    </tr>\n",
       "    <tr>\n",
       "      <th>3</th>\n",
       "      <td>4</td>\n",
       "      <td>A</td>\n",
       "    </tr>\n",
       "  </tbody>\n",
       "</table>\n",
       "</div>"
      ],
      "text/plain": [
       "   id score\n",
       "0   1     A\n",
       "3   4     A"
      ]
     },
     "execution_count": 13,
     "metadata": {},
     "output_type": "execute_result"
    }
   ],
   "source": [
    "# 2. View\n",
    "df3"
   ]
  },
  {
   "cell_type": "code",
   "execution_count": 14,
   "metadata": {},
   "outputs": [
    {
     "name": "stderr",
     "output_type": "stream",
     "text": [
      "<ipython-input-14-43c8b24a46f5>:3: SettingWithCopyWarning: \n",
      "A value is trying to be set on a copy of a slice from a DataFrame.\n",
      "Try using .loc[row_indexer,col_indexer] = value instead\n",
      "\n",
      "See the caveats in the documentation: https://pandas.pydata.org/pandas-docs/stable/user_guide/indexing.html#returning-a-view-versus-a-copy\n",
      "  df3[\"score\"] = \"C\"\n"
     ]
    }
   ],
   "source": [
    "# 3. Sửa score của df3 thành C theo cách đúng ở phần 1.1\n",
    "# Kết quả: vẫn có warning\n",
    "df3[\"score\"] = \"C\""
   ]
  },
  {
   "cell_type": "code",
   "execution_count": 15,
   "metadata": {},
   "outputs": [
    {
     "data": {
      "text/html": [
       "<div>\n",
       "<style scoped>\n",
       "    .dataframe tbody tr th:only-of-type {\n",
       "        vertical-align: middle;\n",
       "    }\n",
       "\n",
       "    .dataframe tbody tr th {\n",
       "        vertical-align: top;\n",
       "    }\n",
       "\n",
       "    .dataframe thead th {\n",
       "        text-align: right;\n",
       "    }\n",
       "</style>\n",
       "<table border=\"1\" class=\"dataframe\">\n",
       "  <thead>\n",
       "    <tr style=\"text-align: right;\">\n",
       "      <th></th>\n",
       "      <th>id</th>\n",
       "      <th>score</th>\n",
       "    </tr>\n",
       "  </thead>\n",
       "  <tbody>\n",
       "    <tr>\n",
       "      <th>0</th>\n",
       "      <td>1</td>\n",
       "      <td>C</td>\n",
       "    </tr>\n",
       "    <tr>\n",
       "      <th>3</th>\n",
       "      <td>4</td>\n",
       "      <td>C</td>\n",
       "    </tr>\n",
       "  </tbody>\n",
       "</table>\n",
       "</div>"
      ],
      "text/plain": [
       "   id score\n",
       "0   1     C\n",
       "3   4     C"
      ]
     },
     "execution_count": 15,
     "metadata": {},
     "output_type": "execute_result"
    }
   ],
   "source": [
    "# 4. Kiểm tra lại df3\n",
    "# Kết quả: đã được thay đổi\n",
    "df3"
   ]
  },
  {
   "cell_type": "code",
   "execution_count": 16,
   "metadata": {},
   "outputs": [
    {
     "data": {
      "text/html": [
       "<div>\n",
       "<style scoped>\n",
       "    .dataframe tbody tr th:only-of-type {\n",
       "        vertical-align: middle;\n",
       "    }\n",
       "\n",
       "    .dataframe tbody tr th {\n",
       "        vertical-align: top;\n",
       "    }\n",
       "\n",
       "    .dataframe thead th {\n",
       "        text-align: right;\n",
       "    }\n",
       "</style>\n",
       "<table border=\"1\" class=\"dataframe\">\n",
       "  <thead>\n",
       "    <tr style=\"text-align: right;\">\n",
       "      <th></th>\n",
       "      <th>id</th>\n",
       "      <th>score</th>\n",
       "    </tr>\n",
       "  </thead>\n",
       "  <tbody>\n",
       "    <tr>\n",
       "      <th>0</th>\n",
       "      <td>1</td>\n",
       "      <td>A</td>\n",
       "    </tr>\n",
       "    <tr>\n",
       "      <th>1</th>\n",
       "      <td>2</td>\n",
       "      <td>B</td>\n",
       "    </tr>\n",
       "    <tr>\n",
       "      <th>2</th>\n",
       "      <td>3</td>\n",
       "      <td>B</td>\n",
       "    </tr>\n",
       "    <tr>\n",
       "      <th>3</th>\n",
       "      <td>4</td>\n",
       "      <td>A</td>\n",
       "    </tr>\n",
       "    <tr>\n",
       "      <th>4</th>\n",
       "      <td>5</td>\n",
       "      <td>F</td>\n",
       "    </tr>\n",
       "  </tbody>\n",
       "</table>\n",
       "</div>"
      ],
      "text/plain": [
       "   id score\n",
       "0   1     A\n",
       "1   2     B\n",
       "2   3     B\n",
       "3   4     A\n",
       "4   5     F"
      ]
     },
     "execution_count": 16,
     "metadata": {},
     "output_type": "execute_result"
    }
   ],
   "source": [
    "# 5. Kiểm tra lại df2\n",
    "# Kết quả: không có thay đổi gì\n",
    "df2"
   ]
  },
  {
   "cell_type": "markdown",
   "metadata": {},
   "source": [
    "#### Giải thích\n",
    "- Khi chạy câu lệnh `df3 = df2.loc[df2[\"score\"] == \"A\", :]`, df3 thực ra không tạo 1 bản copy của những dòng `score == \"A\"` từ df2, mà chỉ tạo 1 view đến những dòng này. Mục đích để tiết kiệm bộ nhớ, tránh tạo duplicate data.\n",
    "- Do vậy `df3` thực ra không tách rời hẳn `df2`, mà được gọi là một `weak reference` đến `df2`\n",
    "- Tuy nhiên khi ta cố thay đổi `df3` thông qua `df2` thì không được (vì lý do chained indexing ở trên)\n",
    "- Do vậy mọi thay đổi ở `df3` sẽ báo một warning để cảnh báo LTV là những thay đổi trên `df3` chỉ có tác dụng trên `df3`, chứ không có tác dụng trên `df2`\n",
    "- Để tránh hiện warning kiểu này, khi subset data nên dùng `.copy()` để `df3` độc lập hẳn với `df2`"
   ]
  },
  {
   "cell_type": "code",
   "execution_count": 17,
   "metadata": {},
   "outputs": [],
   "source": [
    "# 1. Tạo df3 là bản copy độc lập\n",
    "df3 = df2.loc[df2[\"score\"] == \"A\", :].copy()"
   ]
  },
  {
   "cell_type": "code",
   "execution_count": 18,
   "metadata": {},
   "outputs": [
    {
     "data": {
      "text/html": [
       "<div>\n",
       "<style scoped>\n",
       "    .dataframe tbody tr th:only-of-type {\n",
       "        vertical-align: middle;\n",
       "    }\n",
       "\n",
       "    .dataframe tbody tr th {\n",
       "        vertical-align: top;\n",
       "    }\n",
       "\n",
       "    .dataframe thead th {\n",
       "        text-align: right;\n",
       "    }\n",
       "</style>\n",
       "<table border=\"1\" class=\"dataframe\">\n",
       "  <thead>\n",
       "    <tr style=\"text-align: right;\">\n",
       "      <th></th>\n",
       "      <th>id</th>\n",
       "      <th>score</th>\n",
       "    </tr>\n",
       "  </thead>\n",
       "  <tbody>\n",
       "    <tr>\n",
       "      <th>0</th>\n",
       "      <td>1</td>\n",
       "      <td>A</td>\n",
       "    </tr>\n",
       "    <tr>\n",
       "      <th>3</th>\n",
       "      <td>4</td>\n",
       "      <td>A</td>\n",
       "    </tr>\n",
       "  </tbody>\n",
       "</table>\n",
       "</div>"
      ],
      "text/plain": [
       "   id score\n",
       "0   1     A\n",
       "3   4     A"
      ]
     },
     "execution_count": 18,
     "metadata": {},
     "output_type": "execute_result"
    }
   ],
   "source": [
    "# 2. View\n",
    "df3"
   ]
  },
  {
   "cell_type": "code",
   "execution_count": 19,
   "metadata": {},
   "outputs": [],
   "source": [
    "# 3. Sửa df3\n",
    "# Kết quả: No warning\n",
    "df3[\"score\"] = \"C\""
   ]
  },
  {
   "cell_type": "code",
   "execution_count": 20,
   "metadata": {},
   "outputs": [
    {
     "data": {
      "text/html": [
       "<div>\n",
       "<style scoped>\n",
       "    .dataframe tbody tr th:only-of-type {\n",
       "        vertical-align: middle;\n",
       "    }\n",
       "\n",
       "    .dataframe tbody tr th {\n",
       "        vertical-align: top;\n",
       "    }\n",
       "\n",
       "    .dataframe thead th {\n",
       "        text-align: right;\n",
       "    }\n",
       "</style>\n",
       "<table border=\"1\" class=\"dataframe\">\n",
       "  <thead>\n",
       "    <tr style=\"text-align: right;\">\n",
       "      <th></th>\n",
       "      <th>id</th>\n",
       "      <th>score</th>\n",
       "    </tr>\n",
       "  </thead>\n",
       "  <tbody>\n",
       "    <tr>\n",
       "      <th>0</th>\n",
       "      <td>1</td>\n",
       "      <td>C</td>\n",
       "    </tr>\n",
       "    <tr>\n",
       "      <th>3</th>\n",
       "      <td>4</td>\n",
       "      <td>C</td>\n",
       "    </tr>\n",
       "  </tbody>\n",
       "</table>\n",
       "</div>"
      ],
      "text/plain": [
       "   id score\n",
       "0   1     C\n",
       "3   4     C"
      ]
     },
     "execution_count": 20,
     "metadata": {},
     "output_type": "execute_result"
    }
   ],
   "source": [
    "# 4. View df3\n",
    "# Kết quả: Đã được update\n",
    "df3"
   ]
  },
  {
   "cell_type": "code",
   "execution_count": 21,
   "metadata": {},
   "outputs": [
    {
     "data": {
      "text/html": [
       "<div>\n",
       "<style scoped>\n",
       "    .dataframe tbody tr th:only-of-type {\n",
       "        vertical-align: middle;\n",
       "    }\n",
       "\n",
       "    .dataframe tbody tr th {\n",
       "        vertical-align: top;\n",
       "    }\n",
       "\n",
       "    .dataframe thead th {\n",
       "        text-align: right;\n",
       "    }\n",
       "</style>\n",
       "<table border=\"1\" class=\"dataframe\">\n",
       "  <thead>\n",
       "    <tr style=\"text-align: right;\">\n",
       "      <th></th>\n",
       "      <th>id</th>\n",
       "      <th>score</th>\n",
       "    </tr>\n",
       "  </thead>\n",
       "  <tbody>\n",
       "    <tr>\n",
       "      <th>0</th>\n",
       "      <td>1</td>\n",
       "      <td>A</td>\n",
       "    </tr>\n",
       "    <tr>\n",
       "      <th>1</th>\n",
       "      <td>2</td>\n",
       "      <td>B</td>\n",
       "    </tr>\n",
       "    <tr>\n",
       "      <th>2</th>\n",
       "      <td>3</td>\n",
       "      <td>B</td>\n",
       "    </tr>\n",
       "    <tr>\n",
       "      <th>3</th>\n",
       "      <td>4</td>\n",
       "      <td>A</td>\n",
       "    </tr>\n",
       "    <tr>\n",
       "      <th>4</th>\n",
       "      <td>5</td>\n",
       "      <td>F</td>\n",
       "    </tr>\n",
       "  </tbody>\n",
       "</table>\n",
       "</div>"
      ],
      "text/plain": [
       "   id score\n",
       "0   1     A\n",
       "1   2     B\n",
       "2   3     B\n",
       "3   4     A\n",
       "4   5     F"
      ]
     },
     "execution_count": 21,
     "metadata": {},
     "output_type": "execute_result"
    }
   ],
   "source": [
    "# 5. View df2\n",
    "# Kết quả: Không bị thay đổi\n",
    "df2"
   ]
  },
  {
   "cell_type": "markdown",
   "metadata": {},
   "source": [
    "### 1.3. Takeaway"
   ]
  },
  {
   "cell_type": "markdown",
   "metadata": {},
   "source": [
    "1. Khi subset df theo một condition nào đó, rồi sửa một cột cho những dòng đó thì tất cả phải truy xuất  `.loc` và gán trong một câu lệnh. \n",
    "    - Ví dụ: lọc ra những dòng có `score == \"A\"` và sửa cột score cho những dòng này thành `\"C\"` thì làm như sau:\n",
    "    - `df.loc[df[\"score\"] == \"A\", \"score\"] = \"C\"`\n",
    "    \n",
    "1. Khi subset df dựa trên một condition nào đó và lưu ra một df khác (có thể sẽ sửa đổi sau này) thì nên dùng `.copy()`"
   ]
  },
  {
   "cell_type": "markdown",
   "metadata": {},
   "source": [
    "## 2. Sum up everything"
   ]
  },
  {
   "cell_type": "markdown",
   "metadata": {},
   "source": [
    "### A. Overview\n",
    "- Pandas có 2 data structures chính: `Series` (1 chiều) và `DataFrame` (2 chiều)\n",
    "- Mỗi cột trong `DataFrame` là một `Series`\n",
    "- Cách data by hand thường dùng:\n",
    "    - `s = pd.Series([1, 2, 3])`\n",
    "    - `df = pd.DataFrame({\"id\": [1, 2], \"name\": [\"Jane\",, \"Jack\"]})`"
   ]
  },
  {
   "cell_type": "code",
   "execution_count": 22,
   "metadata": {},
   "outputs": [
    {
     "data": {
      "text/html": [
       "<div>\n",
       "<style scoped>\n",
       "    .dataframe tbody tr th:only-of-type {\n",
       "        vertical-align: middle;\n",
       "    }\n",
       "\n",
       "    .dataframe tbody tr th {\n",
       "        vertical-align: top;\n",
       "    }\n",
       "\n",
       "    .dataframe thead th {\n",
       "        text-align: right;\n",
       "    }\n",
       "</style>\n",
       "<table border=\"1\" class=\"dataframe\">\n",
       "  <thead>\n",
       "    <tr style=\"text-align: right;\">\n",
       "      <th></th>\n",
       "      <th>date</th>\n",
       "      <th>TMAX</th>\n",
       "      <th>TMIN</th>\n",
       "      <th>TOBS</th>\n",
       "    </tr>\n",
       "  </thead>\n",
       "  <tbody>\n",
       "    <tr>\n",
       "      <th>0</th>\n",
       "      <td>2018-10-01</td>\n",
       "      <td>21.1</td>\n",
       "      <td>8.9</td>\n",
       "      <td>13.9</td>\n",
       "    </tr>\n",
       "    <tr>\n",
       "      <th>1</th>\n",
       "      <td>2018-10-02</td>\n",
       "      <td>23.9</td>\n",
       "      <td>13.9</td>\n",
       "      <td>17.2</td>\n",
       "    </tr>\n",
       "  </tbody>\n",
       "</table>\n",
       "</div>"
      ],
      "text/plain": [
       "         date  TMAX  TMIN  TOBS\n",
       "0  2018-10-01  21.1   8.9  13.9\n",
       "1  2018-10-02  23.9  13.9  17.2"
      ]
     },
     "execution_count": 22,
     "metadata": {},
     "output_type": "execute_result"
    }
   ],
   "source": [
    "# Example:\n",
    "df = pd.read_csv(\"data/wide_data.csv\")\n",
    "df.head(2)"
   ]
  },
  {
   "cell_type": "markdown",
   "metadata": {},
   "source": [
    "### B. Working with tabular data"
   ]
  },
  {
   "cell_type": "markdown",
   "metadata": {},
   "source": [
    "#### B1. Load data\n",
    "- `pd.read_xxx`: `pd.read_excel`, `pd.read_csv`, `pd.read_json`, ...\n",
    "- Lưu ý thử các options thông dụng cho nhiều lựa chọn đọc (`?pd.read_excel`)\n",
    "    - Đọc từ sheet chỉ định: `sheet_name=1`\n",
    "    - Load một số cột nhất định: `usecols=[\"A\", \"B\", \"C\"]`\n",
    "    - Chỉ định kiểu dữ liệu: `dtype={\"phone_number\": str, \"id\": str}`\n",
    "    - Bỏ qua N dòng đầu: `skiprows=N`\n",
    "    - Load N dòng đòng: `nrows=N`\n",
    "    - Có parse những cột string có dạng datetime thành datetime: `parse_dates=True`\n",
    "    - ....\n",
    "    - For more: google \"pandas how to ___ stackoverflow\""
   ]
  },
  {
   "cell_type": "markdown",
   "metadata": {},
   "source": [
    "#### B2. Inspect data quickly\n",
    "- Xem N dòng đầu: `df.head(N)`\n",
    "- Xem N dòng cuối: `df.tail(N)`\n",
    "- Xem shape: `df.shape`\n",
    "- Số dòng: `df.shape[0]`\n",
    "- Số cột: `df.shape[1]`\n",
    "- Data types của các cột: `df.dtypes`\n",
    "- Tên cột: `df.columns.tolist()`"
   ]
  },
  {
   "cell_type": "markdown",
   "metadata": {},
   "source": [
    "#### B3. Operations on columns\n",
    "- Trích xuất 1 cột -> trả về một Series: `df[\"col_1\"]`\n",
    "- Trích xuất nhiều cột -> Trả về một DataFrame: `df[[\"col_1\", \"col_2\"]]`\n",
    "- Update một cột có sẵn: `df[\"col_1\"] = value`\n",
    "- Thêm một cột mới: `df[\"new_col\"] = new_value`\n",
    "- Đổi data type của một cột:\n",
    "    - Đổi về string: `df[\"col_1\"] = df[\"col_1\"].astype(str)`\n",
    "    - Đổi về float: `df[\"col_1\"] = df[\"col_1\"].astype(float)`\n",
    "    - Đổi về datetime: `df[\"col_1\"] = pd.to_datetime(df[\"col_1\"])\n",
    "    - Đổi về categorical: `df[\"col_1\"] = pd.Categorical(df[\"col_1\"], categories=[\"lv_1\", \"lv_2\"])`\n",
    "- Tính toán trên các cột:\n",
    "    - Nhân 1 cột với 1000: `df[\"col_1\"] * 1000`\n",
    "    - Nhân 2 cột với nhau: `df[\"col_1\"] * df[\"col_2\"]`\n",
    "    - Tương tự cho `+, -, /, **, ...`\n",
    "    \n",
    "- Thao tác trên cột `str`:\n",
    "    - Upper: `df[\"col_1\"].str.upper()`\n",
    "    - Lower: `df[\"col_1\"].str.lower()`\n",
    "    - Tương tự cho các methods khác: \n",
    "        - Check bắt đầu, kết thúc: `startswith, endswith, contains`\n",
    "        - Check is_XXX: `isalpha, isalnum, isupper, islower, isdecimal ...`\n",
    "        - Remove khoảng trắng: `strip, lstrip, rstrip`\n",
    "        - Other: `zfill, ljust, rjust, split, len`\n",
    "        - ...\n",
    "    - Chaining: `df[\"col_1\"].str.strip().str.upper().str.contains(\"USA\")`\n",
    "- Thao tác trên cột `datetime`:\n",
    "    - Get year: `df[\"col_1\"].dt.year`\n",
    "    - Tương tự: \n",
    "        - month, day, hour, minute, second\n",
    "        - dayofyear: 1-365/366\n",
    "        - week: 1-52\n",
    "        - dayofweek: Monday=0, Sunday=6\n",
    "        - quarter: Jan-Mar = 1, Apr-Jun = 2, etc.\n",
    "        - days_in_month: 1-28/30/31\n",
    "        - is_leap_year: True nếu là năm nhuận, False nếu không phải\n",
    "    - Convert date sang string với format khác nhau: `df[\"col_1\"].dt.strftime(\"%d/%m/%Y\")`\n",
    "    - Tên ngày trong tuần: `df[\"col_1\"].dt.day_name()`\n",
    "    - Cộng / trừ thêm ngày: `df[\"col_1\"] +  pd.Timedelta('1 day')`\n",
    "    - Cộng / trừ thêm business day: `df[\"col_1\"] +  pd.offsets.BDay(1)`\n",
    "    - Tạo nhanh một Series datetime: `pd.date_range(\"20201001\", \"20201015\")`\n",
    "    - Full docs: https://pandas.pydata.org/pandas-docs/stable/user_guide/timeseries.html"
   ]
  },
  {
   "cell_type": "markdown",
   "metadata": {},
   "source": [
    "#### B4. Operations on rows\n",
    "- Lọc các rows dựa trên condition: `df.loc[cond, :]`\n",
    "- Condition thường được tạo từ các phép so sánh:\n",
    "    - `==, <, >, <=, >=`\n",
    "    - `.isnull()`, `.notnull()`, `.isdecimal()`\n",
    "    - `.isin()`\n",
    "- Kết hợp nhiều condition lại với nhau dùng `&` (and) và `|` (or)\n",
    "- Khi có nhiều conditions, mỗi condition nên để trong dấu ngoặc"
   ]
  },
  {
   "cell_type": "markdown",
   "metadata": {},
   "source": [
    "#### B5. Operations on both rows and columns\n",
    "- Vừa filter rows, vừa chọn cột: `df.loc[cond, cols]`"
   ]
  },
  {
   "cell_type": "markdown",
   "metadata": {},
   "source": [
    "#### B6. Summary statistics\n",
    "- Aggregation trên 1 cột:\n",
    "    - `df[\"col_1\"].sum()`\n",
    "    - Tương tự cho các methods khác: `count, mean, median, min, max, std, var...`\n",
    "    - Distribution: \n",
    "        - Absolute count: `df[\"col_1\"].value_counts()`\n",
    "        - Relative proportion: `df[\"col_1\"].value_counts(normalize=True)`\n",
    "        \n",
    "    - Sort:\n",
    "        - Sort theo index: `.sort_index()`\n",
    "        - Sort theo giá trị: `.sort_values()`\n",
    "        \n",
    "- Aggregation trên DataFrame:\n",
    "    - `df.groupby([\"col_1\", \"col_2\"])[\"col_3\"].sum()`\n",
    "    - Tương tự cho các methods khác: `count, mean, median, min, max, std, var...`\n",
    "    - Reset index nếu muốn `[\"col_1\", \"col_2\"]` thành 2 cột của kết quả thay vì là index\n",
    "    - Sort:\n",
    "        - Sort theo index: `.sort_index()`\n",
    "        - Sort theo giá trị: `.sort_values()`\n",
    "    \n",
    "- Describe nhanh data: `df.describe()`"
   ]
  },
  {
   "cell_type": "markdown",
   "metadata": {},
   "source": [
    "#### B6. Output\n",
    "- `df.to_xxx(file_name, index=False)`\n",
    "- Example:\n",
    "    - `df.to_excel(\"data/top5_countries_2020_July.xlsx\", index=False)`\n",
    "    - `df.to_csv(\"data/top5_countries_2020_July.csv\", index=False)`"
   ]
  },
  {
   "cell_type": "markdown",
   "metadata": {},
   "source": [
    "#### B7. Other operations\n",
    "- Apply: \n",
    "    - Apply trên cột: `df[\"col_1\"].apply(lambda x: x)`\n",
    "    - Apply trên df (rowwise - across rows): `df[cols].apply(lambda col: col, axis=0)`\n",
    "    - Apply trên df (columnwise - across columns): `df[cols].apply(lambda row: row, axis=1)`\n",
    "    \n",
    "- Chọn cột dựa vào condition:\n",
    "    - Chọn các cột có dtype là số: `df.select_dtypes(\"number\")`\n",
    "    - Chọn các cột có dtype là object: `df.select_dtypes(\"O\")`\n",
    "    - Chọn cột dựa vào partial name matching:\n",
    "        - Bắt đầu bởi \"Ab\": `df.filter(regex=\"^Ab\")`\n",
    "        - Kết thúc bởi \"Ab\": `df.filter(regex=\"Ab$\")`\n",
    "        - Có chứa \"Ab\": `df.filter(regex=\"Ab\")`\n",
    "        \n",
    "- Rename columns:\n",
    "    - Rename all: `df.columns = [\"c1\", \"c2\"]`\n",
    "    - Rename some: `df.rename({\"old_c1\": \"new_c1\", \"old_c2\": \"new_c2\"}, inplace=True)`\n",
    "    \n",
    "- Cut một cột numeric thành một cột Categorial: \n",
    "    - VD:\n",
    "    ```\n",
    "    bins = [-np.infty, cutoff_1, cutoff_2, np.infty]\n",
    "    labels = [\"low\", \"medium\", \"high\"]\n",
    "    pd.cut(df[\"col_1\"], bins=bins, labels=labels, right=False)\n",
    "    ```\n",
    "    \n",
    "- Sắp xếp rows dựa theo cột:\n",
    "    - `df.sort_values([\"c1\", \"c2\"], ascending=[True, False])`\n",
    "    \n",
    "- Lấy top rows theo một cột nào đó:\n",
    "    - Top N dòng có giá trị cột `c1` nhỏ nhất: `df.nsmallest(N, \"c1\")`\n",
    "    - Top N dòng có giá trị cột `c1` lớn nhất: `df.nlargest(N, \"c1\")`\n",
    "    \n",
    "- Reshape data:\n",
    "    - Đổi hàng thành cột (transpose): `df.T`\n",
    "    - Long -> Wide: `df.pivot`\n",
    "    - Wide -> Long: `df.melt`\n",
    "    \n",
    "- Concatenate data:\n",
    "    - Top-Bottom: `pd.concat([df1, df2, df3], axis=0, ignore_index=True)`\n",
    "    - Side-by-side: `pd.concat([df1, df2, df3], axis=1, ignore_index=True)`\n",
    "    \n",
    "- Merge / join data:\n",
    "    - Inner join: `pd.merge(df1, df2, on=[\"c1\", \"c2\"], how=\"inner\")`\n",
    "    - Left join: `pd.merge(df1, df2, on=[\"c1\", \"c2\"], how=\"left\")`\n",
    "    - Full join: `pd.merge(df1, df2, on=[\"c1\", \"c2\"], how=\"outer\")`\n",
    "    \n",
    "- Replace: `df.replace(to_replace=[\"?\", \"\", \" \"], value=np.nan, inplace=True)`\n",
    "- Fill NA: \n",
    "    - Fill all cols: `df.fillna(0)`\n",
    "    - Fill some cols: `df.fillna({\"c1\": \"Not available\", \"c2\": 0})`\n",
    "- Drop NA:\n",
    "    - Drop rows if one col has NA: `df.dropna()`\n",
    "    - Drop rows if all cols have NA: `df.dropna(how=\"all\")`\n",
    "    - Drop rows if some cols have NA: `df.dropna(subset=[\"c1\", \"c2\"])`\n",
    "    \n",
    "- Dummy variables (one-hot encoding):\n",
    "    - Get dumies: `dummies = pd.get_dummies(df[\"c1\"], prefix=\"is\", drop_first=True)`\n",
    "    - Combine with original data: `df.join(dummies).drop(columns=[\"c1\"])`"
   ]
  },
  {
   "cell_type": "code",
   "execution_count": null,
   "metadata": {},
   "outputs": [],
   "source": []
  }
 ],
 "metadata": {
  "kernelspec": {
   "display_name": "Python 3",
   "language": "python",
   "name": "python3"
  },
  "language_info": {
   "codemirror_mode": {
    "name": "ipython",
    "version": 3
   },
   "file_extension": ".py",
   "mimetype": "text/x-python",
   "name": "python",
   "nbconvert_exporter": "python",
   "pygments_lexer": "ipython3",
   "version": "3.8.3"
  }
 },
 "nbformat": 4,
 "nbformat_minor": 4
}
