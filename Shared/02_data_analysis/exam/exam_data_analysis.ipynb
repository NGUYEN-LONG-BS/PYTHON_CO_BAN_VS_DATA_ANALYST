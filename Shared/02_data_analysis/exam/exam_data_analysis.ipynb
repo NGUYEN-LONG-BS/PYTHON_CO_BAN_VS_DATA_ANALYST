{
 "cells": [
  {
   "cell_type": "markdown",
   "metadata": {},
   "source": [
    "# Final assignment: Data Analysis"
   ]
  },
  {
   "cell_type": "markdown",
   "metadata": {},
   "source": [
    "# Thông tin cá nhân\n",
    "- Tên:\n",
    "- Email:\n",
    "- Lớp: Python da200914\n",
    "- Deadline: 2021-01-17 (before 23:59:59)"
   ]
  },
  {
   "cell_type": "markdown",
   "metadata": {},
   "source": [
    "## 1. Hướng dẫn chung\n",
    "- Các bạn đọc câu hỏi và trả lời bằng cách tạo cell mới (nếu cần) để viết code vào theo hướng dẫn ở mỗi bài\n",
    "- Code phải chạy được và ra đúng kết quả với phần test (expected result)\n",
    "- Có thể sử dụng lại kết quả đã làm ở câu hỏi trước (vd: hàm đã tạo ở câu hỏi trước đó)\n",
    "- Có thể import các module cần thiết nếu cần\n",
    "- Điểm sẽ được chấm với trọng số như sau:\n",
    "    - Tính chính xác (80%): code đúng về cả mặt logic lẫn cú pháp, đúng với mục đích của bài toán\n",
    "    - Giải thuật tốt (10%): cách tiếp cận/giải thuật tốt\n",
    "    - Coding style (10%): code sáng sủa và follow guiding princincples của Python (vd: sử dụng thêm khoảng trắng 2 bên phép toán, naming theo snake case, comment đoạn code phức tạp, cách import ...)"
   ]
  },
  {
   "cell_type": "markdown",
   "metadata": {},
   "source": [
    "## 2. Assigments"
   ]
  },
  {
   "cell_type": "markdown",
   "metadata": {},
   "source": [
    "Trước khi làm bài tập, chạy cell dưới đây để import các gói cần thiết"
   ]
  },
  {
   "cell_type": "code",
   "execution_count": null,
   "metadata": {},
   "outputs": [],
   "source": [
    "import numpy as np\n",
    "import pandas as pd\n",
    "import seaborn as sns\n",
    "import matplotlib.pyplot as plt"
   ]
  },
  {
   "cell_type": "markdown",
   "metadata": {},
   "source": [
    "Data gồm 3 files Excel\n",
    "\n",
    "1. `data/deaths_per_100k.xlsx`: tổng số người chết vì bệnh lao (trên 100k dân số) ứng với từng năm cho từng country\n",
    "1. `data/incidence_per_100k.xlsx`: ước tính tổng số cases mới mắc bệnh lao (trên 100k dân số) ứng với từng năm cho từng country\n",
    "1. `data/prevalence_per_100k.xlsx`: ước tính tổng số case hiện tại mắc bệnh lao (trên 100k dân số) ứng với từng năm cho từng country"
   ]
  },
  {
   "cell_type": "markdown",
   "metadata": {},
   "source": [
    "### Question 1"
   ]
  },
  {
   "cell_type": "markdown",
   "metadata": {},
   "source": [
    "#### 1.1. Load data từ 3 file Excel vào 3 data frames (DFs):\n",
    "\n",
    "- `deaths`: load từ `data/deaths_per_100k.xlsx`\n",
    "- `incidence`: load từ `data/incidence_per_100k.xlsx`\n",
    "- `prevalence`: load từ `data/prevalence_per_100k.xlsx`\n",
    "    "
   ]
  },
  {
   "cell_type": "code",
   "execution_count": null,
   "metadata": {},
   "outputs": [],
   "source": [
    "# Load data\n"
   ]
  },
  {
   "cell_type": "markdown",
   "metadata": {},
   "source": [
    "#### 1.2. Đổi tên cột đầu tiên của mỗi DF trên thành `country`"
   ]
  },
  {
   "cell_type": "code",
   "execution_count": null,
   "metadata": {},
   "outputs": [],
   "source": [
    "# Rename cols\n"
   ]
  },
  {
   "cell_type": "markdown",
   "metadata": {},
   "source": [
    "#### 1.3. Show 3 dòng đầu tiên cho mỗi DF trên theo đúng thứ tự. \n",
    "\n",
    "Từ giờ trở đi, nếu không nói gì thêm, khi câu hỏi yêu cầu tính giá trị gì đó cho cả 3 DFs thì thứ tự sẽ là `deaths`, `incidence`, và `prevalance`\n",
    "\n",
    "<hr>\n",
    "\n",
    "**Expected results:**\n",
    "\n",
    "<img src=\"img/preview_3_DFs.png\" width=\"600px\">"
   ]
  },
  {
   "cell_type": "code",
   "execution_count": null,
   "metadata": {},
   "outputs": [],
   "source": [
    "# Show first 3 rows\n"
   ]
  },
  {
   "cell_type": "markdown",
   "metadata": {},
   "source": [
    "### Question 2"
   ]
  },
  {
   "cell_type": "markdown",
   "metadata": {},
   "source": [
    "#### 2.1. In ra số dòng, cột cho mỗi DF \n",
    "\n",
    "Expected: `(207, 19) (208, 19) (207, 19)`"
   ]
  },
  {
   "cell_type": "code",
   "execution_count": null,
   "metadata": {},
   "outputs": [],
   "source": [
    "# Số dòng và cột cho mỗi DF\n"
   ]
  },
  {
   "cell_type": "markdown",
   "metadata": {},
   "source": [
    "#### 2.2. Kiểm tra số lượng unique countries trong mỗi DF\n",
    "\n",
    "Có DF nào bị lặp countries không? Nếu có thì là DF nào và countries nào?"
   ]
  },
  {
   "cell_type": "code",
   "execution_count": null,
   "metadata": {},
   "outputs": [],
   "source": [
    "# Kiểm tra unique countries\n"
   ]
  },
  {
   "cell_type": "markdown",
   "metadata": {},
   "source": [
    "#### 2.3. Kiểm tra xem cả 3 DFs có chung số các countries không\n",
    "\n",
    "Nếu sai khác thì sai khác ở những countries nào?"
   ]
  },
  {
   "cell_type": "code",
   "execution_count": null,
   "metadata": {},
   "outputs": [],
   "source": [
    "# Kiểm tra sai khác trong cột country\n"
   ]
  },
  {
   "cell_type": "code",
   "execution_count": null,
   "metadata": {},
   "outputs": [],
   "source": [
    "# deaths vs. incidence\n"
   ]
  },
  {
   "cell_type": "markdown",
   "metadata": {},
   "source": []
  },
  {
   "cell_type": "code",
   "execution_count": null,
   "metadata": {},
   "outputs": [],
   "source": [
    "# deaths vs. prevalance\n"
   ]
  },
  {
   "cell_type": "code",
   "execution_count": null,
   "metadata": {},
   "outputs": [],
   "source": [
    "# incidence vs. prevalance\n"
   ]
  },
  {
   "cell_type": "markdown",
   "metadata": {},
   "source": [
    "### Question 3"
   ]
  },
  {
   "cell_type": "markdown",
   "metadata": {},
   "source": [
    "#### 3.1. Đổi 3 DFs trên từ dạng wide sang long\n",
    "\n",
    "Ghi đè luôn lên tên biến cũ, không tạo DFs mới, kết quả gồm 3 cột như sau cho mỗi DF:\n",
    "\n",
    "- `deaths`: `country`, `year`, `deaths`\n",
    "- `incidence`: `country`, `year`, `incidence`\n",
    "- `prevalance`: `country`, `year`, `prevalance`"
   ]
  },
  {
   "cell_type": "code",
   "execution_count": null,
   "metadata": {},
   "outputs": [],
   "source": [
    "# Reshape data\n"
   ]
  },
  {
   "cell_type": "markdown",
   "metadata": {},
   "source": [
    "#### 3.2. In ra 3 dòng đầu tiên cho mỗi DF\n",
    "\n",
    "**Expected:**\n",
    "\n",
    "<img src=\"img/preview_3_DFs_long.PNG\" width=\"200px\">"
   ]
  },
  {
   "cell_type": "code",
   "execution_count": null,
   "metadata": {},
   "outputs": [],
   "source": [
    "# Preview first 3 rows \n"
   ]
  },
  {
   "cell_type": "code",
   "execution_count": null,
   "metadata": {},
   "outputs": [],
   "source": []
  },
  {
   "cell_type": "markdown",
   "metadata": {},
   "source": [
    "#### 3.3. In ra shape của 3 DFs mới \n",
    "\n",
    "Expected: `(3726, 3) (3744, 3) (3726, 3)`"
   ]
  },
  {
   "cell_type": "code",
   "execution_count": null,
   "metadata": {},
   "outputs": [],
   "source": [
    "# Check shape\n"
   ]
  },
  {
   "cell_type": "markdown",
   "metadata": {},
   "source": [
    "### Question 4"
   ]
  },
  {
   "cell_type": "markdown",
   "metadata": {},
   "source": [
    "#### 4.1. Tính tổng số deaths cho từng country overtime\n",
    "\n",
    "Show ra top 5 nước có total deaths cao nhất\n",
    "\n",
    "Expected:\n",
    "\n",
    "<img src=\"img/top_5_total_deaths.png\" width=\"150px\">"
   ]
  },
  {
   "cell_type": "code",
   "execution_count": null,
   "metadata": {},
   "outputs": [],
   "source": [
    "# Top 5 total deaths\n"
   ]
  },
  {
   "cell_type": "markdown",
   "metadata": {},
   "source": [
    "#### 4.2. Plot deaths overtime cho top 5 countries ở 4.1\n",
    "\n",
    "Expected:\n",
    "\n",
    "<img src=\"img/top_5_total_deaths_plot.png\" width=\"500px\">"
   ]
  },
  {
   "cell_type": "code",
   "execution_count": null,
   "metadata": {},
   "outputs": [],
   "source": [
    "# Prepare data\n"
   ]
  },
  {
   "cell_type": "code",
   "execution_count": null,
   "metadata": {},
   "outputs": [],
   "source": [
    "# Plot\n"
   ]
  },
  {
   "cell_type": "markdown",
   "metadata": {},
   "source": [
    "#### 4.3. Lập bảng thống kê mô tả cho deaths của top 5 countries trên\n",
    "\n",
    "Thống kê số lượng, mean, standard deviation, min, q1, median, q2, max của cột `deaths` over time (18 years).\n",
    "\n",
    "Expected:\n",
    "\n",
    "<img src=\"img/top_5_total_deaths_summary.png\" width=\"500px\">"
   ]
  },
  {
   "cell_type": "code",
   "execution_count": null,
   "metadata": {},
   "outputs": [],
   "source": [
    "# Summary stats\n"
   ]
  },
  {
   "cell_type": "markdown",
   "metadata": {},
   "source": [
    "#### 4.4. Vẽ boxplots cho top 5 countries trên\n",
    "\n",
    "Expected:\n",
    "\n",
    "<img src=\"img/top_5_total_deaths_boxplot.png\" width=\"300px\">"
   ]
  },
  {
   "cell_type": "code",
   "execution_count": null,
   "metadata": {},
   "outputs": [],
   "source": [
    "# Plot\n"
   ]
  },
  {
   "cell_type": "markdown",
   "metadata": {},
   "source": [
    "### Question 5"
   ]
  },
  {
   "cell_type": "markdown",
   "metadata": {},
   "source": [
    "#### 5.1. Lọc prevalence data từ năm 1997 đến 2007 cho tất cả countries lưu vào biến `prevalence_97_07`\n",
    "\n",
    "1. Nhớ reset index với option `drop=True`\n",
    "2. Data frame này có bao nhiêu rows? (Expected: 2277)"
   ]
  },
  {
   "cell_type": "code",
   "execution_count": null,
   "metadata": {},
   "outputs": [],
   "source": [
    "# Filter data\n"
   ]
  },
  {
   "cell_type": "markdown",
   "metadata": {},
   "source": [
    "#### 5.2. Dùng `prevalence_97_07`, group by country và tính average prevalence\n",
    "\n",
    "Sắp xếp country theo thứ tự average prevalence từ cao xuống thấp\n",
    "\n",
    "<img src=\"img/prevalence_97_07_avg.png\" width=\"200px\">"
   ]
  },
  {
   "cell_type": "code",
   "execution_count": null,
   "metadata": {},
   "outputs": [],
   "source": [
    "# Compute avg prevalence for each country\n"
   ]
  },
  {
   "cell_type": "markdown",
   "metadata": {},
   "source": [
    "#### 5.3. Plot bar chart cho top 20 countries có avg prevalence cao nhất\n",
    "\n",
    "Expected:\n",
    "\n",
    "<img src=\"img/top_20_avg_prevalence.png\" width=\"500px\">"
   ]
  },
  {
   "cell_type": "code",
   "execution_count": null,
   "metadata": {},
   "outputs": [],
   "source": [
    "# Prepare data\n"
   ]
  },
  {
   "cell_type": "code",
   "execution_count": null,
   "metadata": {},
   "outputs": [],
   "source": [
    "# Plot\n"
   ]
  }
 ],
 "metadata": {
  "kernelspec": {
   "display_name": "Python 3",
   "language": "python",
   "name": "python3"
  },
  "language_info": {
   "codemirror_mode": {
    "name": "ipython",
    "version": 3
   },
   "file_extension": ".py",
   "mimetype": "text/x-python",
   "name": "python",
   "nbconvert_exporter": "python",
   "pygments_lexer": "ipython3",
   "version": "3.8.3"
  }
 },
 "nbformat": 4,
 "nbformat_minor": 4
}
