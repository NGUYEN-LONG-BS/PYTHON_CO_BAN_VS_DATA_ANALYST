{
 "cells": [
  {
   "cell_type": "markdown",
   "metadata": {},
   "source": [
    "# Bài 12: SQL \n",
    "(Structured Query Language)"
   ]
  },
  {
   "cell_type": "markdown",
   "metadata": {},
   "source": [
    "## 1. Set up"
   ]
  },
  {
   "cell_type": "markdown",
   "metadata": {},
   "source": [
    "### 1.1. Download PostgreSQL\n",
    "- Google: \"download PostgreSQL\"\n",
    "- Go to the download page, for example: https://www.postgresql.org/download\n",
    "- Choose the link for your OS (Windows, MacOS, etc.), for example: https://www.postgresql.org/download/windows\n",
    "- Download the latest installer (choose 64-bit version if you're using a 64-bit machine)"
   ]
  },
  {
   "cell_type": "markdown",
   "metadata": {},
   "source": [
    "### 1.2. Install PostgreSQL\n",
    "- Click on the installer you've just downloaded an follow then instruction\n",
    "- Remember to choose to install `pgAdmin` as well"
   ]
  },
  {
   "cell_type": "markdown",
   "metadata": {},
   "source": [
    "### 1.3. Start pgAdmin\n",
    "- On the search window, type \"pgadmin\", and click on the right result\n",
    "- Type in the password if being asked"
   ]
  },
  {
   "cell_type": "markdown",
   "metadata": {},
   "source": [
    "### 1.4. Create a sample database\n",
    "- On the left panel, right-click and choose `Databases > Create > Database`\n",
    "- In the popup box, type in the database name, i.e. `dvdrental` in this case\n",
    "- Click save"
   ]
  },
  {
   "cell_type": "markdown",
   "metadata": {},
   "source": [
    "### 1.5. Download the sample data\n",
    "- Download the sample data here: https://sp.postgresqltutorial.com/wp-content/uploads/2019/05/dvdrental.zip\n",
    "- Unzip the data to get the `.tar` file\n",
    "- Remember the location of the `.tar` file, for example: `C:\\Users\\tue\\Downloads\\dvdrental\\dvdrental.tar`"
   ]
  },
  {
   "cell_type": "markdown",
   "metadata": {},
   "source": [
    "### 1.6. Load sample data into `dvdrental`\n",
    "- In `pgAdmin`, right-click on `dvdrental` and choose `Restore`\n",
    "- Navigate to `C:\\Users\\tue\\Downloads\\dvdrental\\dvdrental.tar`, select the file and choose `Restore`\n",
    "- Wait for a few seconds\n",
    "- Now right-click on the newly created database `dvdrental` and choose `Refresh`\n",
    "- Go to and exand the sections `Schemas > Tables`, you should see the database tables were loaded"
   ]
  },
  {
   "cell_type": "markdown",
   "metadata": {},
   "source": [
    "- Data table ~ file excel/csv\n",
    "- Database = set of data tables\n",
    "- DBMS (database management system) = set of database"
   ]
  },
  {
   "cell_type": "markdown",
   "metadata": {},
   "source": [
    "### 1.7. Test the loaded database\n",
    "- Righ-click on `dvdrental` database, choose `Query Tool`\n",
    "- In the query editor, write some simple select queries and run to test (use `F5` to run)\n",
    "- Example\n",
    "```sql\n",
    "select * \n",
    "from actor\n",
    "limit 10\n",
    "```\n",
    "\n",
    "```sql\n",
    "select count(*)\n",
    "from actor\n",
    "```"
   ]
  },
  {
   "cell_type": "markdown",
   "metadata": {},
   "source": [
    "### 1.8. View the table ERD\n",
    "- View the ERD for `dvdrental` in the link below\n",
    "- ERD: https://sp.postgresqltutorial.com/wp-content/uploads/2018/03/printable-postgresql-sample-database-diagram.pdf"
   ]
  },
  {
   "cell_type": "markdown",
   "metadata": {},
   "source": [
    "- ERD: entity relationship diagram"
   ]
  },
  {
   "cell_type": "markdown",
   "metadata": {},
   "source": [
    "### 1.9. Install `psycopg2`\n",
    "- Run: `conda install -c conda-forge psycopg2`\n",
    "- If not successful, run: `pip install psycopg2`\n",
    "- Open a terminal and run the command\n",
    "- Wait about 1-2 minutes"
   ]
  },
  {
   "cell_type": "markdown",
   "metadata": {},
   "source": [
    "### More resources\n",
    "- https://www.postgresqltutorial.com/\n",
    "- https://www.tutorialspoint.com/sql/index.htm\n",
    "- https://www.tutorialspoint.com/postgresql/index.htm"
   ]
  },
  {
   "cell_type": "markdown",
   "metadata": {},
   "source": [
    "## 2. Connect Python to `dvdrental` database"
   ]
  },
  {
   "cell_type": "code",
   "execution_count": null,
   "metadata": {},
   "outputs": [],
   "source": [
    "import psycopg2\n",
    "import pandas as pd"
   ]
  },
  {
   "cell_type": "code",
   "execution_count": null,
   "metadata": {},
   "outputs": [],
   "source": [
    "# Create a connection\n",
    "conn = psycopg2.connect(\n",
    "        host=\"localhost\",\n",
    "        port=5432,\n",
    "        database=\"dvdrental\",\n",
    "        user=\"postgres\",\n",
    "        password=\"admin123\",\n",
    "#         gssencmode=\"disable\" # Important to fix a bug\n",
    "    )"
   ]
  },
  {
   "cell_type": "code",
   "execution_count": null,
   "metadata": {},
   "outputs": [],
   "source": [
    "query = \"select * from film limit 5\"\n",
    "df = pd.read_sql(query, conn)"
   ]
  },
  {
   "cell_type": "code",
   "execution_count": null,
   "metadata": {},
   "outputs": [],
   "source": [
    "df"
   ]
  },
  {
   "cell_type": "markdown",
   "metadata": {},
   "source": [
    "## 3. Basic queries\n",
    "### 3.0. Một số lưu ý chung\n",
    "- SQL keyword không phân biệt hoa thường, nhưng khi match data thì có\n",
    "- SQL queries có thể viết trên nhiều dòng để tăng tính sáng sủa\n",
    "- Cần lưu ý count data trước khi dump về local (vì có thể data rất lớn)"
   ]
  },
  {
   "cell_type": "markdown",
   "metadata": {},
   "source": [
    "### 3.1. SELECT\n",
    "- Tương tự subset cột trong pandas"
   ]
  },
  {
   "cell_type": "code",
   "execution_count": null,
   "metadata": {},
   "outputs": [],
   "source": [
    "# Lấy hết các cột, limit 3 dòng đầu\n",
    "query = \"select * from customer limit 3\"\n",
    "pd.read_sql(query, conn)"
   ]
  },
  {
   "cell_type": "code",
   "execution_count": null,
   "metadata": {},
   "outputs": [],
   "source": [
    "# Lấy 1 số cột, limit 3 dòng đầu\n",
    "query = \"\"\"\n",
    "SELECT \n",
    "    first_name, \n",
    "    last_name, \n",
    "    email \n",
    "FROM customer \n",
    "LIMIT 3\n",
    "\"\"\"\n",
    "\n",
    "pd.read_sql(query, conn)"
   ]
  },
  {
   "cell_type": "code",
   "execution_count": null,
   "metadata": {},
   "outputs": [],
   "source": [
    "# Select một số cột có sẵn, tạo cột mới dùng concat string\n",
    "query = \"\"\"\n",
    "select \n",
    "    first_name,\n",
    "    last_name,\n",
    "    (first_name || ' ' || last_name) as full_name,\n",
    "    email\n",
    "from customer\n",
    "limit 3\n",
    "\"\"\"\n",
    "pd.read_sql(query, conn)"
   ]
  },
  {
   "cell_type": "code",
   "execution_count": null,
   "metadata": {},
   "outputs": [],
   "source": [
    "# Inspect bảng film\n",
    "query = \"select * from film limit 1\"\n",
    "pd.read_sql(query, conn)"
   ]
  },
  {
   "cell_type": "code",
   "execution_count": null,
   "metadata": {},
   "outputs": [],
   "source": [
    "# Lấy ra title, rental_rate, length, và tạo cột rate per minute\n",
    "query =  \"\"\"\n",
    "select \n",
    "    title,\n",
    "    rental_rate,\n",
    "    length,\n",
    "    (rental_rate / length) as rate_per_min\n",
    "from film\n",
    "limit 3\n",
    "\"\"\"\n",
    "\n",
    "pd.read_sql(query, conn)"
   ]
  },
  {
   "cell_type": "markdown",
   "metadata": {},
   "source": [
    "#### Thực hành"
   ]
  },
  {
   "cell_type": "code",
   "execution_count": null,
   "metadata": {},
   "outputs": [],
   "source": []
  },
  {
   "cell_type": "markdown",
   "metadata": {},
   "source": [
    "### 3.2. ORDER BY\n",
    "- Tương tự `df.sort_values()` trong pandas"
   ]
  },
  {
   "cell_type": "code",
   "execution_count": null,
   "metadata": {},
   "outputs": [],
   "source": [
    "# Sắp xếp tăng dần by first_name, descending by last_name\n",
    "query = \"\"\"\n",
    "select\n",
    "    first_name,\n",
    "    last_name\n",
    "from customer\n",
    "order by \n",
    "    first_name,\n",
    "    last_name desc\n",
    "limit 10\n",
    "\"\"\"\n",
    "\n",
    "pd.read_sql(query, conn)"
   ]
  },
  {
   "cell_type": "code",
   "execution_count": null,
   "metadata": {},
   "outputs": [],
   "source": [
    "# Sắp xếp giảm dần theo độ dài full name\n",
    "# sau đó tăng dần theo ABC của full name\n",
    "query = \"\"\"\n",
    "select\n",
    "    (first_name || ' ' || last_name) as full_name,\n",
    "    length((first_name || ' ' || last_name)) as full_name_length\n",
    "from customer\n",
    "order by \n",
    "    full_name_length desc,\n",
    "    full_name asc\n",
    "limit 10\n",
    "\"\"\"\n",
    "\n",
    "pd.read_sql(query, conn)"
   ]
  },
  {
   "cell_type": "code",
   "execution_count": null,
   "metadata": {},
   "outputs": [],
   "source": [
    "# Lấy title, rental_duration, rental_rate từ bảng film\n",
    "# Sắp xếp theo thứ tự tăng dần rental_duration, giảm dần rental_rate\n",
    "query = \"\"\"\n",
    "select\n",
    "    title,\n",
    "    rental_duration, \n",
    "    rental_rate\n",
    "from film\n",
    "order by\n",
    "    rental_duration,\n",
    "    rental_rate desc\n",
    "limit 10\n",
    "\"\"\"\n",
    "\n",
    "pd.read_sql(query, conn)"
   ]
  },
  {
   "cell_type": "markdown",
   "metadata": {},
   "source": [
    "#### Thực hành"
   ]
  },
  {
   "cell_type": "code",
   "execution_count": null,
   "metadata": {},
   "outputs": [],
   "source": []
  },
  {
   "cell_type": "markdown",
   "metadata": {},
   "source": [
    "### 3.3. DISTINCT\n",
    "- Tương tự `.unique()` của pandas"
   ]
  },
  {
   "cell_type": "code",
   "execution_count": null,
   "metadata": {},
   "outputs": [],
   "source": [
    "# Inspect film table\n",
    "query = \"select * from film limit 1\"\n",
    "pd.read_sql(query, conn)"
   ]
  },
  {
   "cell_type": "code",
   "execution_count": null,
   "metadata": {},
   "outputs": [],
   "source": [
    "# Unique year\n",
    "query = \"select distinct release_year from film\"\n",
    "pd.read_sql(query, conn)"
   ]
  },
  {
   "cell_type": "code",
   "execution_count": null,
   "metadata": {},
   "outputs": [],
   "source": [
    "# Unique rental_rate\n",
    "query = \"\"\"\n",
    "select distinct \n",
    "    rental_rate\n",
    "from film\n",
    "order by \n",
    "    rental_rate\n",
    "\"\"\"\n",
    "\n",
    "pd.read_sql(query, conn)"
   ]
  },
  {
   "cell_type": "code",
   "execution_count": null,
   "metadata": {},
   "outputs": [],
   "source": [
    "# Unique rental_duration\n",
    "query = \"\"\"\n",
    "select distinct \n",
    "    rental_duration\n",
    "from film\n",
    "order by \n",
    "    rental_duration\n",
    "\"\"\"\n",
    "\n",
    "pd.read_sql(query, conn)"
   ]
  },
  {
   "cell_type": "code",
   "execution_count": null,
   "metadata": {},
   "outputs": [],
   "source": [
    "# Unique combinations of rental_rate, rental_duration\n",
    "query = \"\"\"\n",
    "select distinct \n",
    "    rental_rate, \n",
    "    rental_duration\n",
    "from film\n",
    "order by \n",
    "    rental_rate, \n",
    "    rental_duration\n",
    "\"\"\"\n",
    "\n",
    "pd.read_sql(query, conn)"
   ]
  },
  {
   "cell_type": "markdown",
   "metadata": {},
   "source": [
    "#### Thực hành"
   ]
  },
  {
   "cell_type": "code",
   "execution_count": null,
   "metadata": {},
   "outputs": [],
   "source": []
  },
  {
   "cell_type": "markdown",
   "metadata": {},
   "source": [
    "### 3.4. WHERE\n",
    "- Tương tự `.loc` của pandas để filter rows"
   ]
  },
  {
   "cell_type": "code",
   "execution_count": null,
   "metadata": {},
   "outputs": [],
   "source": [
    "# Inspect bảng customer\n",
    "pd.read_sql(\"select * from customer limit 1\", conn)"
   ]
  },
  {
   "cell_type": "code",
   "execution_count": null,
   "metadata": {},
   "outputs": [],
   "source": [
    "# Lọc ra các khách hàng có tên bắt đầu bởi chữ b\n",
    "# Wrong way\n",
    "query = \"\"\"\n",
    "select first_name, last_name\n",
    "from customer\n",
    "where first_name like 'b%'\n",
    "limit 3\n",
    "\"\"\"\n",
    "\n",
    "pd.read_sql(query, conn)"
   ]
  },
  {
   "cell_type": "code",
   "execution_count": null,
   "metadata": {},
   "outputs": [],
   "source": [
    "# Lọc ra các khách hàng có tên bắt đầu bởi chữ b\n",
    "# Correct way\n",
    "query = \"\"\"\n",
    "select first_name, last_name\n",
    "from customer\n",
    "where lower(first_name) like 'b%'\n",
    "limit 3\n",
    "\"\"\"\n",
    "\n",
    "pd.read_sql(query, conn)"
   ]
  },
  {
   "cell_type": "code",
   "execution_count": null,
   "metadata": {},
   "outputs": [],
   "source": [
    "# Lọc ra các khách hàng first_name có chứa chữ b\n",
    "query = \"\"\"\n",
    "select first_name\n",
    "from customer\n",
    "where lower(first_name) like '%b%'\n",
    "limit 5\n",
    "\"\"\"\n",
    "\n",
    "pd.read_sql(query, conn)"
   ]
  },
  {
   "cell_type": "code",
   "execution_count": null,
   "metadata": {},
   "outputs": [],
   "source": [
    "# Lọc ra các khách hàng first_name kết thúc bởi chữ b\n",
    "query = \"\"\"\n",
    "select first_name\n",
    "from customer\n",
    "where lower(first_name) like '%b'\n",
    "limit 5\n",
    "\"\"\"\n",
    "\n",
    "pd.read_sql(query, conn)"
   ]
  },
  {
   "cell_type": "code",
   "execution_count": null,
   "metadata": {},
   "outputs": [],
   "source": [
    "# Lọc ra các bộ phim cho thuê >=6 ngày\n",
    "query = \"\"\"\n",
    "select *\n",
    "from film\n",
    "where rental_duration >= 6\n",
    "limit 3\n",
    "\"\"\"\n",
    "\n",
    "pd.read_sql(query, conn)"
   ]
  },
  {
   "cell_type": "code",
   "execution_count": null,
   "metadata": {},
   "outputs": [],
   "source": [
    "# Chọn các cột title, length, rental_duration, rental_rate từ bảng film\n",
    "# Lọc ra các dòng có rental_duration >= 6 ngày\n",
    "# Và rental_rate < 3 USD\n",
    "query = \"\"\"\n",
    "select \n",
    "    title, \n",
    "    length,\n",
    "    rental_duration, \n",
    "    rental_rate\n",
    "from film\n",
    "where \n",
    "    (rental_duration >= 6)\n",
    "    and (rental_rate < 3)\n",
    "limit 5\n",
    "\"\"\"\n",
    "\n",
    "pd.read_sql(query, conn)"
   ]
  },
  {
   "cell_type": "markdown",
   "metadata": {},
   "source": [
    "#### Thực hành"
   ]
  },
  {
   "cell_type": "code",
   "execution_count": null,
   "metadata": {},
   "outputs": [],
   "source": []
  },
  {
   "cell_type": "markdown",
   "metadata": {},
   "source": [
    "### 3.5. LIMIT & OFFSET"
   ]
  },
  {
   "cell_type": "code",
   "execution_count": null,
   "metadata": {},
   "outputs": [],
   "source": [
    "# Inspect\n",
    "pd.read_sql(\"select * from category limit 1\", conn)"
   ]
  },
  {
   "cell_type": "code",
   "execution_count": null,
   "metadata": {},
   "outputs": [],
   "source": [
    "# Limit\n",
    "query = \"select * from category limit 5\"\n",
    "pd.read_sql(query, conn)"
   ]
  },
  {
   "cell_type": "code",
   "execution_count": null,
   "metadata": {},
   "outputs": [],
   "source": [
    "# Limit + offset\n",
    "query = \"select * from category limit 5 offset 3\"\n",
    "pd.read_sql(query, conn)"
   ]
  },
  {
   "cell_type": "markdown",
   "metadata": {},
   "source": [
    "#### Thực hành"
   ]
  },
  {
   "cell_type": "code",
   "execution_count": null,
   "metadata": {},
   "outputs": [],
   "source": []
  },
  {
   "cell_type": "markdown",
   "metadata": {},
   "source": [
    "### 3.6. COUNT\n",
    "- Count tương tự `.shape[0]` -> số dòng\n",
    "- Count distinct tương tự `.nunique()`"
   ]
  },
  {
   "cell_type": "code",
   "execution_count": null,
   "metadata": {},
   "outputs": [],
   "source": [
    "# Inspect\n",
    "pd.read_sql(\"select * from film limit 1\", conn)"
   ]
  },
  {
   "cell_type": "code",
   "execution_count": null,
   "metadata": {},
   "outputs": [],
   "source": [
    "# Đếm số dòng trong bảng film\n",
    "query = \"\"\"\n",
    "select count(*) as n_movies\n",
    "from film\n",
    "\"\"\"\n",
    "\n",
    "pd.read_sql(query, conn)"
   ]
  },
  {
   "cell_type": "code",
   "execution_count": null,
   "metadata": {},
   "outputs": [],
   "source": [
    "# Có bao nhiêu distinct loại rating từ bảng film\n",
    "query = \"\"\"\n",
    "select count (distinct rating)\n",
    "from film\n",
    "\"\"\"\n",
    "\n",
    "pd.read_sql(query, conn)"
   ]
  },
  {
   "cell_type": "code",
   "execution_count": null,
   "metadata": {},
   "outputs": [],
   "source": [
    "# Có bao nhiêu distinct rental_rate từ bảng film\n",
    "query = \"\"\"\n",
    "select count(distinct rental_rate)\n",
    "from film\n",
    "\"\"\"\n",
    "\n",
    "pd.read_sql(query, conn)"
   ]
  },
  {
   "cell_type": "markdown",
   "metadata": {},
   "source": [
    "#### Thực hành"
   ]
  },
  {
   "cell_type": "code",
   "execution_count": null,
   "metadata": {},
   "outputs": [],
   "source": []
  },
  {
   "cell_type": "markdown",
   "metadata": {},
   "source": [
    "### 3.7. IN\n",
    "- Tương tự `.isin()`"
   ]
  },
  {
   "cell_type": "code",
   "execution_count": null,
   "metadata": {},
   "outputs": [],
   "source": [
    "# Inspect film\n",
    "query = \"select * from film limit 1\"\n",
    "pd.read_sql(query, conn)"
   ]
  },
  {
   "cell_type": "code",
   "execution_count": null,
   "metadata": {},
   "outputs": [],
   "source": [
    "# Có những distinct rating nào\n",
    "query = \"\"\"\n",
    "select distinct rating\n",
    "from film\n",
    "\"\"\"\n",
    "pd.read_sql(query, conn)"
   ]
  },
  {
   "cell_type": "code",
   "execution_count": null,
   "metadata": {},
   "outputs": [],
   "source": [
    "# Lọc ra tất cả các film thuộc rating R, G, và PG\n",
    "# Có bao nhiêu bộ film như vậy\n",
    "query = \"\"\"\n",
    "select count(*)\n",
    "from film\n",
    "where rating in ('R', 'G', 'PG')\n",
    "\"\"\"\n",
    "pd.read_sql(query, conn)"
   ]
  },
  {
   "cell_type": "markdown",
   "metadata": {},
   "source": [
    "#### Thực hành"
   ]
  },
  {
   "cell_type": "code",
   "execution_count": null,
   "metadata": {},
   "outputs": [],
   "source": []
  },
  {
   "cell_type": "markdown",
   "metadata": {},
   "source": [
    "### 3.8. BETWEEN\n",
    "- Lưu ý include cả 2 đầu"
   ]
  },
  {
   "cell_type": "code",
   "execution_count": null,
   "metadata": {},
   "outputs": [],
   "source": [
    "# Đếm số film có rental từ 3 đến 5 đô\n",
    "# Low and high are included\n",
    "# Cách 1:\n",
    "query = \"\"\"\n",
    "select count(*)\n",
    "from film\n",
    "where \n",
    "    (rental_rate >= 3)\n",
    "    and (rental_rate <= 5)\n",
    "\"\"\"\n",
    "\n",
    "pd.read_sql(query, conn)"
   ]
  },
  {
   "cell_type": "code",
   "execution_count": null,
   "metadata": {},
   "outputs": [],
   "source": [
    "# Đếm số film có rental từ 3 đến 5 đô\n",
    "# Low and high are included\n",
    "# Cách 2:\n",
    "query = \"\"\"\n",
    "select count(*)\n",
    "from film\n",
    "where rental_rate between 3 and 5\n",
    "\"\"\"\n",
    "\n",
    "pd.read_sql(query, conn)"
   ]
  },
  {
   "cell_type": "code",
   "execution_count": null,
   "metadata": {},
   "outputs": [],
   "source": [
    "# Inspect paymentt table\n",
    "query = \"select * from payment limit 1\"\n",
    "\n",
    "pd.read_sql(query, conn)"
   ]
  },
  {
   "cell_type": "code",
   "execution_count": null,
   "metadata": {},
   "outputs": [],
   "source": [
    "# Lọc ra tất cả các payment trong giai đoạn 2007/02/15 to 2007/02/19\n",
    "# Trường hợp này không dùng between được\n",
    "query = \"\"\"\n",
    "select count(*)\n",
    "from payment\n",
    "where \n",
    "    (payment_date >= '2007-02-15 00:00:00')\n",
    "    and (payment_date < '2007-02-20 00:00:00')\n",
    "\"\"\"\n",
    "\n",
    "pd.read_sql(query, conn)"
   ]
  },
  {
   "cell_type": "code",
   "execution_count": null,
   "metadata": {},
   "outputs": [],
   "source": [
    "# Dạng gọn hơn của VD trên\n",
    "query = \"\"\"\n",
    "select count(*)\n",
    "from payment\n",
    "where \n",
    "    (payment_date >= '2007-02-15 00:00:00')\n",
    "    and (payment_date < '2007-02-20 00:00:00')\n",
    "\"\"\"\n",
    "\n",
    "pd.read_sql(query, conn)"
   ]
  },
  {
   "cell_type": "markdown",
   "metadata": {},
   "source": [
    "#### Thực hành"
   ]
  },
  {
   "cell_type": "code",
   "execution_count": null,
   "metadata": {},
   "outputs": [],
   "source": []
  },
  {
   "cell_type": "markdown",
   "metadata": {},
   "source": [
    "### 3.9. CAST\n",
    "- type casting \n",
    "- Tương tự `.astype()`"
   ]
  },
  {
   "cell_type": "code",
   "execution_count": null,
   "metadata": {},
   "outputs": [],
   "source": [
    "# Inspect\n",
    "pd.read_sql(\"select * from payment limit 1\", conn)"
   ]
  },
  {
   "cell_type": "code",
   "execution_count": null,
   "metadata": {},
   "outputs": [],
   "source": [
    "# Đổi amount thành số string\n",
    "query = \"\"\"\n",
    "select \n",
    "    customer_id,\n",
    "    cast(customer_id as text) as cust_id_str \n",
    "from payment\n",
    "limit 5\n",
    "\"\"\"\n",
    "\n",
    "pd.read_sql(query, conn).dtypes"
   ]
  },
  {
   "cell_type": "markdown",
   "metadata": {},
   "source": [
    "#### Thực hành"
   ]
  },
  {
   "cell_type": "code",
   "execution_count": null,
   "metadata": {},
   "outputs": [],
   "source": []
  },
  {
   "cell_type": "markdown",
   "metadata": {},
   "source": [
    "### 3.10. Math operations"
   ]
  },
  {
   "cell_type": "code",
   "execution_count": null,
   "metadata": {},
   "outputs": [],
   "source": [
    "# Inspect\n",
    "query = \"select * from payment limit 1\"\n",
    "pd.read_sql(query, conn)"
   ]
  },
  {
   "cell_type": "code",
   "execution_count": null,
   "metadata": {},
   "outputs": [],
   "source": [
    "# Round\n",
    "query = \"\"\"\n",
    "select round(amount, 1) as amount_1\n",
    "from payment \n",
    "limit 1\n",
    "\"\"\"\n",
    "\n",
    "pd.read_sql(query, conn)"
   ]
  },
  {
   "cell_type": "code",
   "execution_count": null,
   "metadata": {},
   "outputs": [],
   "source": [
    "# Floor\n",
    "query = \"\"\"\n",
    "select floor(amount) as amount_1\n",
    "from payment \n",
    "limit 1\n",
    "\"\"\"\n",
    "\n",
    "pd.read_sql(query, conn)"
   ]
  },
  {
   "cell_type": "code",
   "execution_count": null,
   "metadata": {},
   "outputs": [],
   "source": [
    "# Ceiling\n",
    "query = \"\"\"\n",
    "select ceil(amount) as amount_1\n",
    "from payment \n",
    "limit 1\n",
    "\"\"\"\n",
    "\n",
    "pd.read_sql(query, conn)"
   ]
  },
  {
   "cell_type": "code",
   "execution_count": null,
   "metadata": {},
   "outputs": [],
   "source": [
    "# Nhân amount với 1000\n",
    "query = \"\"\"\n",
    "select amount * 1000 as amount_1\n",
    "from payment \n",
    "limit 1\n",
    "\"\"\"\n",
    "\n",
    "pd.read_sql(query, conn)"
   ]
  },
  {
   "cell_type": "code",
   "execution_count": null,
   "metadata": {},
   "outputs": [],
   "source": [
    "# Nhân staff_id với customer_id\n",
    "# Stupid, only for illustration purpose\n",
    "query = \"\"\"\n",
    "select \n",
    "    staff_id,\n",
    "    customer_id,\n",
    "    (staff_id * customer_id) as amount_1\n",
    "from payment \n",
    "limit 1\n",
    "\"\"\"\n",
    "\n",
    "pd.read_sql(query, conn)"
   ]
  },
  {
   "cell_type": "markdown",
   "metadata": {},
   "source": [
    "#### Thực hành"
   ]
  },
  {
   "cell_type": "code",
   "execution_count": null,
   "metadata": {},
   "outputs": [],
   "source": []
  },
  {
   "cell_type": "markdown",
   "metadata": {},
   "source": [
    "### 3.11. Working with dates"
   ]
  },
  {
   "cell_type": "code",
   "execution_count": null,
   "metadata": {},
   "outputs": [],
   "source": [
    "# Inspect\n",
    "query = \"select * from film limit 1\"\n",
    "pd.read_sql(query, conn)"
   ]
  },
  {
   "cell_type": "code",
   "execution_count": null,
   "metadata": {},
   "outputs": [],
   "source": [
    "# Lấy cột title, last_update\n",
    "# Tạo cột prev_date cách 10 ngày về trước\n",
    "# Tạo cột next_date cách 1 tháng trở về sau\n",
    "query = \"\"\"\n",
    "select\n",
    "    title, \n",
    "    last_update,\n",
    "    (last_update - interval '10 days') as prev_date,\n",
    "    (last_update + interval '1 month') as next_date\n",
    "from film\n",
    "limit 5\n",
    "\"\"\"\n",
    "\n",
    "pd.read_sql(query, conn)"
   ]
  },
  {
   "cell_type": "code",
   "execution_count": null,
   "metadata": {},
   "outputs": [],
   "source": [
    "# Chỉ lấy phần date (bỏ timestamp)\n",
    "query = \"\"\"\n",
    "select\n",
    "    title, \n",
    "    last_update,\n",
    "    date(last_update) last_update_date\n",
    "from film\n",
    "limit 2\n",
    "\"\"\"\n",
    "\n",
    "pd.read_sql(query, conn)"
   ]
  },
  {
   "cell_type": "code",
   "execution_count": null,
   "metadata": {},
   "outputs": [],
   "source": [
    "# Chỉ lấy phần ngày, tháng, năm, từ date\n",
    "query = \"\"\"\n",
    "select\n",
    "    title, \n",
    "    last_update,\n",
    "    date_part('year', last_update) as year,\n",
    "    date_part('month', last_update) as month,\n",
    "    date_part('day', last_update) as day\n",
    "from film\n",
    "limit 2\n",
    "\"\"\"\n",
    "\n",
    "pd.read_sql(query, conn)"
   ]
  },
  {
   "cell_type": "code",
   "execution_count": null,
   "metadata": {},
   "outputs": [],
   "source": [
    "# Chỉ lấy phần ngày, tháng, năm, từ date\n",
    "query = \"\"\"\n",
    "select\n",
    "    title, \n",
    "    last_update,\n",
    "    date_part('year', last_update) as year,\n",
    "    date_part('month', last_update) as month,\n",
    "    date_part('day', last_update) as day\n",
    "from film\n",
    "limit 2\n",
    "\"\"\"\n",
    "\n",
    "pd.read_sql(query, conn)"
   ]
  },
  {
   "cell_type": "markdown",
   "metadata": {},
   "source": [
    "- More: https://www.postgresql.org/docs/8.1/functions-datetime.html"
   ]
  },
  {
   "cell_type": "markdown",
   "metadata": {},
   "source": [
    "#### Thực hành"
   ]
  },
  {
   "cell_type": "code",
   "execution_count": null,
   "metadata": {},
   "outputs": [],
   "source": []
  },
  {
   "cell_type": "markdown",
   "metadata": {},
   "source": [
    "### 3.12. LIKE with `%` and `_`\n",
    "\n",
    "- % match any characters\n",
    "- _ match 1 character"
   ]
  },
  {
   "cell_type": "code",
   "execution_count": null,
   "metadata": {},
   "outputs": [],
   "source": [
    "# Inspect\n",
    "query = \"\"\"select * from customer limit 1\"\"\"\n",
    "pd.read_sql(query, conn)"
   ]
  },
  {
   "cell_type": "code",
   "execution_count": null,
   "metadata": {},
   "outputs": [],
   "source": [
    "# Khách hàng có last_name kết thúc bởi el\n",
    "query = \"\"\"\n",
    "select \n",
    "    last_name,\n",
    "    email\n",
    "from customer \n",
    "where lower(last_name) like '%el'\n",
    "limit 2\"\"\"\n",
    "pd.read_sql(query, conn)"
   ]
  },
  {
   "cell_type": "code",
   "execution_count": null,
   "metadata": {},
   "outputs": [],
   "source": [
    "# Khách hàng có last_name kết thúc bởi el và một ký tự bất kỳ sau đó\n",
    "query = \"\"\"\n",
    "select \n",
    "    last_name,\n",
    "    email\n",
    "from customer \n",
    "where lower(last_name) like '%el_'\n",
    "limit 2\"\"\"\n",
    "pd.read_sql(query, conn)"
   ]
  },
  {
   "cell_type": "markdown",
   "metadata": {},
   "source": [
    "#### Thực hành"
   ]
  },
  {
   "cell_type": "code",
   "execution_count": null,
   "metadata": {},
   "outputs": [],
   "source": []
  },
  {
   "cell_type": "code",
   "execution_count": null,
   "metadata": {},
   "outputs": [],
   "source": []
  },
  {
   "cell_type": "markdown",
   "metadata": {},
   "source": [
    "### 3.13. NULL \n",
    "- Tươn tự `None`, `NaN`\n",
    "    - `.isnull()`\n",
    "    - `.notnulll()`"
   ]
  },
  {
   "cell_type": "code",
   "execution_count": null,
   "metadata": {},
   "outputs": [],
   "source": [
    "# Inspect\n",
    "query = \"select * from staff limit 1\"\n",
    "pd.read_sql(query, conn)"
   ]
  },
  {
   "cell_type": "code",
   "execution_count": null,
   "metadata": {},
   "outputs": [],
   "source": [
    "# Tìm nhân viên chưa upload ảnh profile\n",
    "query = \"\"\"\n",
    "select *\n",
    "from staff\n",
    "where picture is null\n",
    "limit 5\n",
    "\"\"\"\n",
    "\n",
    "pd.read_sql(query, conn)"
   ]
  },
  {
   "cell_type": "markdown",
   "metadata": {},
   "source": [
    "#### Thực hành"
   ]
  },
  {
   "cell_type": "code",
   "execution_count": null,
   "metadata": {},
   "outputs": [],
   "source": []
  },
  {
   "cell_type": "markdown",
   "metadata": {},
   "source": [
    "### 3.14. Working with string\n",
    "- `.strip()`"
   ]
  },
  {
   "cell_type": "code",
   "execution_count": null,
   "metadata": {},
   "outputs": [],
   "source": [
    "query = \"\"\"select * from actor limit 1\"\"\"\n",
    "pd.read_sql(query, conn)"
   ]
  },
  {
   "cell_type": "code",
   "execution_count": null,
   "metadata": {},
   "outputs": [],
   "source": [
    "# Lower first name\n",
    "query = \"\"\"\n",
    "select\n",
    "    first_name,\n",
    "    lower(first_name) as first_name_lower\n",
    "from actor\n",
    "limit 3\n",
    "\"\"\"\n",
    "\n",
    "pd.read_sql(query, conn)"
   ]
  },
  {
   "cell_type": "code",
   "execution_count": null,
   "metadata": {},
   "outputs": [],
   "source": [
    "# Upper first name\n",
    "query = \"\"\"\n",
    "select\n",
    "    first_name,\n",
    "    lower(first_name) as first_name_lower\n",
    "from actor\n",
    "limit 3\n",
    "\"\"\"\n",
    "\n",
    "pd.read_sql(query, conn)"
   ]
  },
  {
   "cell_type": "code",
   "execution_count": null,
   "metadata": {},
   "outputs": [],
   "source": [
    "# Concat tạo full name\n",
    "query = \"\"\"\n",
    "select\n",
    "    first_name,\n",
    "    last_name,\n",
    "    (first_name || ' ' || last_name) as full_name\n",
    "from actor\n",
    "limit 3\n",
    "\"\"\"\n",
    "\n",
    "pd.read_sql(query, conn)"
   ]
  },
  {
   "cell_type": "code",
   "execution_count": null,
   "metadata": {},
   "outputs": [],
   "source": [
    "# Trim khoảng trắng\n",
    "# trim, ltrim, rtrim\n",
    "query = \"\"\"\n",
    "select\n",
    "    first_name,\n",
    "    trim(first_name) as trim_first_name\n",
    "from actor\n",
    "limit 3\n",
    "\"\"\"\n",
    "\n",
    "pd.read_sql(query, conn)"
   ]
  },
  {
   "cell_type": "markdown",
   "metadata": {},
   "source": [
    "#### Thực hành"
   ]
  },
  {
   "cell_type": "code",
   "execution_count": null,
   "metadata": {},
   "outputs": [],
   "source": []
  }
 ],
 "metadata": {
  "kernelspec": {
   "display_name": "Python 3",
   "language": "python",
   "name": "python3"
  },
  "language_info": {
   "codemirror_mode": {
    "name": "ipython",
    "version": 3
   },
   "file_extension": ".py",
   "mimetype": "text/x-python",
   "name": "python",
   "nbconvert_exporter": "python",
   "pygments_lexer": "ipython3",
   "version": "3.8.3"
  }
 },
 "nbformat": 4,
 "nbformat_minor": 4
}
