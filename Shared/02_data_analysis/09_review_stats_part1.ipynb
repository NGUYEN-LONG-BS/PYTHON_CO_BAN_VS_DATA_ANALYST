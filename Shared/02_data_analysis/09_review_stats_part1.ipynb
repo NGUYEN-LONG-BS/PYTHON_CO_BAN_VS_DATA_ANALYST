{
 "cells": [
  {
   "cell_type": "markdown",
   "metadata": {},
   "source": [
    "# Bài 9: Review statistics - Part 1"
   ]
  },
  {
   "cell_type": "code",
   "execution_count": 1,
   "metadata": {},
   "outputs": [],
   "source": [
    "import numpy as np\n",
    "import pandas as pd\n",
    "\n",
    "import matplotlib.pyplot as plt\n",
    "import seaborn as sns\n",
    "plt.style.use(\"seaborn-whitegrid\")"
   ]
  },
  {
   "cell_type": "markdown",
   "metadata": {},
   "source": [
    "## 1. Classification of data types\n",
    "- **Qualitative (categorical):**\n",
    "    - Nominal (Name): \n",
    "        - Example: name, sex, nationality, ...\n",
    "        - Characteristics:\n",
    "            - Just labels\n",
    "            - No natural order\n",
    "            - Cannot perform math operations\n",
    "        - Special case: binary (0/1 or Y/N or T/F)\n",
    "    - Ordinal:\n",
    "        - Example: letter grades (A, B, C, D, F), satisfaction, ...\n",
    "        - Characteristics:\n",
    "            - Just labels, but has natural order\n",
    "            - Distances between classes are not defined\n",
    "            - Cannot perform math operations\n",
    "            \n",
    "- **Quantitative (numerical):**\n",
    "    - Discrete:\n",
    "        - Example: number of children, number of diplomas\n",
    "        - Characteristics:\n",
    "            - Can take integer values such as counts\n",
    "            - Have relatively small number of possible values (if too many, then treat as continuous)\n",
    "            - Have order, distances are defined\n",
    "            - Can perform math operations\n",
    "        \n",
    "    - Continuous:\n",
    "        - Example: salary, income, age, years of experience, driving speed...\n",
    "        - Characteristics:\n",
    "            - Can take any values in an interval\n",
    "            - Have order, distances are defined\n",
    "            - Can perform math operations\n",
    "            - Some discrete data are better modeled as continuous if their number of possible values are too large (e.g. number of seat on a airplane, population, ...)"
   ]
  },
  {
   "cell_type": "markdown",
   "metadata": {},
   "source": [
    "## 2. Why care about data types\n",
    "They determine \n",
    "- How we look at the data (hist, bar, scatter, contingency tables, ...)\n",
    "- What kinds of operations we can perform on them (count, math operations, ...)\n",
    "- What kind of actions we should perform on them (binning, ...)\n",
    "- What kinds of models to use (regression, classification, ...)"
   ]
  },
  {
   "cell_type": "markdown",
   "metadata": {},
   "source": [
    "## 3. Tabular data\n",
    "- **Data frame:** \n",
    "    - Rectangular table (like Excel spreadsheet)\n",
    "    - Most ML models expect retangular format\n",
    "    \n",
    "- **Features:**\n",
    "    - Features are often expressed as columns (sex, age, income, education, ...)\n",
    "    - Features are characteristics of interest \n",
    "    - Synonym: attributes, predictors, input, indenpendent variables, columns\n",
    "\n",
    "    \n",
    "- **Target:**\n",
    "    - Target is the characteristic that we want to predict (e.g. income, age, good/bad, ...)\n",
    "    - Often target is expressed as a column\n",
    "    - Synonym: outcome, response, output, dependent variable\n",
    "    \n",
    "- **Observations:**\n",
    "    - Observation are often expressed as rows \n",
    "    - Synonym: records, cases, instances, sample, row\n",
    "    \n"
   ]
  },
  {
   "cell_type": "markdown",
   "metadata": {},
   "source": [
    "## 4. Examples"
   ]
  },
  {
   "cell_type": "markdown",
   "metadata": {},
   "source": [
    "### Load and inspect data"
   ]
  },
  {
   "cell_type": "code",
   "execution_count": 2,
   "metadata": {},
   "outputs": [],
   "source": [
    "# Load\n",
    "tips = sns.load_dataset(\"tips\")"
   ]
  },
  {
   "cell_type": "code",
   "execution_count": 3,
   "metadata": {},
   "outputs": [
    {
     "data": {
      "text/plain": [
       "(244, 7)"
      ]
     },
     "execution_count": 3,
     "metadata": {},
     "output_type": "execute_result"
    }
   ],
   "source": [
    "# Shape\n",
    "tips.shape"
   ]
  },
  {
   "cell_type": "code",
   "execution_count": 4,
   "metadata": {},
   "outputs": [
    {
     "data": {
      "text/html": [
       "<div>\n",
       "<style scoped>\n",
       "    .dataframe tbody tr th:only-of-type {\n",
       "        vertical-align: middle;\n",
       "    }\n",
       "\n",
       "    .dataframe tbody tr th {\n",
       "        vertical-align: top;\n",
       "    }\n",
       "\n",
       "    .dataframe thead th {\n",
       "        text-align: right;\n",
       "    }\n",
       "</style>\n",
       "<table border=\"1\" class=\"dataframe\">\n",
       "  <thead>\n",
       "    <tr style=\"text-align: right;\">\n",
       "      <th></th>\n",
       "      <th>total_bill</th>\n",
       "      <th>tip</th>\n",
       "      <th>sex</th>\n",
       "      <th>smoker</th>\n",
       "      <th>day</th>\n",
       "      <th>time</th>\n",
       "      <th>size</th>\n",
       "    </tr>\n",
       "  </thead>\n",
       "  <tbody>\n",
       "    <tr>\n",
       "      <th>0</th>\n",
       "      <td>16.99</td>\n",
       "      <td>1.01</td>\n",
       "      <td>Female</td>\n",
       "      <td>No</td>\n",
       "      <td>Sun</td>\n",
       "      <td>Dinner</td>\n",
       "      <td>2</td>\n",
       "    </tr>\n",
       "    <tr>\n",
       "      <th>1</th>\n",
       "      <td>10.34</td>\n",
       "      <td>1.66</td>\n",
       "      <td>Male</td>\n",
       "      <td>No</td>\n",
       "      <td>Sun</td>\n",
       "      <td>Dinner</td>\n",
       "      <td>3</td>\n",
       "    </tr>\n",
       "    <tr>\n",
       "      <th>2</th>\n",
       "      <td>21.01</td>\n",
       "      <td>3.50</td>\n",
       "      <td>Male</td>\n",
       "      <td>No</td>\n",
       "      <td>Sun</td>\n",
       "      <td>Dinner</td>\n",
       "      <td>3</td>\n",
       "    </tr>\n",
       "  </tbody>\n",
       "</table>\n",
       "</div>"
      ],
      "text/plain": [
       "   total_bill   tip     sex smoker  day    time  size\n",
       "0       16.99  1.01  Female     No  Sun  Dinner     2\n",
       "1       10.34  1.66    Male     No  Sun  Dinner     3\n",
       "2       21.01  3.50    Male     No  Sun  Dinner     3"
      ]
     },
     "execution_count": 4,
     "metadata": {},
     "output_type": "execute_result"
    }
   ],
   "source": [
    "# Head\n",
    "tips.head(3)"
   ]
  },
  {
   "cell_type": "markdown",
   "metadata": {},
   "source": [
    "### VD1: Phân loại:\n",
    "- `tota_bill, tip`: Quantitative > continuous\n",
    "- `smoker, time, day`: Qualitative > Nominal\n",
    "- `size`: Qualitative > Discrete"
   ]
  },
  {
   "cell_type": "code",
   "execution_count": 5,
   "metadata": {},
   "outputs": [
    {
     "data": {
      "text/plain": [
       "total_bill     float64\n",
       "tip            float64\n",
       "sex           category\n",
       "smoker        category\n",
       "day           category\n",
       "time          category\n",
       "size             int64\n",
       "dtype: object"
      ]
     },
     "execution_count": 5,
     "metadata": {},
     "output_type": "execute_result"
    }
   ],
   "source": [
    "# Check dtypes\n",
    "tips.dtypes"
   ]
  },
  {
   "cell_type": "markdown",
   "metadata": {},
   "source": [
    "### VD2: Example scenario\n",
    "\n",
    "- Target: \n",
    "    - `tip`: continuous (predict how much tip) basing on other features\n",
    "    \n",
    "- Features: other columns\n",
    "    - `total_bill`: continuous\n",
    "    - `smoker`: nominal (binary)\n",
    "    - `day`: nominal \n",
    "    - `time`: nominal (binary)\n",
    "    - `size`: discrete\n",
    "    \n",
    "- Observation: \n",
    "    - Each row (each meal at a restaurant)"
   ]
  },
  {
   "cell_type": "markdown",
   "metadata": {},
   "source": [
    "## 5. Distributions\n",
    "- Distribution is just a term for how data are distributed (how data points are located)\n",
    "- Will understand more in the next sections"
   ]
  },
  {
   "cell_type": "code",
   "execution_count": 6,
   "metadata": {},
   "outputs": [
    {
     "data": {
      "text/plain": [
       "No     151\n",
       "Yes     93\n",
       "Name: smoker, dtype: int64"
      ]
     },
     "execution_count": 6,
     "metadata": {},
     "output_type": "execute_result"
    }
   ],
   "source": [
    "# Distribution of smoker (absolute count)\n",
    "tips[\"smoker\"].value_counts()"
   ]
  },
  {
   "cell_type": "code",
   "execution_count": 7,
   "metadata": {},
   "outputs": [
    {
     "data": {
      "text/plain": [
       "No     0.618852\n",
       "Yes    0.381148\n",
       "Name: smoker, dtype: float64"
      ]
     },
     "execution_count": 7,
     "metadata": {},
     "output_type": "execute_result"
    }
   ],
   "source": [
    "# Distribution of smoker (relative count)\n",
    "tips[\"smoker\"].value_counts(normalize=True)"
   ]
  },
  {
   "cell_type": "markdown",
   "metadata": {},
   "source": [
    "## 6. Work with categorical data"
   ]
  },
  {
   "cell_type": "markdown",
   "metadata": {},
   "source": [
    "### 6.1. Important summary stats\n",
    "- Mode: the most common category\n",
    "- Somehow can be thought of the *center* of the distribution (although not exactly)"
   ]
  },
  {
   "cell_type": "code",
   "execution_count": 8,
   "metadata": {},
   "outputs": [
    {
     "data": {
      "text/html": [
       "<div>\n",
       "<style scoped>\n",
       "    .dataframe tbody tr th:only-of-type {\n",
       "        vertical-align: middle;\n",
       "    }\n",
       "\n",
       "    .dataframe tbody tr th {\n",
       "        vertical-align: top;\n",
       "    }\n",
       "\n",
       "    .dataframe thead th {\n",
       "        text-align: right;\n",
       "    }\n",
       "</style>\n",
       "<table border=\"1\" class=\"dataframe\">\n",
       "  <thead>\n",
       "    <tr style=\"text-align: right;\">\n",
       "      <th></th>\n",
       "      <th>total_bill</th>\n",
       "      <th>tip</th>\n",
       "      <th>sex</th>\n",
       "      <th>smoker</th>\n",
       "      <th>day</th>\n",
       "      <th>time</th>\n",
       "      <th>size</th>\n",
       "    </tr>\n",
       "  </thead>\n",
       "  <tbody>\n",
       "    <tr>\n",
       "      <th>0</th>\n",
       "      <td>16.99</td>\n",
       "      <td>1.01</td>\n",
       "      <td>Female</td>\n",
       "      <td>No</td>\n",
       "      <td>Sun</td>\n",
       "      <td>Dinner</td>\n",
       "      <td>2</td>\n",
       "    </tr>\n",
       "    <tr>\n",
       "      <th>1</th>\n",
       "      <td>10.34</td>\n",
       "      <td>1.66</td>\n",
       "      <td>Male</td>\n",
       "      <td>No</td>\n",
       "      <td>Sun</td>\n",
       "      <td>Dinner</td>\n",
       "      <td>3</td>\n",
       "    </tr>\n",
       "    <tr>\n",
       "      <th>2</th>\n",
       "      <td>21.01</td>\n",
       "      <td>3.50</td>\n",
       "      <td>Male</td>\n",
       "      <td>No</td>\n",
       "      <td>Sun</td>\n",
       "      <td>Dinner</td>\n",
       "      <td>3</td>\n",
       "    </tr>\n",
       "  </tbody>\n",
       "</table>\n",
       "</div>"
      ],
      "text/plain": [
       "   total_bill   tip     sex smoker  day    time  size\n",
       "0       16.99  1.01  Female     No  Sun  Dinner     2\n",
       "1       10.34  1.66    Male     No  Sun  Dinner     3\n",
       "2       21.01  3.50    Male     No  Sun  Dinner     3"
      ]
     },
     "execution_count": 8,
     "metadata": {},
     "output_type": "execute_result"
    }
   ],
   "source": [
    "# View\n",
    "tips.head(3)"
   ]
  },
  {
   "cell_type": "code",
   "execution_count": 9,
   "metadata": {},
   "outputs": [
    {
     "data": {
      "text/plain": [
       "Sat     87\n",
       "Sun     76\n",
       "Thur    62\n",
       "Fri     19\n",
       "Name: day, dtype: int64"
      ]
     },
     "execution_count": 9,
     "metadata": {},
     "output_type": "execute_result"
    }
   ],
   "source": [
    "# Find mode of day\n",
    "# Note: Mode is Sat, not 87\n",
    "tips[\"day\"].value_counts()"
   ]
  },
  {
   "cell_type": "code",
   "execution_count": 10,
   "metadata": {},
   "outputs": [
    {
     "data": {
      "text/plain": [
       "Male      157\n",
       "Female     87\n",
       "Name: sex, dtype: int64"
      ]
     },
     "execution_count": 10,
     "metadata": {},
     "output_type": "execute_result"
    }
   ],
   "source": [
    "# Find mode of sex\n",
    "# Note: Mode is Male, not 157\n",
    "tips[\"sex\"].value_counts()"
   ]
  },
  {
   "cell_type": "code",
   "execution_count": 11,
   "metadata": {},
   "outputs": [
    {
     "data": {
      "text/plain": [
       "Dinner    176\n",
       "Lunch      68\n",
       "Name: time, dtype: int64"
      ]
     },
     "execution_count": 11,
     "metadata": {},
     "output_type": "execute_result"
    }
   ],
   "source": [
    "# Find mode of time\n",
    "# Note: Mode is Dinner, not 176\n",
    "tips[\"time\"].value_counts()"
   ]
  },
  {
   "cell_type": "markdown",
   "metadata": {},
   "source": [
    "### 6.2. Characterize categorical distributions\n",
    "- For categorical data, what we want to display the magnitude of each class:\n",
    "    - Count (absolute count, e.g: 120)\n",
    "    - Percentage (relative count, e.g: 30%)\n",
    "    - Proportion (just percentage in decimal form, e.g: 0.3) \n",
    "    \n",
    "- Common tools:\n",
    "    - Table: \n",
    "        - Frequency tables (3 types for count, percentage, and proportion)\n",
    "        - A tally of the count of data values that fall into a category\n",
    "        - Suitable for data with small numbers of distinct values (ideal for qualitative data)\n",
    "        - For continuous data, should apply binning the data first (as we will see later)\n",
    "\n",
    "    - Plot:\n",
    "        - Bar charts (mỗi bar là một class, chiều cao của bar là magnitude của class đó)\n",
    "        - Pie charts (not recommended)\n",
    "        - Bar charts and pie charts are just graphical representations of frequency tables"
   ]
  },
  {
   "cell_type": "markdown",
   "metadata": {},
   "source": [
    "#### A1) Frequency tables (absolute count)"
   ]
  },
  {
   "cell_type": "code",
   "execution_count": 12,
   "metadata": {},
   "outputs": [
    {
     "data": {
      "text/plain": [
       "Sat     87\n",
       "Sun     76\n",
       "Thur    62\n",
       "Fri     19\n",
       "Name: day, dtype: int64"
      ]
     },
     "execution_count": 12,
     "metadata": {},
     "output_type": "execute_result"
    }
   ],
   "source": [
    "# Series form\n",
    "tips[\"day\"].value_counts()"
   ]
  },
  {
   "cell_type": "code",
   "execution_count": 13,
   "metadata": {},
   "outputs": [
    {
     "data": {
      "text/html": [
       "<div>\n",
       "<style scoped>\n",
       "    .dataframe tbody tr th:only-of-type {\n",
       "        vertical-align: middle;\n",
       "    }\n",
       "\n",
       "    .dataframe tbody tr th {\n",
       "        vertical-align: top;\n",
       "    }\n",
       "\n",
       "    .dataframe thead th {\n",
       "        text-align: right;\n",
       "    }\n",
       "</style>\n",
       "<table border=\"1\" class=\"dataframe\">\n",
       "  <thead>\n",
       "    <tr style=\"text-align: right;\">\n",
       "      <th></th>\n",
       "      <th>index</th>\n",
       "      <th>day</th>\n",
       "    </tr>\n",
       "  </thead>\n",
       "  <tbody>\n",
       "    <tr>\n",
       "      <th>0</th>\n",
       "      <td>Sat</td>\n",
       "      <td>87</td>\n",
       "    </tr>\n",
       "    <tr>\n",
       "      <th>1</th>\n",
       "      <td>Sun</td>\n",
       "      <td>76</td>\n",
       "    </tr>\n",
       "    <tr>\n",
       "      <th>2</th>\n",
       "      <td>Thur</td>\n",
       "      <td>62</td>\n",
       "    </tr>\n",
       "    <tr>\n",
       "      <th>3</th>\n",
       "      <td>Fri</td>\n",
       "      <td>19</td>\n",
       "    </tr>\n",
       "  </tbody>\n",
       "</table>\n",
       "</div>"
      ],
      "text/plain": [
       "  index  day\n",
       "0   Sat   87\n",
       "1   Sun   76\n",
       "2  Thur   62\n",
       "3   Fri   19"
      ]
     },
     "execution_count": 13,
     "metadata": {},
     "output_type": "execute_result"
    }
   ],
   "source": [
    "# DataFrame form\n",
    "tips[\"day\"].value_counts().reset_index()"
   ]
  },
  {
   "cell_type": "markdown",
   "metadata": {},
   "source": [
    "#### A2) Frequency tables (Proportion)"
   ]
  },
  {
   "cell_type": "code",
   "execution_count": 14,
   "metadata": {},
   "outputs": [
    {
     "data": {
      "text/plain": [
       "Sat     0.356557\n",
       "Sun     0.311475\n",
       "Thur    0.254098\n",
       "Fri     0.077869\n",
       "Name: day, dtype: float64"
      ]
     },
     "execution_count": 14,
     "metadata": {},
     "output_type": "execute_result"
    }
   ],
   "source": [
    "# Series form\n",
    "tips[\"day\"].value_counts(normalize=True)"
   ]
  },
  {
   "cell_type": "code",
   "execution_count": 15,
   "metadata": {},
   "outputs": [
    {
     "data": {
      "text/html": [
       "<div>\n",
       "<style scoped>\n",
       "    .dataframe tbody tr th:only-of-type {\n",
       "        vertical-align: middle;\n",
       "    }\n",
       "\n",
       "    .dataframe tbody tr th {\n",
       "        vertical-align: top;\n",
       "    }\n",
       "\n",
       "    .dataframe thead th {\n",
       "        text-align: right;\n",
       "    }\n",
       "</style>\n",
       "<table border=\"1\" class=\"dataframe\">\n",
       "  <thead>\n",
       "    <tr style=\"text-align: right;\">\n",
       "      <th></th>\n",
       "      <th>index</th>\n",
       "      <th>day</th>\n",
       "    </tr>\n",
       "  </thead>\n",
       "  <tbody>\n",
       "    <tr>\n",
       "      <th>0</th>\n",
       "      <td>Sat</td>\n",
       "      <td>0.356557</td>\n",
       "    </tr>\n",
       "    <tr>\n",
       "      <th>1</th>\n",
       "      <td>Sun</td>\n",
       "      <td>0.311475</td>\n",
       "    </tr>\n",
       "    <tr>\n",
       "      <th>2</th>\n",
       "      <td>Thur</td>\n",
       "      <td>0.254098</td>\n",
       "    </tr>\n",
       "    <tr>\n",
       "      <th>3</th>\n",
       "      <td>Fri</td>\n",
       "      <td>0.077869</td>\n",
       "    </tr>\n",
       "  </tbody>\n",
       "</table>\n",
       "</div>"
      ],
      "text/plain": [
       "  index       day\n",
       "0   Sat  0.356557\n",
       "1   Sun  0.311475\n",
       "2  Thur  0.254098\n",
       "3   Fri  0.077869"
      ]
     },
     "execution_count": 15,
     "metadata": {},
     "output_type": "execute_result"
    }
   ],
   "source": [
    "# DataFrame form\n",
    "tips[\"day\"].value_counts(normalize=True).reset_index()"
   ]
  },
  {
   "cell_type": "markdown",
   "metadata": {},
   "source": [
    "#### A3) Frequency tables (Percentage)"
   ]
  },
  {
   "cell_type": "code",
   "execution_count": 16,
   "metadata": {},
   "outputs": [
    {
     "data": {
      "text/plain": [
       "Sat     35.655738\n",
       "Sun     31.147541\n",
       "Thur    25.409836\n",
       "Fri      7.786885\n",
       "Name: day, dtype: float64"
      ]
     },
     "execution_count": 16,
     "metadata": {},
     "output_type": "execute_result"
    }
   ],
   "source": [
    "# Series form\n",
    "tips[\"day\"].value_counts(normalize=True) * 100"
   ]
  },
  {
   "cell_type": "code",
   "execution_count": 17,
   "metadata": {},
   "outputs": [
    {
     "data": {
      "text/html": [
       "<div>\n",
       "<style scoped>\n",
       "    .dataframe tbody tr th:only-of-type {\n",
       "        vertical-align: middle;\n",
       "    }\n",
       "\n",
       "    .dataframe tbody tr th {\n",
       "        vertical-align: top;\n",
       "    }\n",
       "\n",
       "    .dataframe thead th {\n",
       "        text-align: right;\n",
       "    }\n",
       "</style>\n",
       "<table border=\"1\" class=\"dataframe\">\n",
       "  <thead>\n",
       "    <tr style=\"text-align: right;\">\n",
       "      <th></th>\n",
       "      <th>index</th>\n",
       "      <th>day</th>\n",
       "    </tr>\n",
       "  </thead>\n",
       "  <tbody>\n",
       "    <tr>\n",
       "      <th>0</th>\n",
       "      <td>Sat</td>\n",
       "      <td>35.655738</td>\n",
       "    </tr>\n",
       "    <tr>\n",
       "      <th>1</th>\n",
       "      <td>Sun</td>\n",
       "      <td>31.147541</td>\n",
       "    </tr>\n",
       "    <tr>\n",
       "      <th>2</th>\n",
       "      <td>Thur</td>\n",
       "      <td>25.409836</td>\n",
       "    </tr>\n",
       "    <tr>\n",
       "      <th>3</th>\n",
       "      <td>Fri</td>\n",
       "      <td>7.786885</td>\n",
       "    </tr>\n",
       "  </tbody>\n",
       "</table>\n",
       "</div>"
      ],
      "text/plain": [
       "  index        day\n",
       "0   Sat  35.655738\n",
       "1   Sun  31.147541\n",
       "2  Thur  25.409836\n",
       "3   Fri   7.786885"
      ]
     },
     "execution_count": 17,
     "metadata": {},
     "output_type": "execute_result"
    }
   ],
   "source": [
    "# DataFrame form\n",
    "(tips[\"day\"].value_counts(normalize=True) * 100).reset_index()"
   ]
  },
  {
   "cell_type": "markdown",
   "metadata": {},
   "source": [
    "#### B1) Barchart (absolute count)"
   ]
  },
  {
   "cell_type": "code",
   "execution_count": 18,
   "metadata": {},
   "outputs": [
    {
     "data": {
      "image/png": "[encoded data removed]",
      "text/plain": [
       "<Figure size 360x216 with 1 Axes>"
      ]
     },
     "metadata": {},
     "output_type": "display_data"
    }
   ],
   "source": [
    "# Prepare data\n",
    "data = tips[\"day\"].value_counts()\n",
    "\n",
    "# Plot\n",
    "fig, ax = plt.subplots(figsize=(5, 3))\n",
    "data.plot.bar(ax=ax) # Try with barh\n",
    "ax.set_ylabel(\"Number of meals\")\n",
    "plt.show()"
   ]
  },
  {
   "cell_type": "markdown",
   "metadata": {},
   "source": [
    "#### B2) Barchart (proportion)"
   ]
  },
  {
   "cell_type": "code",
   "execution_count": 19,
   "metadata": {},
   "outputs": [
    {
     "data": {
      "image/png": "[encoded data removed]",
      "text/plain": [
       "<Figure size 360x216 with 1 Axes>"
      ]
     },
     "metadata": {},
     "output_type": "display_data"
    }
   ],
   "source": [
    "# Prepare data\n",
    "data = tips[\"day\"].value_counts(normalize=True)\n",
    "\n",
    "# Plot\n",
    "fig, ax = plt.subplots(figsize=(5, 3))\n",
    "data.plot.bar(ax=ax) # Try with barh\n",
    "ax.set_ylabel(\"Proportion of meals\")\n",
    "plt.show()"
   ]
  },
  {
   "cell_type": "markdown",
   "metadata": {},
   "source": [
    "#### B3) Barchart (percentage)"
   ]
  },
  {
   "cell_type": "code",
   "execution_count": 20,
   "metadata": {},
   "outputs": [
    {
     "data": {
      "image/png": "[encoded data removed]",
      "text/plain": [
       "<Figure size 360x216 with 1 Axes>"
      ]
     },
     "metadata": {},
     "output_type": "display_data"
    }
   ],
   "source": [
    "# Prepare data\n",
    "data = tips[\"day\"].value_counts(normalize=True) * 100\n",
    "\n",
    "# Plot\n",
    "fig, ax = plt.subplots(figsize=(5, 3))\n",
    "data.plot.bar(ax=ax) # Try with barh\n",
    "ax.set_ylabel(\"Percentage of meals\")\n",
    "plt.show()"
   ]
  },
  {
   "cell_type": "markdown",
   "metadata": {},
   "source": [
    "#### C1) Piechart\n",
    "- Absolute count, proportion, percentage cho ra same plot (vì bản chất pie chart dùng để biểu thị part-to-whole), tức mỗi slice sẽ tương ứng với tỉ lệ % của cả pie.\n",
    "- Không nên dùng pie chart: \n",
    "    - Vì mắt người khó phân biệt được sự khác biệt giữa các pie (đặc biệt các pie có độ lớn xấp xỉ nhau)\n",
    "    - Dễ tra giá trị trên trục tham chiếu\n",
    "- Nên dùng bar chart thay vì pie chart"
   ]
  },
  {
   "cell_type": "code",
   "execution_count": 21,
   "metadata": {},
   "outputs": [
    {
     "data": {
      "image/png": "[encoded data removed]",
      "text/plain": [
       "<Figure size 360x216 with 1 Axes>"
      ]
     },
     "metadata": {},
     "output_type": "display_data"
    }
   ],
   "source": [
    "# Prepare data\n",
    "data = tips[\"day\"].value_counts()\n",
    "\n",
    "# Plot\n",
    "fig, ax = plt.subplots(figsize=(5, 3))\n",
    "data.plot.pie(ax=ax) # Try with barh\n",
    "ax.set_ylabel(\"Percentage of meals\")\n",
    "plt.show()"
   ]
  },
  {
   "cell_type": "code",
   "execution_count": 22,
   "metadata": {},
   "outputs": [
    {
     "data": {
      "image/png": "[encoded data removed]",
      "text/plain": [
       "<Figure size 360x216 with 1 Axes>"
      ]
     },
     "metadata": {},
     "output_type": "display_data"
    }
   ],
   "source": [
    "# Prepare data\n",
    "data = tips[\"day\"].value_counts(normalize=True) * 100\n",
    "\n",
    "# Plot\n",
    "fig, ax = plt.subplots(figsize=(5, 3))\n",
    "data.plot.bar(ax=ax) # Try with barh\n",
    "ax.set_ylabel(\"Percentage of meals (%)\")\n",
    "plt.show()"
   ]
  },
  {
   "cell_type": "markdown",
   "metadata": {},
   "source": [
    "#### D) Practice with other categorical variables"
   ]
  },
  {
   "cell_type": "code",
   "execution_count": 23,
   "metadata": {},
   "outputs": [
    {
     "data": {
      "text/html": [
       "<div>\n",
       "<style scoped>\n",
       "    .dataframe tbody tr th:only-of-type {\n",
       "        vertical-align: middle;\n",
       "    }\n",
       "\n",
       "    .dataframe tbody tr th {\n",
       "        vertical-align: top;\n",
       "    }\n",
       "\n",
       "    .dataframe thead th {\n",
       "        text-align: right;\n",
       "    }\n",
       "</style>\n",
       "<table border=\"1\" class=\"dataframe\">\n",
       "  <thead>\n",
       "    <tr style=\"text-align: right;\">\n",
       "      <th></th>\n",
       "      <th>total_bill</th>\n",
       "      <th>tip</th>\n",
       "      <th>sex</th>\n",
       "      <th>smoker</th>\n",
       "      <th>day</th>\n",
       "      <th>time</th>\n",
       "      <th>size</th>\n",
       "    </tr>\n",
       "  </thead>\n",
       "  <tbody>\n",
       "    <tr>\n",
       "      <th>0</th>\n",
       "      <td>16.99</td>\n",
       "      <td>1.01</td>\n",
       "      <td>Female</td>\n",
       "      <td>No</td>\n",
       "      <td>Sun</td>\n",
       "      <td>Dinner</td>\n",
       "      <td>2</td>\n",
       "    </tr>\n",
       "    <tr>\n",
       "      <th>1</th>\n",
       "      <td>10.34</td>\n",
       "      <td>1.66</td>\n",
       "      <td>Male</td>\n",
       "      <td>No</td>\n",
       "      <td>Sun</td>\n",
       "      <td>Dinner</td>\n",
       "      <td>3</td>\n",
       "    </tr>\n",
       "  </tbody>\n",
       "</table>\n",
       "</div>"
      ],
      "text/plain": [
       "   total_bill   tip     sex smoker  day    time  size\n",
       "0       16.99  1.01  Female     No  Sun  Dinner     2\n",
       "1       10.34  1.66    Male     No  Sun  Dinner     3"
      ]
     },
     "execution_count": 23,
     "metadata": {},
     "output_type": "execute_result"
    }
   ],
   "source": [
    "# View\n",
    "tips.head(2)"
   ]
  },
  {
   "cell_type": "code",
   "execution_count": 24,
   "metadata": {},
   "outputs": [
    {
     "data": {
      "image/png": "[encoded data removed]",
      "text/plain": [
       "<Figure size 432x288 with 1 Axes>"
      ]
     },
     "metadata": {},
     "output_type": "display_data"
    }
   ],
   "source": [
    "# Sex\n",
    "tips[\"sex\"].value_counts().plot.bar()\n",
    "plt.show()"
   ]
  },
  {
   "cell_type": "code",
   "execution_count": 25,
   "metadata": {},
   "outputs": [
    {
     "data": {
      "image/png": "[encoded data removed]",
      "text/plain": [
       "<Figure size 432x288 with 1 Axes>"
      ]
     },
     "metadata": {},
     "output_type": "display_data"
    }
   ],
   "source": [
    "# Sex\n",
    "tips[\"sex\"].value_counts().plot.bar()\n",
    "plt.show()"
   ]
  },
  {
   "cell_type": "code",
   "execution_count": 26,
   "metadata": {},
   "outputs": [
    {
     "data": {
      "image/png": "[encoded data removed]",
      "text/plain": [
       "<Figure size 432x288 with 1 Axes>"
      ]
     },
     "metadata": {},
     "output_type": "display_data"
    }
   ],
   "source": [
    "# Smoker\n",
    "tips[\"smoker\"].value_counts().plot.bar()\n",
    "plt.show()"
   ]
  },
  {
   "cell_type": "code",
   "execution_count": 27,
   "metadata": {},
   "outputs": [
    {
     "data": {
      "image/png": "[encoded data removed]",
      "text/plain": [
       "<Figure size 432x288 with 1 Axes>"
      ]
     },
     "metadata": {},
     "output_type": "display_data"
    }
   ],
   "source": [
    "# Time\n",
    "tips[\"time\"].value_counts().plot.bar()\n",
    "plt.show()"
   ]
  },
  {
   "cell_type": "code",
   "execution_count": 28,
   "metadata": {},
   "outputs": [
    {
     "data": {
      "image/png": "[encoded data removed]",
      "text/plain": [
       "<Figure size 432x288 with 1 Axes>"
      ]
     },
     "metadata": {},
     "output_type": "display_data"
    }
   ],
   "source": [
    "# Size\n",
    "tips[\"size\"].value_counts().sort_index().plot.bar()\n",
    "plt.show()"
   ]
  },
  {
   "cell_type": "code",
   "execution_count": 29,
   "metadata": {},
   "outputs": [
    {
     "data": {
      "image/png": "[encoded data removed]",
      "text/plain": [
       "<Figure size 432x288 with 1 Axes>"
      ]
     },
     "metadata": {},
     "output_type": "display_data"
    }
   ],
   "source": [
    "# Compare with bar chart\n",
    "tips[\"day\"].value_counts().plot.bar()\n",
    "plt.show()"
   ]
  },
  {
   "cell_type": "markdown",
   "metadata": {},
   "source": [
    "## 7. Continuous data"
   ]
  },
  {
   "cell_type": "markdown",
   "metadata": {},
   "source": [
    "### 7.1. Important summary statistics\n",
    "- Measures of location\n",
    "    - Mean (mean, trimmed mean)\n",
    "    - Median\n",
    "    - Percentiles, quantiles\n",
    "    \n",
    "- Measures of variabiliy\n",
    "    - Range\n",
    "    - IQR\n",
    "    - Variance\n",
    "    - Standard deviation"
   ]
  },
  {
   "cell_type": "code",
   "execution_count": 30,
   "metadata": {},
   "outputs": [
    {
     "data": {
      "text/html": [
       "<div>\n",
       "<style scoped>\n",
       "    .dataframe tbody tr th:only-of-type {\n",
       "        vertical-align: middle;\n",
       "    }\n",
       "\n",
       "    .dataframe tbody tr th {\n",
       "        vertical-align: top;\n",
       "    }\n",
       "\n",
       "    .dataframe thead th {\n",
       "        text-align: right;\n",
       "    }\n",
       "</style>\n",
       "<table border=\"1\" class=\"dataframe\">\n",
       "  <thead>\n",
       "    <tr style=\"text-align: right;\">\n",
       "      <th></th>\n",
       "      <th>total_bill</th>\n",
       "      <th>tip</th>\n",
       "      <th>sex</th>\n",
       "      <th>smoker</th>\n",
       "      <th>day</th>\n",
       "      <th>time</th>\n",
       "      <th>size</th>\n",
       "    </tr>\n",
       "  </thead>\n",
       "  <tbody>\n",
       "    <tr>\n",
       "      <th>0</th>\n",
       "      <td>16.99</td>\n",
       "      <td>1.01</td>\n",
       "      <td>Female</td>\n",
       "      <td>No</td>\n",
       "      <td>Sun</td>\n",
       "      <td>Dinner</td>\n",
       "      <td>2</td>\n",
       "    </tr>\n",
       "    <tr>\n",
       "      <th>1</th>\n",
       "      <td>10.34</td>\n",
       "      <td>1.66</td>\n",
       "      <td>Male</td>\n",
       "      <td>No</td>\n",
       "      <td>Sun</td>\n",
       "      <td>Dinner</td>\n",
       "      <td>3</td>\n",
       "    </tr>\n",
       "    <tr>\n",
       "      <th>2</th>\n",
       "      <td>21.01</td>\n",
       "      <td>3.50</td>\n",
       "      <td>Male</td>\n",
       "      <td>No</td>\n",
       "      <td>Sun</td>\n",
       "      <td>Dinner</td>\n",
       "      <td>3</td>\n",
       "    </tr>\n",
       "  </tbody>\n",
       "</table>\n",
       "</div>"
      ],
      "text/plain": [
       "   total_bill   tip     sex smoker  day    time  size\n",
       "0       16.99  1.01  Female     No  Sun  Dinner     2\n",
       "1       10.34  1.66    Male     No  Sun  Dinner     3\n",
       "2       21.01  3.50    Male     No  Sun  Dinner     3"
      ]
     },
     "execution_count": 30,
     "metadata": {},
     "output_type": "execute_result"
    }
   ],
   "source": [
    "# View data\n",
    "tips.head(3)"
   ]
  },
  {
   "cell_type": "markdown",
   "metadata": {},
   "source": [
    "#### 7.1.1. Measures of location"
   ]
  },
  {
   "cell_type": "markdown",
   "metadata": {},
   "source": [
    "##### A. Mean\n",
    "- Middle value (center of gravity) where all the data points center around.\n",
    "- Formula: \n",
    "    - The sum of all values divided by the number of values\n",
    "    - $\\frac{1}{m}\\Sigma_i^m x_i$\n",
    "- Synonym: arithmetic average"
   ]
  },
  {
   "cell_type": "code",
   "execution_count": 31,
   "metadata": {},
   "outputs": [
    {
     "data": {
      "text/plain": [
       "2.9982786885245902"
      ]
     },
     "execution_count": 31,
     "metadata": {},
     "output_type": "execute_result"
    }
   ],
   "source": [
    "# Cách 1\n",
    "tips[\"tip\"].mean()"
   ]
  },
  {
   "cell_type": "code",
   "execution_count": 32,
   "metadata": {},
   "outputs": [
    {
     "data": {
      "text/plain": [
       "2.9982786885245902"
      ]
     },
     "execution_count": 32,
     "metadata": {},
     "output_type": "execute_result"
    }
   ],
   "source": [
    "# Cách 2\n",
    "np.mean(tips[\"tip\"])"
   ]
  },
  {
   "cell_type": "markdown",
   "metadata": {},
   "source": [
    "##### Practice"
   ]
  },
  {
   "cell_type": "code",
   "execution_count": 33,
   "metadata": {},
   "outputs": [],
   "source": [
    "# Số người trung bình mỗi bữa ăn?\n"
   ]
  },
  {
   "cell_type": "code",
   "execution_count": 34,
   "metadata": {},
   "outputs": [],
   "source": [
    "# Total bill trung binh mỗi bữa ăn?\n"
   ]
  },
  {
   "cell_type": "markdown",
   "metadata": {},
   "source": [
    "##### B. Trimmed mean\n",
    "- The average of all values after dropping a fixed number of extreme values (at two ends)\n",
    "- Why: to make the measure more robust to outliers\n",
    "- Synonym: truncated mean \n",
    "- Related terms:\n",
    "    - Outlier: \n",
    "        - A data value that is very different from most of the data\n",
    "        - Synonym: extreme value\n",
    "    - Robust: \n",
    "        - Not sensitive to extreme values.\n",
    "        - Synonym: resistant"
   ]
  },
  {
   "cell_type": "code",
   "execution_count": 35,
   "metadata": {},
   "outputs": [],
   "source": [
    "# Giả lập data\n",
    "salaries = sorted([14, 14, 15, 20, 25, 26, 27, 27, 29, 30, 35, 40, 10, 32, 21, 17, 18, 20])\n",
    "salaries_2 = sorted(salaries + [800, 900])"
   ]
  },
  {
   "cell_type": "code",
   "execution_count": 36,
   "metadata": {},
   "outputs": [
    {
     "name": "stdout",
     "output_type": "stream",
     "text": [
      "[10, 14, 14, 15, 17, 18, 20, 20, 21, 25, 26, 27, 27, 29, 30, 32, 35, 40]\n",
      "[10, 14, 14, 15, 17, 18, 20, 20, 21, 25, 26, 27, 27, 29, 30, 32, 35, 40, 800, 900]\n"
     ]
    }
   ],
   "source": [
    "# View\n",
    "print(salaries)\n",
    "print(salaries_2)"
   ]
  },
  {
   "cell_type": "markdown",
   "metadata": {},
   "source": [
    "- Normal mean"
   ]
  },
  {
   "cell_type": "code",
   "execution_count": 37,
   "metadata": {},
   "outputs": [
    {
     "name": "stdout",
     "output_type": "stream",
     "text": [
      "23.333333333333332\n",
      "106.0\n"
     ]
    }
   ],
   "source": [
    "print(np.mean(salaries))\n",
    "print(np.mean(salaries_2))"
   ]
  },
  {
   "cell_type": "markdown",
   "metadata": {},
   "source": [
    "- 10%-trimmed mean"
   ]
  },
  {
   "cell_type": "code",
   "execution_count": 38,
   "metadata": {},
   "outputs": [],
   "source": [
    "import scipy # Scientific python"
   ]
  },
  {
   "cell_type": "code",
   "execution_count": 39,
   "metadata": {},
   "outputs": [
    {
     "data": {
      "text/plain": [
       "23.125"
      ]
     },
     "execution_count": 39,
     "metadata": {},
     "output_type": "execute_result"
    }
   ],
   "source": [
    "scipy.stats.trim_mean(salaries, 0.1)"
   ]
  },
  {
   "cell_type": "code",
   "execution_count": 40,
   "metadata": {},
   "outputs": [
    {
     "data": {
      "text/plain": [
       "24.75"
      ]
     },
     "execution_count": 40,
     "metadata": {},
     "output_type": "execute_result"
    }
   ],
   "source": [
    "scipy.stats.trim_mean(salaries_2, 0.1)"
   ]
  },
  {
   "cell_type": "markdown",
   "metadata": {},
   "source": [
    "##### C. Median\n",
    "- Middle value where 1/2 of the data point lie below (and above) it. (sorted data)\n",
    "- Synonym: 50 percentile\n",
    "- More robust to outliers than mean"
   ]
  },
  {
   "cell_type": "code",
   "execution_count": 41,
   "metadata": {},
   "outputs": [
    {
     "data": {
      "text/plain": [
       "23.0"
      ]
     },
     "execution_count": 41,
     "metadata": {},
     "output_type": "execute_result"
    }
   ],
   "source": [
    "np.median(salaries)"
   ]
  },
  {
   "cell_type": "code",
   "execution_count": 42,
   "metadata": {},
   "outputs": [
    {
     "data": {
      "text/plain": [
       "25.5"
      ]
     },
     "execution_count": 42,
     "metadata": {},
     "output_type": "execute_result"
    }
   ],
   "source": [
    "np.median(salaries_2)"
   ]
  },
  {
   "cell_type": "markdown",
   "metadata": {},
   "source": [
    "##### D. Percentiles\n",
    "- The value such that P percent of the values take on this value or less and (100–P) percent take on this value or more.\n",
    "- Ranging from 0 to 100\n",
    "- Related terms:\n",
    "    - Quantile: Percentile expressed in decimal (ranging from 0 to 1). E.g: 0.1 quantile is the same as 10th percentile"
   ]
  },
  {
   "cell_type": "code",
   "execution_count": 43,
   "metadata": {},
   "outputs": [
    {
     "data": {
      "text/plain": [
       "67      1.00\n",
       "236     1.00\n",
       "92      1.00\n",
       "111     1.00\n",
       "0       1.01\n",
       "       ...  \n",
       "141     6.70\n",
       "59      6.73\n",
       "23      7.58\n",
       "212     9.00\n",
       "170    10.00\n",
       "Name: tip, Length: 244, dtype: float64"
      ]
     },
     "execution_count": 43,
     "metadata": {},
     "output_type": "execute_result"
    }
   ],
   "source": [
    "# Sort data\n",
    "tips[\"tip\"].sort_values()"
   ]
  },
  {
   "cell_type": "code",
   "execution_count": 44,
   "metadata": {},
   "outputs": [
    {
     "data": {
      "text/plain": [
       "array([ 1. ,  1.5,  2.9,  5. , 10. ])"
      ]
     },
     "execution_count": 44,
     "metadata": {},
     "output_type": "execute_result"
    }
   ],
   "source": [
    "# Quantiles\n",
    "# 0: min\n",
    "# 0.1: 10%\n",
    "# 0.5: 50% (median)\n",
    "# 0.9: 90%\n",
    "# 1: max\n",
    "np.quantile(tips[\"tip\"], [0, 0.1, 0.5, 0.9, 1.])"
   ]
  },
  {
   "cell_type": "code",
   "execution_count": 45,
   "metadata": {},
   "outputs": [
    {
     "data": {
      "text/plain": [
       "array([ 1. ,  1.5,  2.9,  5. , 10. ])"
      ]
     },
     "execution_count": 45,
     "metadata": {},
     "output_type": "execute_result"
    }
   ],
   "source": [
    "# Percentiles\n",
    "# 0: min\n",
    "# 10: 10%\n",
    "# 50: 50% (median)\n",
    "# 90: 90%\n",
    "# 100: max\n",
    "np.percentile(tips[\"tip\"], [0, 10, 50, 90, 100])"
   ]
  },
  {
   "cell_type": "markdown",
   "metadata": {},
   "source": [
    " - Middle: mean, median\n",
    " - Percentile, quantile"
   ]
  },
  {
   "cell_type": "markdown",
   "metadata": {},
   "source": [
    "##### E) Quartiles\n",
    "- First quartile (Q1): 25th percentile\n",
    "- Second quartile: Median\n",
    "- Third quartile (Q2): 75th percentile"
   ]
  },
  {
   "cell_type": "code",
   "execution_count": 46,
   "metadata": {},
   "outputs": [
    {
     "data": {
      "text/plain": [
       "2.0"
      ]
     },
     "execution_count": 46,
     "metadata": {},
     "output_type": "execute_result"
    }
   ],
   "source": [
    "# Q1\n",
    "np.quantile(tips[\"tip\"], 0.25)"
   ]
  },
  {
   "cell_type": "code",
   "execution_count": 47,
   "metadata": {},
   "outputs": [
    {
     "data": {
      "text/plain": [
       "3.5624999999999996"
      ]
     },
     "execution_count": 47,
     "metadata": {},
     "output_type": "execute_result"
    }
   ],
   "source": [
    "# Q3\n",
    "np.quantile(tips[\"tip\"], 0.75)"
   ]
  },
  {
   "cell_type": "markdown",
   "metadata": {},
   "source": [
    "#### 7.1.2. Measures of variability"
   ]
  },
  {
   "cell_type": "markdown",
   "metadata": {},
   "source": [
    "##### A) Variance"
   ]
  },
  {
   "cell_type": "markdown",
   "metadata": {},
   "source": [
    "- First we need to introduce the concept of ***deviation***\n",
    "- ***deviation***: The difference between a value and a refrence value\n",
    "- Synonym: difference, residual"
   ]
  },
  {
   "cell_type": "code",
   "execution_count": 48,
   "metadata": {},
   "outputs": [],
   "source": [
    "# Giả lập data\n",
    "df = tips.loc[:, [\"tip\"]].copy()\n",
    "\n",
    "# Export to excel\n",
    "df.to_excel(\"deviation.xlsx\", index=False)"
   ]
  },
  {
   "cell_type": "code",
   "execution_count": 49,
   "metadata": {},
   "outputs": [
    {
     "data": {
      "text/html": [
       "<div>\n",
       "<style scoped>\n",
       "    .dataframe tbody tr th:only-of-type {\n",
       "        vertical-align: middle;\n",
       "    }\n",
       "\n",
       "    .dataframe tbody tr th {\n",
       "        vertical-align: top;\n",
       "    }\n",
       "\n",
       "    .dataframe thead th {\n",
       "        text-align: right;\n",
       "    }\n",
       "</style>\n",
       "<table border=\"1\" class=\"dataframe\">\n",
       "  <thead>\n",
       "    <tr style=\"text-align: right;\">\n",
       "      <th></th>\n",
       "      <th>tip</th>\n",
       "    </tr>\n",
       "  </thead>\n",
       "  <tbody>\n",
       "    <tr>\n",
       "      <th>0</th>\n",
       "      <td>1.01</td>\n",
       "    </tr>\n",
       "    <tr>\n",
       "      <th>1</th>\n",
       "      <td>1.66</td>\n",
       "    </tr>\n",
       "    <tr>\n",
       "      <th>2</th>\n",
       "      <td>3.50</td>\n",
       "    </tr>\n",
       "  </tbody>\n",
       "</table>\n",
       "</div>"
      ],
      "text/plain": [
       "    tip\n",
       "0  1.01\n",
       "1  1.66\n",
       "2  3.50"
      ]
     },
     "execution_count": 49,
     "metadata": {},
     "output_type": "execute_result"
    }
   ],
   "source": [
    "# View\n",
    "df.head(3)"
   ]
  },
  {
   "cell_type": "markdown",
   "metadata": {},
   "source": [
    "Mở file excel `deviation.xlsx` vừa export và làm theo hướng dẫn:\n",
    "    \n",
    "1. Tạo 1 cell là mean của cột `tip`\n",
    "1. Tạo cột `tip_diff` cạnh cột `tip` bằng cách lấy cột `tip` trừ đi cell `mean` vừa tính được\n",
    "1. Tạo cột `tip_diff_2` là square của `tip_diff`\n",
    "1. Tạo 1 cell tính mean của cột `tip_diff_2` -> Kết quả: `1.906608512`\n",
    "1. Kết quả trên chính là variance: $\\frac{1}{n - 1}\\Sigma(x_i - \\bar{x})^2$"
   ]
  },
  {
   "cell_type": "markdown",
   "metadata": {},
   "source": [
    "Ý nghĩa của variance:\n",
    "\n",
    "1. Trường hợp lý tưởng: tất cả các meal đều có tiền tip là 1 USD\n",
    "    - => mean = 1 \n",
    "    - => tất cả deviation = 0\n",
    "    - => tất cả square của deviation = 0\n",
    "    - => sum of square of deviations = 0\n",
    "    - => variance = 0\n",
    "    - Tức không có variation giữa các observation, nói cách khác: các data points hoàn toàn đồng nhất về khía cạnh tiền tip\n",
    "    \n",
    "1. Trong thực tế, các bữa ăn khác nhau thông thường sẽ có giá trị tip khác nhau:\n",
    "    - => từng giá trị tip riêng lẻ sẽ khác mean\n",
    "    - => các deviation sẽ khác 0\n",
    "    - => square of deviation sẽ là số dương\n",
    "    - => sum of square of deviations sẽ là một số dương. Các deviation đơn lẻ có giá trị càng lớn thì dẫn đến sum này càng lớn\n",
    "    - => variance là số dương\n",
    "    - Variance càng lớn thể hiện data càng không đồng nhất, tức: \n",
    "        - a) càng có nhiều data points lệch ra khỏi mean\n",
    "        - b) có data points lệch xa khỏi mean\n",
    "        - c) hoặc cả a và b\n",
    "        \n",
    "    - Vì vậy variance dùng để phản ánh mức độ không đồng nhất của data\n",
    "    - Data càng đồng nhất (var nhỏ) thì distribution càng ốm (thin/slim)\n",
    "    - Data  càng không đồng nhất (var lớn) thì distribution càng mập (fat)"
   ]
  },
  {
   "cell_type": "code",
   "execution_count": 50,
   "metadata": {},
   "outputs": [
    {
     "data": {
      "text/plain": [
       "1.9066085124966428"
      ]
     },
     "execution_count": 50,
     "metadata": {},
     "output_type": "execute_result"
    }
   ],
   "source": [
    "# Lặp lại thao tác với excel ở trên, dùng pandas\n",
    "# Tiện lợi hơn, không phải tạo cột phụ, cell phụ\n",
    "np.mean((df[\"tip\"] - df[\"tip\"].mean()) ** 2)"
   ]
  },
  {
   "cell_type": "code",
   "execution_count": 51,
   "metadata": {},
   "outputs": [
    {
     "data": {
      "text/plain": [
       "1.9144546380624725"
      ]
     },
     "execution_count": 51,
     "metadata": {},
     "output_type": "execute_result"
    }
   ],
   "source": [
    "# Thực tế dùng .var()\n",
    "# Số sẽ lệch 1 chút vì sample variance chia cho N-1, không phải N\n",
    "# Tuy nhiên ko quan trọng\n",
    "df[\"tip\"].var()"
   ]
  },
  {
   "cell_type": "markdown",
   "metadata": {},
   "source": [
    "#### B. Standard deviation\n",
    "- The square root of the variance (same unit as the variable)\n",
    "- Gives a sense of how far away the data points are from the mean\n",
    "- High SD: fat-looking, data more spreadout, more diverse\n",
    "- Low SD: thin-looking, data more concentrated, more homogenous\n",
    "- Normal distribution: `68–95–99.7 rule`"
   ]
  },
  {
   "cell_type": "code",
   "execution_count": 52,
   "metadata": {},
   "outputs": [
    {
     "data": {
      "text/plain": [
       "1.3836381890011826"
      ]
     },
     "execution_count": 52,
     "metadata": {},
     "output_type": "execute_result"
    }
   ],
   "source": [
    "# Square root of var\n",
    "np.sqrt(tips[\"tip\"].var())"
   ]
  },
  {
   "cell_type": "code",
   "execution_count": 53,
   "metadata": {},
   "outputs": [
    {
     "data": {
      "text/plain": [
       "1.3836381890011826"
      ]
     },
     "execution_count": 53,
     "metadata": {},
     "output_type": "execute_result"
    }
   ],
   "source": [
    "# STD\n",
    "tips[\"tip\"].std()"
   ]
  },
  {
   "cell_type": "markdown",
   "metadata": {},
   "source": [
    "#### C. Range\n",
    "- The difference between the largest and the smallest value in a data set."
   ]
  },
  {
   "cell_type": "code",
   "execution_count": 54,
   "metadata": {},
   "outputs": [
    {
     "data": {
      "text/plain": [
       "9.0"
      ]
     },
     "execution_count": 54,
     "metadata": {},
     "output_type": "execute_result"
    }
   ],
   "source": [
    "# Range of tip\n",
    "tips[\"tip\"].max() -tips[\"tip\"].min()"
   ]
  },
  {
   "cell_type": "markdown",
   "metadata": {},
   "source": [
    "#### D. Inter-Quartile Range (IQR)\n",
    "- The difference between the 75th percentile and the 25th percentile.\n",
    "- Just two ends that cover the middle half of the data.\n",
    "- Gives a sense of how the middle half of the data spread out\n",
    "- Why:\n",
    "    - Giảm thiểu ảnh hưởng của outlier\n",
    "    - Tương tự như trimmed mean"
   ]
  },
  {
   "cell_type": "markdown",
   "metadata": {},
   "source": [
    "```\n",
    "MIN ---------- Q1 ---------- MEDIAN ---------- Q3 ---------- MAX\n",
    "|--------------|================================| -------------|\n",
    "```"
   ]
  },
  {
   "cell_type": "code",
   "execution_count": 55,
   "metadata": {},
   "outputs": [
    {
     "data": {
      "text/plain": [
       "1.5624999999999996"
      ]
     },
     "execution_count": 55,
     "metadata": {},
     "output_type": "execute_result"
    }
   ],
   "source": [
    "# Cách 1\n",
    "q1, q3 = np.quantile(tips[\"tip\"], [.25, .75])\n",
    "q3 - q1"
   ]
  },
  {
   "cell_type": "code",
   "execution_count": 56,
   "metadata": {},
   "outputs": [
    {
     "data": {
      "text/plain": [
       "1.5624999999999996"
      ]
     },
     "execution_count": 56,
     "metadata": {},
     "output_type": "execute_result"
    }
   ],
   "source": [
    "# Cach 2\n",
    "scipy.stats.iqr(tips[\"tip\"])"
   ]
  },
  {
   "cell_type": "markdown",
   "metadata": {},
   "source": [
    "##### E) Quickly display summary statistics"
   ]
  },
  {
   "cell_type": "code",
   "execution_count": 57,
   "metadata": {},
   "outputs": [
    {
     "data": {
      "text/plain": [
       "count    244.000000\n",
       "mean       2.998279\n",
       "std        1.383638\n",
       "min        1.000000\n",
       "25%        2.000000\n",
       "50%        2.900000\n",
       "75%        3.562500\n",
       "max       10.000000\n",
       "Name: tip, dtype: float64"
      ]
     },
     "execution_count": 57,
     "metadata": {},
     "output_type": "execute_result"
    }
   ],
   "source": [
    "# For Series\n",
    "df[\"tip\"].describe()"
   ]
  },
  {
   "cell_type": "code",
   "execution_count": 58,
   "metadata": {},
   "outputs": [
    {
     "data": {
      "text/html": [
       "<div>\n",
       "<style scoped>\n",
       "    .dataframe tbody tr th:only-of-type {\n",
       "        vertical-align: middle;\n",
       "    }\n",
       "\n",
       "    .dataframe tbody tr th {\n",
       "        vertical-align: top;\n",
       "    }\n",
       "\n",
       "    .dataframe thead th {\n",
       "        text-align: right;\n",
       "    }\n",
       "</style>\n",
       "<table border=\"1\" class=\"dataframe\">\n",
       "  <thead>\n",
       "    <tr style=\"text-align: right;\">\n",
       "      <th></th>\n",
       "      <th>total_bill</th>\n",
       "      <th>tip</th>\n",
       "      <th>size</th>\n",
       "    </tr>\n",
       "  </thead>\n",
       "  <tbody>\n",
       "    <tr>\n",
       "      <th>count</th>\n",
       "      <td>244.000000</td>\n",
       "      <td>244.000000</td>\n",
       "      <td>244.000000</td>\n",
       "    </tr>\n",
       "    <tr>\n",
       "      <th>mean</th>\n",
       "      <td>19.785943</td>\n",
       "      <td>2.998279</td>\n",
       "      <td>2.569672</td>\n",
       "    </tr>\n",
       "    <tr>\n",
       "      <th>std</th>\n",
       "      <td>8.902412</td>\n",
       "      <td>1.383638</td>\n",
       "      <td>0.951100</td>\n",
       "    </tr>\n",
       "    <tr>\n",
       "      <th>min</th>\n",
       "      <td>3.070000</td>\n",
       "      <td>1.000000</td>\n",
       "      <td>1.000000</td>\n",
       "    </tr>\n",
       "    <tr>\n",
       "      <th>25%</th>\n",
       "      <td>13.347500</td>\n",
       "      <td>2.000000</td>\n",
       "      <td>2.000000</td>\n",
       "    </tr>\n",
       "    <tr>\n",
       "      <th>50%</th>\n",
       "      <td>17.795000</td>\n",
       "      <td>2.900000</td>\n",
       "      <td>2.000000</td>\n",
       "    </tr>\n",
       "    <tr>\n",
       "      <th>75%</th>\n",
       "      <td>24.127500</td>\n",
       "      <td>3.562500</td>\n",
       "      <td>3.000000</td>\n",
       "    </tr>\n",
       "    <tr>\n",
       "      <th>max</th>\n",
       "      <td>50.810000</td>\n",
       "      <td>10.000000</td>\n",
       "      <td>6.000000</td>\n",
       "    </tr>\n",
       "  </tbody>\n",
       "</table>\n",
       "</div>"
      ],
      "text/plain": [
       "       total_bill         tip        size\n",
       "count  244.000000  244.000000  244.000000\n",
       "mean    19.785943    2.998279    2.569672\n",
       "std      8.902412    1.383638    0.951100\n",
       "min      3.070000    1.000000    1.000000\n",
       "25%     13.347500    2.000000    2.000000\n",
       "50%     17.795000    2.900000    2.000000\n",
       "75%     24.127500    3.562500    3.000000\n",
       "max     50.810000   10.000000    6.000000"
      ]
     },
     "execution_count": 58,
     "metadata": {},
     "output_type": "execute_result"
    }
   ],
   "source": [
    "# For DataFrame\n",
    "tips.describe()"
   ]
  },
  {
   "cell_type": "markdown",
   "metadata": {},
   "source": [
    "#### 7.2. Characterize continuous distributions"
   ]
  },
  {
   "cell_type": "markdown",
   "metadata": {},
   "source": [
    "- **Tables:**\n",
    "    - Binned frequency table\n",
    "    \n",
    "- **Plots:**\n",
    "    - Histogram (cloned version bar chart for continuous data)\n",
    "    - KDEs (smooth form of histogram)\n",
    "    - Box plots"
   ]
  },
  {
   "cell_type": "markdown",
   "metadata": {},
   "source": [
    "##### A1. (Binned) Frequency tables\n",
    "- Should not tally every single values (just to many)\n",
    "- For continuous data, should apply binning the data first\n",
    "- The action is called binning or discretizing (making continuous data become categorical data)"
   ]
  },
  {
   "cell_type": "code",
   "execution_count": 59,
   "metadata": {},
   "outputs": [
    {
     "data": {
      "text/plain": [
       "0      1.01\n",
       "1      1.66\n",
       "2      3.50\n",
       "3      3.31\n",
       "4      3.61\n",
       "       ... \n",
       "239    5.92\n",
       "240    2.00\n",
       "241    2.00\n",
       "242    1.75\n",
       "243    3.00\n",
       "Name: tip, Length: 244, dtype: float64"
      ]
     },
     "execution_count": 59,
     "metadata": {},
     "output_type": "execute_result"
    }
   ],
   "source": [
    "# View data\n",
    "tips[\"tip\"] # Contious -> categorical: discretize"
   ]
  },
  {
   "cell_type": "code",
   "execution_count": 60,
   "metadata": {},
   "outputs": [],
   "source": [
    "# Cut data\n",
    "tips_cut = pd.cut(tips[\"tip\"], 10, right=False).value_counts().sort_index()"
   ]
  },
  {
   "cell_type": "code",
   "execution_count": 61,
   "metadata": {},
   "outputs": [
    {
     "data": {
      "text/plain": [
       "[1.0, 1.9)       41\n",
       "[1.9, 2.8)       79\n",
       "[2.8, 3.7)       66\n",
       "[3.7, 4.6)       27\n",
       "[4.6, 5.5)       19\n",
       "[5.5, 6.4)        5\n",
       "[6.4, 7.3)        4\n",
       "[7.3, 8.2)        1\n",
       "[8.2, 9.1)        1\n",
       "[9.1, 10.009)     1\n",
       "Name: tip, dtype: int64"
      ]
     },
     "execution_count": 61,
     "metadata": {},
     "output_type": "execute_result"
    }
   ],
   "source": [
    "# Binned frequency table\n",
    "tips_cut"
   ]
  },
  {
   "cell_type": "code",
   "execution_count": 62,
   "metadata": {},
   "outputs": [
    {
     "data": {
      "image/png": "[encoded data removed]",
      "text/plain": [
       "<Figure size 432x288 with 1 Axes>"
      ]
     },
     "metadata": {},
     "output_type": "display_data"
    }
   ],
   "source": [
    "# Plot bar chart\n",
    "tips_cut.sort_index().plot.bar()\n",
    "plt.show()"
   ]
  },
  {
   "cell_type": "markdown",
   "metadata": {},
   "source": [
    "##### B1. Histogram\n",
    "- Just a cloned version of barchart (above) for continuous data\n",
    "- Firts, we bin the data into bins with equal width\n",
    "- The treat each bin as a category, but consecutive (right order, no gap between bars)\n",
    "- The emphasis is **CONTINUOUS**\n",
    "- If the is a gap, it means there is an empty bin"
   ]
  },
  {
   "cell_type": "code",
   "execution_count": 63,
   "metadata": {},
   "outputs": [
    {
     "data": {
      "image/png": "[encoded data removed]",
      "text/plain": [
       "<Figure size 432x288 with 1 Axes>"
      ]
     },
     "metadata": {},
     "output_type": "display_data"
    }
   ],
   "source": [
    "# Plot histogram\n",
    "fig, ax = plt.subplots()\n",
    "tips[\"tip\"].plot.hist(bins=10, edgecolor=\"black\", ax=ax)\n",
    "plt.show()"
   ]
  },
  {
   "cell_type": "markdown",
   "metadata": {},
   "source": [
    "##### B2. Kernel Density Estimate (KDE)\n",
    "- Can be thought of a *smooth histogram*\n",
    "- Represent the true underlying hypothetical distribution that generates the data (i.e. if we were obtain *all* the data points of the distribution, we would get the KDE, which is impossible in practice)"
   ]
  },
  {
   "cell_type": "code",
   "execution_count": 64,
   "metadata": {},
   "outputs": [
    {
     "data": {
      "image/png": "[encoded data removed]",
      "text/plain": [
       "<Figure size 432x288 with 1 Axes>"
      ]
     },
     "metadata": {},
     "output_type": "display_data"
    }
   ],
   "source": [
    "# Plot KDE and histogram on the same Axes\n",
    "# Must set density=True to plot normalized historgram (not absolute)\n",
    "fig, ax = plt.subplots()\n",
    "\n",
    "tips[\"tip\"].plot.hist(bins=10, density=True, edgecolor=\"black\", ax=ax)\n",
    "tips[\"tip\"].plot.kde(ax=ax)\n",
    "plt.show()"
   ]
  },
  {
   "cell_type": "markdown",
   "metadata": {},
   "source": [
    "##### B3. Boxplot (box-and-whisker plot)\n",
    "- A concise way of visualizing five-number summary in a single plot\n",
    "- Five-number summary: min, q1, median, q3, maximum\n",
    "- Component of the boxplot:\n",
    "    - Lowest value: minimum\n",
    "    - Highest value: maximum\n",
    "    - Lower edge of the box: q1\n",
    "    - Upper edge of the box: q3\n",
    "    - Circles: suspected outliers\n",
    "        - 1.5IQR up away from q3\n",
    "        - 1.5IQR down away from q1\n",
    "    - Vertical lines from the box: whiskers\n",
    "    - Horizontal lines at the end of the whiskers\n",
    "        - If has outliers: q1 - 1.5IQR and q3 + 1.5IQR\n",
    "        - If has no outliers: min and max\n",
    "    - The box: half of the data in the middle"
   ]
  },
  {
   "cell_type": "code",
   "execution_count": 65,
   "metadata": {},
   "outputs": [
    {
     "data": {
      "image/png": "[encoded data removed]",
      "text/plain": [
       "<Figure size 432x288 with 1 Axes>"
      ]
     },
     "metadata": {},
     "output_type": "display_data"
    }
   ],
   "source": [
    "# Boxplot for all data points\n",
    "tips[\"tip\"].plot.box()\n",
    "plt.show()"
   ]
  },
  {
   "cell_type": "code",
   "execution_count": 66,
   "metadata": {},
   "outputs": [
    {
     "data": {
      "image/png": "[encoded data removed]",
      "text/plain": [
       "<Figure size 432x288 with 1 Axes>"
      ]
     },
     "metadata": {},
     "output_type": "display_data"
    }
   ],
   "source": [
    "# Boxplot removed outliers\n",
    "tips[\"tip\"].plot.box(showfliers=False)\n",
    "plt.show()"
   ]
  },
  {
   "cell_type": "code",
   "execution_count": 67,
   "metadata": {},
   "outputs": [
    {
     "data": {
      "image/png": "[encoded data removed]",
      "text/plain": [
       "<Figure size 432x288 with 1 Axes>"
      ]
     },
     "metadata": {},
     "output_type": "display_data"
    }
   ],
   "source": [
    "# Horizontal boxplot\n",
    "tips[\"tip\"].plot.box(vert=False)\n",
    "plt.show()"
   ]
  }
 ],
 "metadata": {
  "kernelspec": {
   "display_name": "Python 3",
   "language": "python",
   "name": "python3"
  },
  "language_info": {
   "codemirror_mode": {
    "name": "ipython",
    "version": 3
   },
   "file_extension": ".py",
   "mimetype": "text/x-python",
   "name": "python",
   "nbconvert_exporter": "python",
   "pygments_lexer": "ipython3",
   "version": "3.8.3"
  }
 },
 "nbformat": 4,
 "nbformat_minor": 4
}
